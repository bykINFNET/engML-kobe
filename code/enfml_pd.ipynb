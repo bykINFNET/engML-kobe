{
 "cells": [
  {
   "cell_type": "code",
   "execution_count": 1,
   "id": "6dd4bb36-279e-43e0-bb37-b6b5101df82e",
   "metadata": {},
   "outputs": [],
   "source": [
    "import os\n",
    "import pandas as pd\n",
    "import numpy as np\n",
    "\n",
    "import pycaret.classification as pc\n",
    "from pycaret.classification import *\n",
    "\n",
    "import matplotlib.pyplot as plt\n",
    "import seaborn as sns\n",
    "\n",
    "import mlflow\n",
    "from mlflow.models.signature import infer_signature\n",
    "from mlflow.tracking import MlflowClient\n",
    "\n",
    "from sklearn.model_selection import validation_curve, train_test_split\n",
    "from sklearn import tree  #, preprocessing, metrics, model_selection, linear_model\n",
    "from sklearn.metrics import log_loss, f1_score, roc_curve\n",
    "\n",
    "# from urllib.parse import urlparse\n",
    "# import logging"
   ]
  },
  {
   "cell_type": "code",
   "execution_count": 2,
   "id": "96e09fcf",
   "metadata": {},
   "outputs": [],
   "source": [
    "# Funções Auxiliares\n",
    "\n",
    "def plot_parameter_validation_curve(X, Y, param_name, grid_search,\n",
    "                                    model, model_name, scoring,\n",
    "                                    logx):\n",
    "    print('Parameter:', param_name)\n",
    "    print('GridSearch:', grid_search[param_name])\n",
    "    print('Scoring:', scoring)\n",
    "    plt.figure(figsize=(6,4))\n",
    "    train_scores, test_scores = validation_curve(model,\n",
    "                                                 X = X, \n",
    "                                                 y = Y, \n",
    "                                                 param_name=param_name, \n",
    "                                                 param_range= grid_search[param_name],\n",
    "                                                 scoring=scoring,\n",
    "                                                 cv=10,\n",
    "                                                 n_jobs=-1)\n",
    "    train_scores_mean = np.mean(train_scores, axis=1)\n",
    "    train_scores_std = np.std(train_scores, axis=1)\n",
    "    test_scores_mean = np.mean(test_scores, axis=1)\n",
    "    test_scores_std = np.std(test_scores, axis=1)\n",
    "    plt.title(\"Curva Validação Modelo \" + model_name)\n",
    "    plt.xlabel(param_name)\n",
    "    plt.ylabel(\"Score (\"+scoring+\")\")\n",
    "    if logx:\n",
    "        plt.semilogx(grid_search[param_name], train_scores_mean,'-o', label=\"Treino\",\n",
    "                     color=\"darkorange\", lw=2)\n",
    "        plt.semilogx(grid_search[param_name], test_scores_mean,'-o', label=\"Validação-Cruzada\",\n",
    "                     color=\"navy\", lw=2)\n",
    "    else:\n",
    "        plt.plot(grid_search[param_name], train_scores_mean,'-o', label=\"Treino\",\n",
    "                     color=\"darkorange\", lw=2)\n",
    "        plt.plot(grid_search[param_name], test_scores_mean,'-o', label=\"Validação-Cruzada\",\n",
    "                 color=\"navy\", lw=2)\n",
    "    plt.fill_between(grid_search[param_name], train_scores_mean - train_scores_std,\n",
    "                     train_scores_mean + train_scores_std, alpha=0.2,\n",
    "                     color=\"darkorange\", lw=2)\n",
    "    plt.fill_between(grid_search[param_name], test_scores_mean - test_scores_std,\n",
    "                     test_scores_mean + test_scores_std, alpha=0.2,\n",
    "                     color=\"navy\", lw=2)\n",
    "    plt.legend(loc='best')\n",
    "    plt.grid(True)\n",
    " \n",
    "def plot_parameter_validation_curve_close():    \n",
    "    plt.show()\n",
    "    plt.close()\n",
    "\n",
    "\n",
    "# Funcao que testa a convergencia de um treinamento pela sua curva de aprendizado\n",
    "def plot_learning_curve(model, model_name, scoring, train_sizes):\n",
    "    plt.figure(figsize=(6,4))\n",
    "    ax = plt.gca()\n",
    "        \n",
    "    ax.set_title('Curva de Aprendizado (%s)'%model_name)\n",
    "    ax.set_xlabel(\"Exemplos do Treino\")\n",
    "    ax.set_ylabel(\"Score (\" + scoring + \")\")\n",
    "\n",
    "    train_sizes, train_scores, test_scores = learning_curve(model,\n",
    "                                                            X = xtrain,\n",
    "                                                            y = ytrain,\n",
    "                                                            cv=cvfold,\n",
    "                                                            n_jobs=-1,\n",
    "                                                            train_sizes=train_sizes,\n",
    "                                                            scoring=scoring)\n",
    "    train_scores_mean = np.mean(train_scores, axis=1)\n",
    "    train_scores_std = np.std(train_scores, axis=1)\n",
    "    test_scores_mean = np.mean(test_scores, axis=1)\n",
    "    test_scores_std = np.std(test_scores, axis=1)\n",
    "    \n",
    "    # Plot learning curve\n",
    "    ax.grid()\n",
    "    ax.plot(train_sizes, train_scores_mean, 'o-', color=\"darkorange\",\n",
    "                 label=\"Treino\")\n",
    "    ax.plot(train_sizes, test_scores_mean, 'o-', color=\"navy\",\n",
    "                 label=\"Validação-cruzada\")\n",
    "    ax.fill_between(train_sizes, train_scores_mean - train_scores_std,\n",
    "                         train_scores_mean + train_scores_std, alpha=0.1,\n",
    "                         color=\"darkorange\")\n",
    "    ax.fill_between(train_sizes, test_scores_mean - test_scores_std,\n",
    "                         test_scores_mean + test_scores_std, alpha=0.1,\n",
    "                         color=\"navy\")\n",
    "    ax.legend(loc=\"best\")\n",
    "    plt.show()"
   ]
  },
  {
   "cell_type": "markdown",
   "id": "7c3dfec7",
   "metadata": {},
   "source": [
    "### Configurar MLFlow"
   ]
  },
  {
   "cell_type": "code",
   "execution_count": 3,
   "id": "a7ff6750",
   "metadata": {},
   "outputs": [
    {
     "name": "stderr",
     "output_type": "stream",
     "text": [
      "2024/04/24 12:32:56 INFO mlflow.store.db.utils: Creating initial MLflow database tables...\n",
      "2024/04/24 12:32:56 INFO mlflow.store.db.utils: Updating database tables\n",
      "INFO  [alembic.runtime.migration] Context impl SQLiteImpl.\n",
      "INFO  [alembic.runtime.migration] Will assume non-transactional DDL.\n",
      "INFO  [alembic.runtime.migration] Running upgrade  -> 451aebb31d03, add metric step\n",
      "INFO  [alembic.runtime.migration] Running upgrade 451aebb31d03 -> 90e64c465722, migrate user column to tags\n",
      "INFO  [alembic.runtime.migration] Running upgrade 90e64c465722 -> 181f10493468, allow nulls for metric values\n",
      "INFO  [alembic.runtime.migration] Running upgrade 181f10493468 -> df50e92ffc5e, Add Experiment Tags Table\n",
      "INFO  [alembic.runtime.migration] Running upgrade df50e92ffc5e -> 7ac759974ad8, Update run tags with larger limit\n",
      "INFO  [alembic.runtime.migration] Running upgrade 7ac759974ad8 -> 89d4b8295536, create latest metrics table\n",
      "INFO  [89d4b8295536_create_latest_metrics_table_py] Migration complete!\n",
      "INFO  [alembic.runtime.migration] Running upgrade 89d4b8295536 -> 2b4d017a5e9b, add model registry tables to db\n",
      "INFO  [2b4d017a5e9b_add_model_registry_tables_to_db_py] Adding registered_models and model_versions tables to database.\n",
      "INFO  [2b4d017a5e9b_add_model_registry_tables_to_db_py] Migration complete!\n",
      "INFO  [alembic.runtime.migration] Running upgrade 2b4d017a5e9b -> cfd24bdc0731, Update run status constraint with killed\n",
      "INFO  [alembic.runtime.migration] Running upgrade cfd24bdc0731 -> 0a8213491aaa, drop_duplicate_killed_constraint\n",
      "INFO  [alembic.runtime.migration] Running upgrade 0a8213491aaa -> 728d730b5ebd, add registered model tags table\n",
      "INFO  [alembic.runtime.migration] Running upgrade 728d730b5ebd -> 27a6a02d2cf1, add model version tags table\n",
      "INFO  [alembic.runtime.migration] Running upgrade 27a6a02d2cf1 -> 84291f40a231, add run_link to model_version\n",
      "INFO  [alembic.runtime.migration] Running upgrade 84291f40a231 -> a8c4a736bde6, allow nulls for run_id\n",
      "INFO  [alembic.runtime.migration] Running upgrade a8c4a736bde6 -> 39d1c3be5f05, add_is_nan_constraint_for_metrics_tables_if_necessary\n",
      "INFO  [alembic.runtime.migration] Running upgrade 39d1c3be5f05 -> c48cb773bb87, reset_default_value_for_is_nan_in_metrics_table_for_mysql\n",
      "INFO  [alembic.runtime.migration] Running upgrade c48cb773bb87 -> bd07f7e963c5, create index on run_uuid\n",
      "INFO  [alembic.runtime.migration] Running upgrade bd07f7e963c5 -> 0c779009ac13, add deleted_time field to runs table\n",
      "INFO  [alembic.runtime.migration] Running upgrade 0c779009ac13 -> cc1f77228345, change param value length to 500\n",
      "INFO  [alembic.runtime.migration] Running upgrade cc1f77228345 -> 97727af70f4d, Add creation_time and last_update_time to experiments table\n",
      "INFO  [alembic.runtime.migration] Running upgrade 97727af70f4d -> 3500859a5d39, Add Model Aliases table\n",
      "INFO  [alembic.runtime.migration] Running upgrade 3500859a5d39 -> 7f2a7d5fae7d, add datasets inputs input_tags tables\n",
      "INFO  [alembic.runtime.migration] Running upgrade 7f2a7d5fae7d -> 2d6e25af4d3e, increase max param val length from 500 to 8000\n",
      "INFO  [alembic.runtime.migration] Running upgrade 2d6e25af4d3e -> acf3f17fdcc7, add storage location field to model versions\n",
      "INFO  [alembic.runtime.migration] Context impl SQLiteImpl.\n",
      "INFO  [alembic.runtime.migration] Will assume non-transactional DDL.\n"
     ]
    }
   ],
   "source": [
    "# Para usar o sqlite como repositorio\n",
    "\n",
    "mlflow.set_tracking_uri(\"sqlite:///mlruns.db\")\n",
    "\n",
    "experiment_name = 'Projeto Black Mamba'\n",
    "\n",
    "experiment = mlflow.get_experiment_by_name(experiment_name)\n",
    "\n",
    "if experiment is None:\n",
    "\n",
    "    experiment_id = mlflow.create_experiment(experiment_name)\n",
    "\n",
    "    experiment = mlflow.get_experiment(experiment_id)\n",
    "\n",
    "experiment_id = experiment.experiment_id"
   ]
  },
  {
   "cell_type": "markdown",
   "id": "65b44b66",
   "metadata": {},
   "source": [
    "### Preparação de Dados"
   ]
  },
  {
   "cell_type": "markdown",
   "id": "1118de0e",
   "metadata": {},
   "source": [
    "6.a. Os dados devem estar localizados em \"/data/raw/dataset_kobe_dev.parquet\" e \"/data/raw/dataset_kobe_prod.parquet\"  "
   ]
  },
  {
   "cell_type": "code",
   "execution_count": 4,
   "id": "141cad02",
   "metadata": {},
   "outputs": [
    {
     "name": "stdout",
     "output_type": "stream",
     "text": [
      "os arquivos na pasta raw > ['dataset_kobe_dev.parquet', 'dataset_kobe_prod.parquet']\n"
     ]
    }
   ],
   "source": [
    "PATH_DATA_RAW = '../data/raw/'\n",
    "\n",
    "PATH_DATA_PROCESSED = '../data/processed/'\n",
    "\n",
    "result = os.listdir(PATH_DATA_RAW)\n",
    "\n",
    "print(f\"\"\"os arquivos na pasta raw > {result}\"\"\")"
   ]
  },
  {
   "cell_type": "markdown",
   "id": "1dc364cd",
   "metadata": {},
   "source": [
    "6.b. Observe que há dados faltantes na base de dados! As linhas que possuem dados faltantes devem ser desconsideradas. Para esse exercício serão apenas consideradas as colunas:  \n",
    "* lat \n",
    "* lng \n",
    "* minutes remaining \n",
    "* period \n",
    "* playoffs \n",
    "* shot_distance"
   ]
  },
  {
   "cell_type": "code",
   "execution_count": 5,
   "id": "2c2f6ded",
   "metadata": {},
   "outputs": [],
   "source": [
    "data_cols = ['lat', 'lon', 'minutes_remaining', 'period', 'playoffs', 'shot_distance', 'shot_made_flag']\n",
    "\n",
    "COL_TARGET = data_cols[-1]      # 'shot_made_flag' {'success': 1, 'fail': 0}\n",
    "\n",
    "COL_FEATURES = data_cols[:-1]   # ['lat', 'lon', 'minutes_remaining', 'period', 'playoffs', 'shot_distance']"
   ]
  },
  {
   "cell_type": "markdown",
   "id": "e6127525",
   "metadata": {},
   "source": [
    "> Exploração de Dados"
   ]
  },
  {
   "cell_type": "code",
   "execution_count": 6,
   "id": "4ef2474f",
   "metadata": {},
   "outputs": [
    {
     "name": "stdout",
     "output_type": "stream",
     "text": [
      "DataFrame Shape (Antes): (24271, 7)\n",
      "DataFrame Shape (Apos): (20285, 7)\n"
     ]
    }
   ],
   "source": [
    "PATH_FIG = '../output/fig/'\n",
    "\n",
    "PATH_DESC = '../output/exploratory/'\n",
    "\n",
    "PATH_FIG_PAIRPLOT = PATH_FIG + 'pairplot.png'\n",
    "\n",
    "PATH_FIG_HIST_SHOTMADE = PATH_FIG + 'hist_shotmade.png'\n",
    "\n",
    "PATH_FIG_HIST_PERIOD_PLAYOFF = PATH_FIG + 'hist_period_playoff.png'\n",
    "\n",
    "PATH_DESC_BEFORE = PATH_DESC + 'desc_before.html'\n",
    "\n",
    "PATH_INFO_BEFORE = PATH_DESC + 'info_before.txt'\n",
    "\n",
    "PATH_DESC_AFTER = PATH_DESC + 'desc_after.html'\n",
    "\n",
    "PATH_INFO_AFTER = PATH_DESC + 'info_after.txt'\n",
    "\n",
    "PATH_DESC_NAN_DATA = PATH_DESC + 'desc_nan.html'\n",
    "\n",
    "PATH_DESC_NUMBER_DATA = PATH_DESC + 'desc_number.html'\n",
    "\n",
    "FILE_RAW_DEV = PATH_DATA_RAW + 'dataset_kobe_dev.parquet'\n",
    "\n",
    "# criacao de pipeline\n",
    "with mlflow.start_run(experiment_id = experiment_id, \n",
    "                      run_name = 'AnaliseExploratoriaDados'):\n",
    "\n",
    "    df_orig = pd.read_parquet(FILE_RAW_DEV)\n",
    "    \n",
    "    df_dev = df_orig[data_cols]\n",
    "                    \n",
    "\n",
    "    # analise exploratoria de dados antes de tratamento                \n",
    "    df_dev.describe().to_html(PATH_DESC_BEFORE)\n",
    "\n",
    "    with open(PATH_INFO_BEFORE, 'w') as file_out:\n",
    "        df_dev.info(buf=file_out)\n",
    "\n",
    "    mlflow.log_artifact(PATH_DESC_BEFORE)\n",
    "\n",
    "    mlflow.log_artifact(PATH_INFO_BEFORE)\n",
    "\n",
    "\n",
    "    print(\"DataFrame Shape (Antes):\", df_dev.shape)\n",
    "\n",
    "\n",
    "    # dropna e drop_duplicates\n",
    "    df_dev.dropna(axis=0, inplace=True)\n",
    "\n",
    "\n",
    "    print(\"DataFrame Shape (Apos):\", df_dev.shape)\n",
    "\n",
    "    # analise exploratoria de dados antes de tratamento                \n",
    "    df_dev.describe().to_html(PATH_DESC_AFTER)\n",
    "\n",
    "    with open(PATH_INFO_AFTER, 'w') as file_out:\n",
    "        df_dev.info(buf=file_out)\n",
    "\n",
    "    mlflow.log_artifact(PATH_DESC_AFTER)\n",
    "\n",
    "    mlflow.log_artifact(PATH_INFO_AFTER)\n",
    "\n",
    "\n",
    "    sns.pairplot(df_dev)\n",
    "\n",
    "    plt.savefig(PATH_FIG_PAIRPLOT, format = 'png')\n",
    "\n",
    "    mlflow.log_artifact(PATH_FIG_PAIRPLOT)\n",
    "\n",
    "    \n",
    "    # alterando tipo de dados\n",
    "    # utilizando df_aux, pois no treinamento esta dando erro\n",
    "    # MlflowException: Unable to map 'object' type to MLflow DataType. object can be mapped iff all values have identical data type which is one of (string, (bytes or byterray),  int, float).\n",
    "    df_aux = df_dev.copy()\n",
    "\n",
    "    object_data = 'period'\n",
    "\n",
    "    df_aux[object_data] = df_aux[object_data].astype('object')\n",
    "\n",
    "    categorical_data = ['playoffs', 'shot_made_flag']\n",
    "\n",
    "    for col in categorical_data:\n",
    "        df_aux[col] = df_aux[col].astype('category')\n",
    "\n",
    "\n",
    "    # descrevendo apos tratamento de tipo de data\n",
    "    df_aux.describe(include = ['number']).to_html(PATH_DESC_NUMBER_DATA)\n",
    "\n",
    "    mlflow.log_artifact(PATH_DESC_NUMBER_DATA)\n",
    "\n",
    "    df_aux.describe(include = ['object', 'category']).to_html(PATH_DESC_NAN_DATA)\n",
    "\n",
    "    mlflow.log_artifact(PATH_DESC_NAN_DATA)\n",
    "\n",
    "    plt.close()\n",
    "\n",
    "\n",
    "    # histograma de dados\n",
    "    ax = plt.axes()\n",
    "\n",
    "    sns.countplot(x = \"shot_made_flag\",\n",
    "                  data = df_dev,\n",
    "                  ax = ax,\n",
    "                  palette=(\"#ff0000\", \"#ffff00\"))\n",
    "    \n",
    "    ax.set_title(\"Distribution of the Shot Made\")\n",
    "\n",
    "    plt.savefig(PATH_FIG_HIST_SHOTMADE, format = 'png')\n",
    "\n",
    "    mlflow.log_artifact(PATH_FIG_HIST_SHOTMADE)\n",
    "   \n",
    "    plt.close()\n",
    "    \n",
    "\n",
    "    fig, ax = plt.subplots(2, figsize = (12, 10))\n",
    "\n",
    "    for v, i in zip([\"period\", \"playoffs\"], range(0, 2)):\n",
    "        sns.countplot(x = v,\n",
    "                      hue = \"shot_made_flag\",\n",
    "                      data = df_dev,\n",
    "                      ax = ax[i],\n",
    "                      palette=(\"#ff0000\", \"#ffff00\"))\n",
    "        \n",
    "        ax[i].set_title(v)\n",
    "\n",
    "    plt.tight_layout()\n",
    "\n",
    "    plt.savefig(PATH_FIG_HIST_PERIOD_PLAYOFF, format = 'png')\n",
    "\n",
    "    mlflow.log_artifact(PATH_FIG_HIST_PERIOD_PLAYOFF)\n",
    "\n",
    "    plt.close()\n",
    "    \n"
   ]
  },
  {
   "cell_type": "markdown",
   "id": "26f2d1d6",
   "metadata": {},
   "source": [
    "> Pipeline de processamento de dados com o MLFlow"
   ]
  },
  {
   "cell_type": "code",
   "execution_count": 7,
   "id": "2a8c9c65",
   "metadata": {},
   "outputs": [],
   "source": [
    "# definicao de nomes dos arquivos\n",
    "FILE_RAW_DEV = PATH_DATA_RAW + 'dataset_kobe_dev.parquet'\n",
    "\n",
    "FILE_PROCESSED_FILTERED = PATH_DATA_PROCESSED + 'data_filtered.parquet'\n",
    "\n",
    "FILE_PROCESSED_TRAIN = PATH_DATA_PROCESSED + 'base_train.parquet'\n",
    "\n",
    "FILE_PROCESSED_TEST = PATH_DATA_PROCESSED + 'base_test.parquet'\n",
    "\n",
    "\n",
    "# divisão de dados para o traino\n",
    "TRAIN_PERC = 0.8\n",
    "\n",
    "\n",
    "# criacao de pipeline\n",
    "with mlflow.start_run(experiment_id = experiment_id, \n",
    "                      run_name = 'PreparacaoDados'):\n",
    "    # migrei para analise exploratoria de dados\n",
    "    # df_dev = pd.read_parquet(FILE_RAW_DEV)\n",
    "    # df_dev.info()\n",
    "\n",
    "    # # dropna e drop_duplicates\n",
    "    # df_dev.dropna(axis=0, inplace=True)\n",
    "    # df_dev.drop_duplicates(inplace=True)\n",
    "    # df_dev = df_dev[data_cols].copy()\n",
    "    # print(\"DataFrame Shape:\", df_dev.shape)\n",
    "    \n",
    "    df_dev.to_parquet(FILE_PROCESSED_FILTERED)\n",
    "    \n",
    "    # 6.c. separação dos dados em treino e teste\n",
    "    x_train, x_test, y_train, y_test = train_test_split(\n",
    "        df_dev[COL_FEATURES],\n",
    "        df_dev[COL_TARGET],\n",
    "        train_size = TRAIN_PERC,\n",
    "        shuffle = True,\n",
    "        stratify = df_dev[COL_TARGET],\n",
    "    )\n",
    "    \n",
    "    # armazena os datasets resultantes em \"/Data/processed/base_{train|test}.parquet\n",
    "    x_train[COL_TARGET] = y_train\n",
    "    \n",
    "    x_train.to_parquet(FILE_PROCESSED_TRAIN)\n",
    "    \n",
    "    x_test[COL_TARGET] = y_test\n",
    "    \n",
    "    x_test.to_parquet(FILE_PROCESSED_TEST)\n",
    "\n",
    "    # 6.d. registrando os dados (tracking)\n",
    "    mlflow.log_params({\n",
    "        'perc_test': 1 - TRAIN_PERC,\n",
    "        'filtered_cols': data_cols,\n",
    "    })\n",
    "    \n",
    "    mlflow.log_metrics({\n",
    "        'qtt_train_rows': x_train.shape[0],\n",
    "        'qtt_test_rows': x_test.shape[0],\n",
    "    })"
   ]
  },
  {
   "cell_type": "code",
   "execution_count": null,
   "id": "011ccb49",
   "metadata": {},
   "outputs": [],
   "source": [
    "# >>> para rodar no terminal\n",
    "# !mlflow ui --backend-store-uri sqlite:///mlruns.db -p 5000\n",
    "\n",
    "# >>> caso precise encerrar mlflow\n",
    "# mlflow.end_run()"
   ]
  },
  {
   "cell_type": "markdown",
   "id": "df39ce4a-3ea6-46d9-a150-14dbf5db4a40",
   "metadata": {},
   "source": [
    "### Treinamento"
   ]
  },
  {
   "cell_type": "code",
   "execution_count": 26,
   "id": "a3e77841-f7ef-4276-be97-8d20afddf1c8",
   "metadata": {},
   "outputs": [
    {
     "data": {
      "text/html": [
       "<style type=\"text/css\">\n",
       "#T_02aae_row8_col1, #T_02aae_row12_col1 {\n",
       "  background-color: lightgreen;\n",
       "}\n",
       "</style>\n",
       "<table id=\"T_02aae\">\n",
       "  <thead>\n",
       "    <tr>\n",
       "      <th class=\"blank level0\" >&nbsp;</th>\n",
       "      <th id=\"T_02aae_level0_col0\" class=\"col_heading level0 col0\" >Description</th>\n",
       "      <th id=\"T_02aae_level0_col1\" class=\"col_heading level0 col1\" >Value</th>\n",
       "    </tr>\n",
       "  </thead>\n",
       "  <tbody>\n",
       "    <tr>\n",
       "      <th id=\"T_02aae_level0_row0\" class=\"row_heading level0 row0\" >0</th>\n",
       "      <td id=\"T_02aae_row0_col0\" class=\"data row0 col0\" >Session id</td>\n",
       "      <td id=\"T_02aae_row0_col1\" class=\"data row0 col1\" >4227</td>\n",
       "    </tr>\n",
       "    <tr>\n",
       "      <th id=\"T_02aae_level0_row1\" class=\"row_heading level0 row1\" >1</th>\n",
       "      <td id=\"T_02aae_row1_col0\" class=\"data row1 col0\" >Target</td>\n",
       "      <td id=\"T_02aae_row1_col1\" class=\"data row1 col1\" >shot_made_flag</td>\n",
       "    </tr>\n",
       "    <tr>\n",
       "      <th id=\"T_02aae_level0_row2\" class=\"row_heading level0 row2\" >2</th>\n",
       "      <td id=\"T_02aae_row2_col0\" class=\"data row2 col0\" >Target type</td>\n",
       "      <td id=\"T_02aae_row2_col1\" class=\"data row2 col1\" >Binary</td>\n",
       "    </tr>\n",
       "    <tr>\n",
       "      <th id=\"T_02aae_level0_row3\" class=\"row_heading level0 row3\" >3</th>\n",
       "      <td id=\"T_02aae_row3_col0\" class=\"data row3 col0\" >Original data shape</td>\n",
       "      <td id=\"T_02aae_row3_col1\" class=\"data row3 col1\" >(20285, 7)</td>\n",
       "    </tr>\n",
       "    <tr>\n",
       "      <th id=\"T_02aae_level0_row4\" class=\"row_heading level0 row4\" >4</th>\n",
       "      <td id=\"T_02aae_row4_col0\" class=\"data row4 col0\" >Transformed data shape</td>\n",
       "      <td id=\"T_02aae_row4_col1\" class=\"data row4 col1\" >(20285, 7)</td>\n",
       "    </tr>\n",
       "    <tr>\n",
       "      <th id=\"T_02aae_level0_row5\" class=\"row_heading level0 row5\" >5</th>\n",
       "      <td id=\"T_02aae_row5_col0\" class=\"data row5 col0\" >Transformed train set shape</td>\n",
       "      <td id=\"T_02aae_row5_col1\" class=\"data row5 col1\" >(16228, 7)</td>\n",
       "    </tr>\n",
       "    <tr>\n",
       "      <th id=\"T_02aae_level0_row6\" class=\"row_heading level0 row6\" >6</th>\n",
       "      <td id=\"T_02aae_row6_col0\" class=\"data row6 col0\" >Transformed test set shape</td>\n",
       "      <td id=\"T_02aae_row6_col1\" class=\"data row6 col1\" >(4057, 7)</td>\n",
       "    </tr>\n",
       "    <tr>\n",
       "      <th id=\"T_02aae_level0_row7\" class=\"row_heading level0 row7\" >7</th>\n",
       "      <td id=\"T_02aae_row7_col0\" class=\"data row7 col0\" >Numeric features</td>\n",
       "      <td id=\"T_02aae_row7_col1\" class=\"data row7 col1\" >6</td>\n",
       "    </tr>\n",
       "    <tr>\n",
       "      <th id=\"T_02aae_level0_row8\" class=\"row_heading level0 row8\" >8</th>\n",
       "      <td id=\"T_02aae_row8_col0\" class=\"data row8 col0\" >Preprocess</td>\n",
       "      <td id=\"T_02aae_row8_col1\" class=\"data row8 col1\" >True</td>\n",
       "    </tr>\n",
       "    <tr>\n",
       "      <th id=\"T_02aae_level0_row9\" class=\"row_heading level0 row9\" >9</th>\n",
       "      <td id=\"T_02aae_row9_col0\" class=\"data row9 col0\" >Imputation type</td>\n",
       "      <td id=\"T_02aae_row9_col1\" class=\"data row9 col1\" >simple</td>\n",
       "    </tr>\n",
       "    <tr>\n",
       "      <th id=\"T_02aae_level0_row10\" class=\"row_heading level0 row10\" >10</th>\n",
       "      <td id=\"T_02aae_row10_col0\" class=\"data row10 col0\" >Numeric imputation</td>\n",
       "      <td id=\"T_02aae_row10_col1\" class=\"data row10 col1\" >mean</td>\n",
       "    </tr>\n",
       "    <tr>\n",
       "      <th id=\"T_02aae_level0_row11\" class=\"row_heading level0 row11\" >11</th>\n",
       "      <td id=\"T_02aae_row11_col0\" class=\"data row11 col0\" >Categorical imputation</td>\n",
       "      <td id=\"T_02aae_row11_col1\" class=\"data row11 col1\" >mode</td>\n",
       "    </tr>\n",
       "    <tr>\n",
       "      <th id=\"T_02aae_level0_row12\" class=\"row_heading level0 row12\" >12</th>\n",
       "      <td id=\"T_02aae_row12_col0\" class=\"data row12 col0\" >Normalize</td>\n",
       "      <td id=\"T_02aae_row12_col1\" class=\"data row12 col1\" >True</td>\n",
       "    </tr>\n",
       "    <tr>\n",
       "      <th id=\"T_02aae_level0_row13\" class=\"row_heading level0 row13\" >13</th>\n",
       "      <td id=\"T_02aae_row13_col0\" class=\"data row13 col0\" >Normalize method</td>\n",
       "      <td id=\"T_02aae_row13_col1\" class=\"data row13 col1\" >zscore</td>\n",
       "    </tr>\n",
       "    <tr>\n",
       "      <th id=\"T_02aae_level0_row14\" class=\"row_heading level0 row14\" >14</th>\n",
       "      <td id=\"T_02aae_row14_col0\" class=\"data row14 col0\" >Fold Generator</td>\n",
       "      <td id=\"T_02aae_row14_col1\" class=\"data row14 col1\" >StratifiedKFold</td>\n",
       "    </tr>\n",
       "    <tr>\n",
       "      <th id=\"T_02aae_level0_row15\" class=\"row_heading level0 row15\" >15</th>\n",
       "      <td id=\"T_02aae_row15_col0\" class=\"data row15 col0\" >Fold Number</td>\n",
       "      <td id=\"T_02aae_row15_col1\" class=\"data row15 col1\" >10</td>\n",
       "    </tr>\n",
       "    <tr>\n",
       "      <th id=\"T_02aae_level0_row16\" class=\"row_heading level0 row16\" >16</th>\n",
       "      <td id=\"T_02aae_row16_col0\" class=\"data row16 col0\" >CPU Jobs</td>\n",
       "      <td id=\"T_02aae_row16_col1\" class=\"data row16 col1\" >-1</td>\n",
       "    </tr>\n",
       "    <tr>\n",
       "      <th id=\"T_02aae_level0_row17\" class=\"row_heading level0 row17\" >17</th>\n",
       "      <td id=\"T_02aae_row17_col0\" class=\"data row17 col0\" >Use GPU</td>\n",
       "      <td id=\"T_02aae_row17_col1\" class=\"data row17 col1\" >False</td>\n",
       "    </tr>\n",
       "    <tr>\n",
       "      <th id=\"T_02aae_level0_row18\" class=\"row_heading level0 row18\" >18</th>\n",
       "      <td id=\"T_02aae_row18_col0\" class=\"data row18 col0\" >Log Experiment</td>\n",
       "      <td id=\"T_02aae_row18_col1\" class=\"data row18 col1\" >False</td>\n",
       "    </tr>\n",
       "    <tr>\n",
       "      <th id=\"T_02aae_level0_row19\" class=\"row_heading level0 row19\" >19</th>\n",
       "      <td id=\"T_02aae_row19_col0\" class=\"data row19 col0\" >Experiment Name</td>\n",
       "      <td id=\"T_02aae_row19_col1\" class=\"data row19 col1\" >clf-default-name</td>\n",
       "    </tr>\n",
       "    <tr>\n",
       "      <th id=\"T_02aae_level0_row20\" class=\"row_heading level0 row20\" >20</th>\n",
       "      <td id=\"T_02aae_row20_col0\" class=\"data row20 col0\" >USI</td>\n",
       "      <td id=\"T_02aae_row20_col1\" class=\"data row20 col1\" >8f37</td>\n",
       "    </tr>\n",
       "  </tbody>\n",
       "</table>\n"
      ],
      "text/plain": [
       "<pandas.io.formats.style.Styler at 0x251babecc40>"
      ]
     },
     "metadata": {},
     "output_type": "display_data"
    },
    {
     "data": {
      "text/html": [],
      "text/plain": [
       "<IPython.core.display.HTML object>"
      ]
     },
     "metadata": {},
     "output_type": "display_data"
    },
    {
     "data": {
      "text/html": [
       "<style type=\"text/css\">\n",
       "#T_7cd3c th {\n",
       "  text-align: left;\n",
       "}\n",
       "#T_7cd3c_row0_col0, #T_7cd3c_row0_col1, #T_7cd3c_row0_col2, #T_7cd3c_row0_col4, #T_7cd3c_row0_col6, #T_7cd3c_row0_col7, #T_7cd3c_row1_col0, #T_7cd3c_row1_col3, #T_7cd3c_row1_col5 {\n",
       "  text-align: left;\n",
       "}\n",
       "#T_7cd3c_row0_col3, #T_7cd3c_row0_col5, #T_7cd3c_row1_col1, #T_7cd3c_row1_col2, #T_7cd3c_row1_col4, #T_7cd3c_row1_col6, #T_7cd3c_row1_col7 {\n",
       "  text-align: left;\n",
       "  background-color: yellow;\n",
       "}\n",
       "#T_7cd3c_row0_col8 {\n",
       "  text-align: left;\n",
       "  background-color: lightgrey;\n",
       "}\n",
       "#T_7cd3c_row1_col8 {\n",
       "  text-align: left;\n",
       "  background-color: yellow;\n",
       "  background-color: lightgrey;\n",
       "}\n",
       "</style>\n",
       "<table id=\"T_7cd3c\">\n",
       "  <thead>\n",
       "    <tr>\n",
       "      <th class=\"blank level0\" >&nbsp;</th>\n",
       "      <th id=\"T_7cd3c_level0_col0\" class=\"col_heading level0 col0\" >Model</th>\n",
       "      <th id=\"T_7cd3c_level0_col1\" class=\"col_heading level0 col1\" >Accuracy</th>\n",
       "      <th id=\"T_7cd3c_level0_col2\" class=\"col_heading level0 col2\" >AUC</th>\n",
       "      <th id=\"T_7cd3c_level0_col3\" class=\"col_heading level0 col3\" >Recall</th>\n",
       "      <th id=\"T_7cd3c_level0_col4\" class=\"col_heading level0 col4\" >Prec.</th>\n",
       "      <th id=\"T_7cd3c_level0_col5\" class=\"col_heading level0 col5\" >F1</th>\n",
       "      <th id=\"T_7cd3c_level0_col6\" class=\"col_heading level0 col6\" >Kappa</th>\n",
       "      <th id=\"T_7cd3c_level0_col7\" class=\"col_heading level0 col7\" >MCC</th>\n",
       "      <th id=\"T_7cd3c_level0_col8\" class=\"col_heading level0 col8\" >TT (Sec)</th>\n",
       "    </tr>\n",
       "  </thead>\n",
       "  <tbody>\n",
       "    <tr>\n",
       "      <th id=\"T_7cd3c_level0_row0\" class=\"row_heading level0 row0\" >dt</th>\n",
       "      <td id=\"T_7cd3c_row0_col0\" class=\"data row0 col0\" >Decision Tree Classifier</td>\n",
       "      <td id=\"T_7cd3c_row0_col1\" class=\"data row0 col1\" >0.5368</td>\n",
       "      <td id=\"T_7cd3c_row0_col2\" class=\"data row0 col2\" >0.5166</td>\n",
       "      <td id=\"T_7cd3c_row0_col3\" class=\"data row0 col3\" >0.5827</td>\n",
       "      <td id=\"T_7cd3c_row0_col4\" class=\"data row0 col4\" >0.5131</td>\n",
       "      <td id=\"T_7cd3c_row0_col5\" class=\"data row0 col5\" >0.5456</td>\n",
       "      <td id=\"T_7cd3c_row0_col6\" class=\"data row0 col6\" >0.0771</td>\n",
       "      <td id=\"T_7cd3c_row0_col7\" class=\"data row0 col7\" >0.0778</td>\n",
       "      <td id=\"T_7cd3c_row0_col8\" class=\"data row0 col8\" >0.0110</td>\n",
       "    </tr>\n",
       "    <tr>\n",
       "      <th id=\"T_7cd3c_level0_row1\" class=\"row_heading level0 row1\" >lr</th>\n",
       "      <td id=\"T_7cd3c_row1_col0\" class=\"data row1 col0\" >Logistic Regression</td>\n",
       "      <td id=\"T_7cd3c_row1_col1\" class=\"data row1 col1\" >0.5755</td>\n",
       "      <td id=\"T_7cd3c_row1_col2\" class=\"data row1 col2\" >0.5948</td>\n",
       "      <td id=\"T_7cd3c_row1_col3\" class=\"data row1 col3\" >0.4844</td>\n",
       "      <td id=\"T_7cd3c_row1_col4\" class=\"data row1 col4\" >0.5645</td>\n",
       "      <td id=\"T_7cd3c_row1_col5\" class=\"data row1 col5\" >0.5213</td>\n",
       "      <td id=\"T_7cd3c_row1_col6\" class=\"data row1 col6\" >0.1440</td>\n",
       "      <td id=\"T_7cd3c_row1_col7\" class=\"data row1 col7\" >0.1453</td>\n",
       "      <td id=\"T_7cd3c_row1_col8\" class=\"data row1 col8\" >0.0070</td>\n",
       "    </tr>\n",
       "  </tbody>\n",
       "</table>\n"
      ],
      "text/plain": [
       "<pandas.io.formats.style.Styler at 0x251ba79bf40>"
      ]
     },
     "metadata": {},
     "output_type": "display_data"
    },
    {
     "data": {
      "text/html": [],
      "text/plain": [
       "<IPython.core.display.HTML object>"
      ]
     },
     "metadata": {},
     "output_type": "display_data"
    },
    {
     "data": {
      "text/html": [
       "<style type=\"text/css\">\n",
       "</style>\n",
       "<table id=\"T_35d4f\">\n",
       "  <thead>\n",
       "    <tr>\n",
       "      <th class=\"blank level0\" >&nbsp;</th>\n",
       "      <th id=\"T_35d4f_level0_col0\" class=\"col_heading level0 col0\" >Model</th>\n",
       "      <th id=\"T_35d4f_level0_col1\" class=\"col_heading level0 col1\" >Accuracy</th>\n",
       "      <th id=\"T_35d4f_level0_col2\" class=\"col_heading level0 col2\" >AUC</th>\n",
       "      <th id=\"T_35d4f_level0_col3\" class=\"col_heading level0 col3\" >Recall</th>\n",
       "      <th id=\"T_35d4f_level0_col4\" class=\"col_heading level0 col4\" >Prec.</th>\n",
       "      <th id=\"T_35d4f_level0_col5\" class=\"col_heading level0 col5\" >F1</th>\n",
       "      <th id=\"T_35d4f_level0_col6\" class=\"col_heading level0 col6\" >Kappa</th>\n",
       "      <th id=\"T_35d4f_level0_col7\" class=\"col_heading level0 col7\" >MCC</th>\n",
       "    </tr>\n",
       "  </thead>\n",
       "  <tbody>\n",
       "    <tr>\n",
       "      <th id=\"T_35d4f_level0_row0\" class=\"row_heading level0 row0\" >0</th>\n",
       "      <td id=\"T_35d4f_row0_col0\" class=\"data row0 col0\" >Decision Tree Classifier</td>\n",
       "      <td id=\"T_35d4f_row0_col1\" class=\"data row0 col1\" >0.5484</td>\n",
       "      <td id=\"T_35d4f_row0_col2\" class=\"data row0 col2\" >0.5281</td>\n",
       "      <td id=\"T_35d4f_row0_col3\" class=\"data row0 col3\" >0.6174</td>\n",
       "      <td id=\"T_35d4f_row0_col4\" class=\"data row0 col4\" >0.5230</td>\n",
       "      <td id=\"T_35d4f_row0_col5\" class=\"data row0 col5\" >0.5663</td>\n",
       "      <td id=\"T_35d4f_row0_col6\" class=\"data row0 col6\" >0.1020</td>\n",
       "      <td id=\"T_35d4f_row0_col7\" class=\"data row0 col7\" >0.1036</td>\n",
       "    </tr>\n",
       "  </tbody>\n",
       "</table>\n"
      ],
      "text/plain": [
       "<pandas.io.formats.style.Styler at 0x251bab6d520>"
      ]
     },
     "metadata": {},
     "output_type": "display_data"
    },
    {
     "name": "stdout",
     "output_type": "stream",
     "text": [
      "Parameter: max_depth\n",
      "GridSearch: [2, 3, 4, 5, 6, 7, 8]\n",
      "Scoring: f1\n"
     ]
    },
    {
     "data": {
      "image/png": "[encoded data removed]",
      "text/plain": [
       "<Figure size 600x400 with 1 Axes>"
      ]
     },
     "metadata": {},
     "output_type": "display_data"
    },
    {
     "data": {
      "text/html": [],
      "text/plain": [
       "<IPython.core.display.HTML object>"
      ]
     },
     "metadata": {},
     "output_type": "display_data"
    },
    {
     "data": {
      "image/png": "[encoded data removed]",
      "text/plain": [
       "<Figure size 800x550 with 1 Axes>"
      ]
     },
     "metadata": {},
     "output_type": "display_data"
    },
    {
     "data": {
      "text/html": [],
      "text/plain": [
       "<IPython.core.display.HTML object>"
      ]
     },
     "metadata": {},
     "output_type": "display_data"
    },
    {
     "data": {
      "image/png": "[encoded data removed]",
      "text/plain": [
       "<Figure size 800x550 with 1 Axes>"
      ]
     },
     "metadata": {},
     "output_type": "display_data"
    },
    {
     "data": {
      "application/vnd.jupyter.widget-view+json": {
       "model_id": "b2bec5a0ae804fc8a78a8bcf8e6957e5",
       "version_major": 2,
       "version_minor": 0
      },
      "text/plain": [
       "interactive(children=(ToggleButtons(description='Plot Type:', icons=('',), options=(('Pipeline Plot', 'pipelin…"
      ]
     },
     "metadata": {},
     "output_type": "display_data"
    },
    {
     "data": {
      "text/html": [
       "<style type=\"text/css\">\n",
       "</style>\n",
       "<table id=\"T_4d20b\">\n",
       "  <thead>\n",
       "    <tr>\n",
       "      <th class=\"blank level0\" >&nbsp;</th>\n",
       "      <th id=\"T_4d20b_level0_col0\" class=\"col_heading level0 col0\" >Model</th>\n",
       "      <th id=\"T_4d20b_level0_col1\" class=\"col_heading level0 col1\" >Accuracy</th>\n",
       "      <th id=\"T_4d20b_level0_col2\" class=\"col_heading level0 col2\" >AUC</th>\n",
       "      <th id=\"T_4d20b_level0_col3\" class=\"col_heading level0 col3\" >Recall</th>\n",
       "      <th id=\"T_4d20b_level0_col4\" class=\"col_heading level0 col4\" >Prec.</th>\n",
       "      <th id=\"T_4d20b_level0_col5\" class=\"col_heading level0 col5\" >F1</th>\n",
       "      <th id=\"T_4d20b_level0_col6\" class=\"col_heading level0 col6\" >Kappa</th>\n",
       "      <th id=\"T_4d20b_level0_col7\" class=\"col_heading level0 col7\" >MCC</th>\n",
       "    </tr>\n",
       "  </thead>\n",
       "  <tbody>\n",
       "    <tr>\n",
       "      <th id=\"T_4d20b_level0_row0\" class=\"row_heading level0 row0\" >0</th>\n",
       "      <td id=\"T_4d20b_row0_col0\" class=\"data row0 col0\" >Logistic Regression</td>\n",
       "      <td id=\"T_4d20b_row0_col1\" class=\"data row0 col1\" >0.5839</td>\n",
       "      <td id=\"T_4d20b_row0_col2\" class=\"data row0 col2\" >0.6105</td>\n",
       "      <td id=\"T_4d20b_row0_col3\" class=\"data row0 col3\" >0.4894</td>\n",
       "      <td id=\"T_4d20b_row0_col4\" class=\"data row0 col4\" >0.5756</td>\n",
       "      <td id=\"T_4d20b_row0_col5\" class=\"data row0 col5\" >0.5290</td>\n",
       "      <td id=\"T_4d20b_row0_col6\" class=\"data row0 col6\" >0.1607</td>\n",
       "      <td id=\"T_4d20b_row0_col7\" class=\"data row0 col7\" >0.1624</td>\n",
       "    </tr>\n",
       "  </tbody>\n",
       "</table>\n"
      ],
      "text/plain": [
       "<pandas.io.formats.style.Styler at 0x251b8fc9bb0>"
      ]
     },
     "metadata": {},
     "output_type": "display_data"
    },
    {
     "name": "stdout",
     "output_type": "stream",
     "text": [
      "Parameter: C\n",
      "GridSearch: [0.001, 0.01, 0.1, 1, 10]\n",
      "Scoring: f1\n"
     ]
    },
    {
     "data": {
      "image/png": "[encoded data removed]",
      "text/plain": [
       "<Figure size 600x400 with 1 Axes>"
      ]
     },
     "metadata": {},
     "output_type": "display_data"
    },
    {
     "data": {
      "text/html": [],
      "text/plain": [
       "<IPython.core.display.HTML object>"
      ]
     },
     "metadata": {},
     "output_type": "display_data"
    },
    {
     "data": {
      "image/png": "[encoded data removed]",
      "text/plain": [
       "<Figure size 800x550 with 1 Axes>"
      ]
     },
     "metadata": {},
     "output_type": "display_data"
    },
    {
     "data": {
      "text/html": [],
      "text/plain": [
       "<IPython.core.display.HTML object>"
      ]
     },
     "metadata": {},
     "output_type": "display_data"
    },
    {
     "data": {
      "image/png": "[encoded data removed]",
      "text/plain": [
       "<Figure size 800x550 with 1 Axes>"
      ]
     },
     "metadata": {},
     "output_type": "display_data"
    },
    {
     "data": {
      "application/vnd.jupyter.widget-view+json": {
       "model_id": "1910694ad8194b60b9956aa1886d3c9c",
       "version_major": 2,
       "version_minor": 0
      },
      "text/plain": [
       "interactive(children=(ToggleButtons(description='Plot Type:', icons=('',), options=(('Pipeline Plot', 'pipelin…"
      ]
     },
     "metadata": {},
     "output_type": "display_data"
    },
    {
     "data": {
      "text/html": [
       "<style type=\"text/css\">\n",
       "</style>\n",
       "<table id=\"T_d560d\">\n",
       "  <thead>\n",
       "    <tr>\n",
       "      <th class=\"blank level0\" >&nbsp;</th>\n",
       "      <th id=\"T_d560d_level0_col0\" class=\"col_heading level0 col0\" >Model</th>\n",
       "      <th id=\"T_d560d_level0_col1\" class=\"col_heading level0 col1\" >Accuracy</th>\n",
       "      <th id=\"T_d560d_level0_col2\" class=\"col_heading level0 col2\" >AUC</th>\n",
       "      <th id=\"T_d560d_level0_col3\" class=\"col_heading level0 col3\" >Recall</th>\n",
       "      <th id=\"T_d560d_level0_col4\" class=\"col_heading level0 col4\" >Prec.</th>\n",
       "      <th id=\"T_d560d_level0_col5\" class=\"col_heading level0 col5\" >F1</th>\n",
       "      <th id=\"T_d560d_level0_col6\" class=\"col_heading level0 col6\" >Kappa</th>\n",
       "      <th id=\"T_d560d_level0_col7\" class=\"col_heading level0 col7\" >MCC</th>\n",
       "    </tr>\n",
       "  </thead>\n",
       "  <tbody>\n",
       "    <tr>\n",
       "      <th id=\"T_d560d_level0_row0\" class=\"row_heading level0 row0\" >0</th>\n",
       "      <td id=\"T_d560d_row0_col0\" class=\"data row0 col0\" >Decision Tree Classifier</td>\n",
       "      <td id=\"T_d560d_row0_col1\" class=\"data row0 col1\" >0.5484</td>\n",
       "      <td id=\"T_d560d_row0_col2\" class=\"data row0 col2\" >0.5281</td>\n",
       "      <td id=\"T_d560d_row0_col3\" class=\"data row0 col3\" >0.6174</td>\n",
       "      <td id=\"T_d560d_row0_col4\" class=\"data row0 col4\" >0.5230</td>\n",
       "      <td id=\"T_d560d_row0_col5\" class=\"data row0 col5\" >0.5663</td>\n",
       "      <td id=\"T_d560d_row0_col6\" class=\"data row0 col6\" >0.1020</td>\n",
       "      <td id=\"T_d560d_row0_col7\" class=\"data row0 col7\" >0.1036</td>\n",
       "    </tr>\n",
       "  </tbody>\n",
       "</table>\n"
      ],
      "text/plain": [
       "<pandas.io.formats.style.Styler at 0x251bab44790>"
      ]
     },
     "metadata": {},
     "output_type": "display_data"
    },
    {
     "data": {
      "text/html": [
       "<style type=\"text/css\">\n",
       "</style>\n",
       "<table id=\"T_ce40a\">\n",
       "  <thead>\n",
       "    <tr>\n",
       "      <th class=\"blank level0\" >&nbsp;</th>\n",
       "      <th id=\"T_ce40a_level0_col0\" class=\"col_heading level0 col0\" >Model</th>\n",
       "      <th id=\"T_ce40a_level0_col1\" class=\"col_heading level0 col1\" >Accuracy</th>\n",
       "      <th id=\"T_ce40a_level0_col2\" class=\"col_heading level0 col2\" >AUC</th>\n",
       "      <th id=\"T_ce40a_level0_col3\" class=\"col_heading level0 col3\" >Recall</th>\n",
       "      <th id=\"T_ce40a_level0_col4\" class=\"col_heading level0 col4\" >Prec.</th>\n",
       "      <th id=\"T_ce40a_level0_col5\" class=\"col_heading level0 col5\" >F1</th>\n",
       "      <th id=\"T_ce40a_level0_col6\" class=\"col_heading level0 col6\" >Kappa</th>\n",
       "      <th id=\"T_ce40a_level0_col7\" class=\"col_heading level0 col7\" >MCC</th>\n",
       "    </tr>\n",
       "  </thead>\n",
       "  <tbody>\n",
       "    <tr>\n",
       "      <th id=\"T_ce40a_level0_row0\" class=\"row_heading level0 row0\" >0</th>\n",
       "      <td id=\"T_ce40a_row0_col0\" class=\"data row0 col0\" >Logistic Regression</td>\n",
       "      <td id=\"T_ce40a_row0_col1\" class=\"data row0 col1\" >0.5839</td>\n",
       "      <td id=\"T_ce40a_row0_col2\" class=\"data row0 col2\" >0.6105</td>\n",
       "      <td id=\"T_ce40a_row0_col3\" class=\"data row0 col3\" >0.4894</td>\n",
       "      <td id=\"T_ce40a_row0_col4\" class=\"data row0 col4\" >0.5756</td>\n",
       "      <td id=\"T_ce40a_row0_col5\" class=\"data row0 col5\" >0.5290</td>\n",
       "      <td id=\"T_ce40a_row0_col6\" class=\"data row0 col6\" >0.1607</td>\n",
       "      <td id=\"T_ce40a_row0_col7\" class=\"data row0 col7\" >0.1624</td>\n",
       "    </tr>\n",
       "  </tbody>\n",
       "</table>\n"
      ],
      "text/plain": [
       "<pandas.io.formats.style.Styler at 0x251baa62190>"
      ]
     },
     "metadata": {},
     "output_type": "display_data"
    },
    {
     "data": {
      "image/png": "[encoded data removed]",
      "text/plain": [
       "<Figure size 800x550 with 1 Axes>"
      ]
     },
     "metadata": {},
     "output_type": "display_data"
    },
    {
     "data": {
      "text/html": [],
      "text/plain": [
       "<IPython.core.display.HTML object>"
      ]
     },
     "metadata": {},
     "output_type": "display_data"
    },
    {
     "data": {
      "text/html": [
       "<style type=\"text/css\">\n",
       "#T_4311d_row10_col0, #T_4311d_row10_col1, #T_4311d_row10_col2, #T_4311d_row10_col3, #T_4311d_row10_col4, #T_4311d_row10_col5, #T_4311d_row10_col6 {\n",
       "  background: yellow;\n",
       "}\n",
       "</style>\n",
       "<table id=\"T_4311d\">\n",
       "  <thead>\n",
       "    <tr>\n",
       "      <th class=\"blank level0\" >&nbsp;</th>\n",
       "      <th id=\"T_4311d_level0_col0\" class=\"col_heading level0 col0\" >Accuracy</th>\n",
       "      <th id=\"T_4311d_level0_col1\" class=\"col_heading level0 col1\" >AUC</th>\n",
       "      <th id=\"T_4311d_level0_col2\" class=\"col_heading level0 col2\" >Recall</th>\n",
       "      <th id=\"T_4311d_level0_col3\" class=\"col_heading level0 col3\" >Prec.</th>\n",
       "      <th id=\"T_4311d_level0_col4\" class=\"col_heading level0 col4\" >F1</th>\n",
       "      <th id=\"T_4311d_level0_col5\" class=\"col_heading level0 col5\" >Kappa</th>\n",
       "      <th id=\"T_4311d_level0_col6\" class=\"col_heading level0 col6\" >MCC</th>\n",
       "    </tr>\n",
       "    <tr>\n",
       "      <th class=\"index_name level0\" >Fold</th>\n",
       "      <th class=\"blank col0\" >&nbsp;</th>\n",
       "      <th class=\"blank col1\" >&nbsp;</th>\n",
       "      <th class=\"blank col2\" >&nbsp;</th>\n",
       "      <th class=\"blank col3\" >&nbsp;</th>\n",
       "      <th class=\"blank col4\" >&nbsp;</th>\n",
       "      <th class=\"blank col5\" >&nbsp;</th>\n",
       "      <th class=\"blank col6\" >&nbsp;</th>\n",
       "    </tr>\n",
       "  </thead>\n",
       "  <tbody>\n",
       "    <tr>\n",
       "      <th id=\"T_4311d_level0_row0\" class=\"row_heading level0 row0\" >0</th>\n",
       "      <td id=\"T_4311d_row0_col0\" class=\"data row0 col0\" >0.5896</td>\n",
       "      <td id=\"T_4311d_row0_col1\" class=\"data row0 col1\" >0.5793</td>\n",
       "      <td id=\"T_4311d_row0_col2\" class=\"data row0 col2\" >0.3553</td>\n",
       "      <td id=\"T_4311d_row0_col3\" class=\"data row0 col3\" >0.6222</td>\n",
       "      <td id=\"T_4311d_row0_col4\" class=\"data row0 col4\" >0.4523</td>\n",
       "      <td id=\"T_4311d_row0_col5\" class=\"data row0 col5\" >0.1617</td>\n",
       "      <td id=\"T_4311d_row0_col6\" class=\"data row0 col6\" >0.1779</td>\n",
       "    </tr>\n",
       "    <tr>\n",
       "      <th id=\"T_4311d_level0_row1\" class=\"row_heading level0 row1\" >1</th>\n",
       "      <td id=\"T_4311d_row1_col0\" class=\"data row1 col0\" >0.6137</td>\n",
       "      <td id=\"T_4311d_row1_col1\" class=\"data row1 col1\" >0.6039</td>\n",
       "      <td id=\"T_4311d_row1_col2\" class=\"data row1 col2\" >0.3928</td>\n",
       "      <td id=\"T_4311d_row1_col3\" class=\"data row1 col3\" >0.6594</td>\n",
       "      <td id=\"T_4311d_row1_col4\" class=\"data row1 col4\" >0.4923</td>\n",
       "      <td id=\"T_4311d_row1_col5\" class=\"data row1 col5\" >0.2116</td>\n",
       "      <td id=\"T_4311d_row1_col6\" class=\"data row1 col6\" >0.2302</td>\n",
       "    </tr>\n",
       "    <tr>\n",
       "      <th id=\"T_4311d_level0_row2\" class=\"row_heading level0 row2\" >2</th>\n",
       "      <td id=\"T_4311d_row2_col0\" class=\"data row2 col0\" >0.5872</td>\n",
       "      <td id=\"T_4311d_row2_col1\" class=\"data row2 col1\" >0.5767</td>\n",
       "      <td id=\"T_4311d_row2_col2\" class=\"data row2 col2\" >0.3432</td>\n",
       "      <td id=\"T_4311d_row2_col3\" class=\"data row2 col3\" >0.6230</td>\n",
       "      <td id=\"T_4311d_row2_col4\" class=\"data row2 col4\" >0.4426</td>\n",
       "      <td id=\"T_4311d_row2_col5\" class=\"data row2 col5\" >0.1564</td>\n",
       "      <td id=\"T_4311d_row2_col6\" class=\"data row2 col6\" >0.1740</td>\n",
       "    </tr>\n",
       "    <tr>\n",
       "      <th id=\"T_4311d_level0_row3\" class=\"row_heading level0 row3\" >3</th>\n",
       "      <td id=\"T_4311d_row3_col0\" class=\"data row3 col0\" >0.5792</td>\n",
       "      <td id=\"T_4311d_row3_col1\" class=\"data row3 col1\" >0.5684</td>\n",
       "      <td id=\"T_4311d_row3_col2\" class=\"data row3 col2\" >0.3290</td>\n",
       "      <td id=\"T_4311d_row3_col3\" class=\"data row3 col3\" >0.6100</td>\n",
       "      <td id=\"T_4311d_row3_col4\" class=\"data row3 col4\" >0.4275</td>\n",
       "      <td id=\"T_4311d_row3_col5\" class=\"data row3 col5\" >0.1396</td>\n",
       "      <td id=\"T_4311d_row3_col6\" class=\"data row3 col6\" >0.1563</td>\n",
       "    </tr>\n",
       "    <tr>\n",
       "      <th id=\"T_4311d_level0_row4\" class=\"row_heading level0 row4\" >4</th>\n",
       "      <td id=\"T_4311d_row4_col0\" class=\"data row4 col0\" >0.5823</td>\n",
       "      <td id=\"T_4311d_row4_col1\" class=\"data row4 col1\" >0.5727</td>\n",
       "      <td id=\"T_4311d_row4_col2\" class=\"data row4 col2\" >0.3600</td>\n",
       "      <td id=\"T_4311d_row4_col3\" class=\"data row4 col3\" >0.6052</td>\n",
       "      <td id=\"T_4311d_row4_col4\" class=\"data row4 col4\" >0.4515</td>\n",
       "      <td id=\"T_4311d_row4_col5\" class=\"data row4 col5\" >0.1480</td>\n",
       "      <td id=\"T_4311d_row4_col6\" class=\"data row4 col6\" >0.1610</td>\n",
       "    </tr>\n",
       "    <tr>\n",
       "      <th id=\"T_4311d_level0_row5\" class=\"row_heading level0 row5\" >5</th>\n",
       "      <td id=\"T_4311d_row5_col0\" class=\"data row5 col0\" >0.5964</td>\n",
       "      <td id=\"T_4311d_row5_col1\" class=\"data row5 col1\" >0.5865</td>\n",
       "      <td id=\"T_4311d_row5_col2\" class=\"data row5 col2\" >0.3665</td>\n",
       "      <td id=\"T_4311d_row5_col3\" class=\"data row5 col3\" >0.6339</td>\n",
       "      <td id=\"T_4311d_row5_col4\" class=\"data row5 col4\" >0.4644</td>\n",
       "      <td id=\"T_4311d_row5_col5\" class=\"data row5 col5\" >0.1763</td>\n",
       "      <td id=\"T_4311d_row5_col6\" class=\"data row5 col6\" >0.1934</td>\n",
       "    </tr>\n",
       "    <tr>\n",
       "      <th id=\"T_4311d_level0_row6\" class=\"row_heading level0 row6\" >6</th>\n",
       "      <td id=\"T_4311d_row6_col0\" class=\"data row6 col0\" >0.5835</td>\n",
       "      <td id=\"T_4311d_row6_col1\" class=\"data row6 col1\" >0.5732</td>\n",
       "      <td id=\"T_4311d_row6_col2\" class=\"data row6 col2\" >0.3445</td>\n",
       "      <td id=\"T_4311d_row6_col3\" class=\"data row6 col3\" >0.6138</td>\n",
       "      <td id=\"T_4311d_row6_col4\" class=\"data row6 col4\" >0.4413</td>\n",
       "      <td id=\"T_4311d_row6_col5\" class=\"data row6 col5\" >0.1492</td>\n",
       "      <td id=\"T_4311d_row6_col6\" class=\"data row6 col6\" >0.1651</td>\n",
       "    </tr>\n",
       "    <tr>\n",
       "      <th id=\"T_4311d_level0_row7\" class=\"row_heading level0 row7\" >7</th>\n",
       "      <td id=\"T_4311d_row7_col0\" class=\"data row7 col0\" >0.6001</td>\n",
       "      <td id=\"T_4311d_row7_col1\" class=\"data row7 col1\" >0.5909</td>\n",
       "      <td id=\"T_4311d_row7_col2\" class=\"data row7 col2\" >0.3858</td>\n",
       "      <td id=\"T_4311d_row7_col3\" class=\"data row7 col3\" >0.6335</td>\n",
       "      <td id=\"T_4311d_row7_col4\" class=\"data row7 col4\" >0.4796</td>\n",
       "      <td id=\"T_4311d_row7_col5\" class=\"data row7 col5\" >0.1849</td>\n",
       "      <td id=\"T_4311d_row7_col6\" class=\"data row7 col6\" >0.2000</td>\n",
       "    </tr>\n",
       "    <tr>\n",
       "      <th id=\"T_4311d_level0_row8\" class=\"row_heading level0 row8\" >8</th>\n",
       "      <td id=\"T_4311d_row8_col0\" class=\"data row8 col0\" >0.5869</td>\n",
       "      <td id=\"T_4311d_row8_col1\" class=\"data row8 col1\" >0.5763</td>\n",
       "      <td id=\"T_4311d_row8_col2\" class=\"data row8 col2\" >0.3437</td>\n",
       "      <td id=\"T_4311d_row8_col3\" class=\"data row8 col3\" >0.6215</td>\n",
       "      <td id=\"T_4311d_row8_col4\" class=\"data row8 col4\" >0.4426</td>\n",
       "      <td id=\"T_4311d_row8_col5\" class=\"data row8 col5\" >0.1557</td>\n",
       "      <td id=\"T_4311d_row8_col6\" class=\"data row8 col6\" >0.1730</td>\n",
       "    </tr>\n",
       "    <tr>\n",
       "      <th id=\"T_4311d_level0_row9\" class=\"row_heading level0 row9\" >9</th>\n",
       "      <td id=\"T_4311d_row9_col0\" class=\"data row9 col0\" >0.5968</td>\n",
       "      <td id=\"T_4311d_row9_col1\" class=\"data row9 col1\" >0.5874</td>\n",
       "      <td id=\"T_4311d_row9_col2\" class=\"data row9 col2\" >0.3824</td>\n",
       "      <td id=\"T_4311d_row9_col3\" class=\"data row9 col3\" >0.6271</td>\n",
       "      <td id=\"T_4311d_row9_col4\" class=\"data row9 col4\" >0.4751</td>\n",
       "      <td id=\"T_4311d_row9_col5\" class=\"data row9 col5\" >0.1779</td>\n",
       "      <td id=\"T_4311d_row9_col6\" class=\"data row9 col6\" >0.1923</td>\n",
       "    </tr>\n",
       "    <tr>\n",
       "      <th id=\"T_4311d_level0_row10\" class=\"row_heading level0 row10\" >Mean</th>\n",
       "      <td id=\"T_4311d_row10_col0\" class=\"data row10 col0\" >0.5916</td>\n",
       "      <td id=\"T_4311d_row10_col1\" class=\"data row10 col1\" >0.5815</td>\n",
       "      <td id=\"T_4311d_row10_col2\" class=\"data row10 col2\" >0.3603</td>\n",
       "      <td id=\"T_4311d_row10_col3\" class=\"data row10 col3\" >0.6250</td>\n",
       "      <td id=\"T_4311d_row10_col4\" class=\"data row10 col4\" >0.4569</td>\n",
       "      <td id=\"T_4311d_row10_col5\" class=\"data row10 col5\" >0.1661</td>\n",
       "      <td id=\"T_4311d_row10_col6\" class=\"data row10 col6\" >0.1823</td>\n",
       "    </tr>\n",
       "    <tr>\n",
       "      <th id=\"T_4311d_level0_row11\" class=\"row_heading level0 row11\" >Std</th>\n",
       "      <td id=\"T_4311d_row11_col0\" class=\"data row11 col0\" >0.0098</td>\n",
       "      <td id=\"T_4311d_row11_col1\" class=\"data row11 col1\" >0.0101</td>\n",
       "      <td id=\"T_4311d_row11_col2\" class=\"data row11 col2\" >0.0201</td>\n",
       "      <td id=\"T_4311d_row11_col3\" class=\"data row11 col3\" >0.0145</td>\n",
       "      <td id=\"T_4311d_row11_col4\" class=\"data row11 col4\" >0.0193</td>\n",
       "      <td id=\"T_4311d_row11_col5\" class=\"data row11 col5\" >0.0205</td>\n",
       "      <td id=\"T_4311d_row11_col6\" class=\"data row11 col6\" >0.0210</td>\n",
       "    </tr>\n",
       "  </tbody>\n",
       "</table>\n"
      ],
      "text/plain": [
       "<pandas.io.formats.style.Styler at 0x251ba79be80>"
      ]
     },
     "metadata": {},
     "output_type": "display_data"
    },
    {
     "data": {
      "text/html": [],
      "text/plain": [
       "<IPython.core.display.HTML object>"
      ]
     },
     "metadata": {},
     "output_type": "display_data"
    },
    {
     "name": "stdout",
     "output_type": "stream",
     "text": [
      "Fitting 10 folds for each of 4 candidates, totalling 40 fits\n",
      "Original model was better than the tuned model, hence it will be returned. NOTE: The display metrics are for the tuned model (not the original one).\n"
     ]
    },
    {
     "data": {
      "text/html": [
       "<style type=\"text/css\">\n",
       "</style>\n",
       "<table id=\"T_50912\">\n",
       "  <thead>\n",
       "    <tr>\n",
       "      <th class=\"blank level0\" >&nbsp;</th>\n",
       "      <th id=\"T_50912_level0_col0\" class=\"col_heading level0 col0\" >Model</th>\n",
       "      <th id=\"T_50912_level0_col1\" class=\"col_heading level0 col1\" >Accuracy</th>\n",
       "      <th id=\"T_50912_level0_col2\" class=\"col_heading level0 col2\" >AUC</th>\n",
       "      <th id=\"T_50912_level0_col3\" class=\"col_heading level0 col3\" >Recall</th>\n",
       "      <th id=\"T_50912_level0_col4\" class=\"col_heading level0 col4\" >Prec.</th>\n",
       "      <th id=\"T_50912_level0_col5\" class=\"col_heading level0 col5\" >F1</th>\n",
       "      <th id=\"T_50912_level0_col6\" class=\"col_heading level0 col6\" >Kappa</th>\n",
       "      <th id=\"T_50912_level0_col7\" class=\"col_heading level0 col7\" >MCC</th>\n",
       "    </tr>\n",
       "  </thead>\n",
       "  <tbody>\n",
       "    <tr>\n",
       "      <th id=\"T_50912_level0_row0\" class=\"row_heading level0 row0\" >0</th>\n",
       "      <td id=\"T_50912_row0_col0\" class=\"data row0 col0\" >Decision Tree Classifier</td>\n",
       "      <td id=\"T_50912_row0_col1\" class=\"data row0 col1\" >0.5484</td>\n",
       "      <td id=\"T_50912_row0_col2\" class=\"data row0 col2\" >0.5281</td>\n",
       "      <td id=\"T_50912_row0_col3\" class=\"data row0 col3\" >0.6174</td>\n",
       "      <td id=\"T_50912_row0_col4\" class=\"data row0 col4\" >0.5230</td>\n",
       "      <td id=\"T_50912_row0_col5\" class=\"data row0 col5\" >0.5663</td>\n",
       "      <td id=\"T_50912_row0_col6\" class=\"data row0 col6\" >0.1020</td>\n",
       "      <td id=\"T_50912_row0_col7\" class=\"data row0 col7\" >0.1036</td>\n",
       "    </tr>\n",
       "  </tbody>\n",
       "</table>\n"
      ],
      "text/plain": [
       "<pandas.io.formats.style.Styler at 0x251bad6c460>"
      ]
     },
     "metadata": {},
     "output_type": "display_data"
    },
    {
     "name": "stdout",
     "output_type": "stream",
     "text": [
      "Transformation Pipeline and Model Successfully Saved\n",
      "Transformation Pipeline and Model Successfully Loaded\n"
     ]
    },
    {
     "name": "stderr",
     "output_type": "stream",
     "text": [
      "Registered model 'modelo_kobe' already exists. Creating a new version of this model...\n",
      "Created version '4' of model 'modelo_kobe'.\n"
     ]
    }
   ],
   "source": [
    "# definicao de nomes dos arquivos\n",
    "FILE_PROCESSED_PREDICTION_TEST = PATH_DATA_PROCESSED + 'prediction_test.parquet'\n",
    "\n",
    "FILE_FIG_LR = PATH_FIG + 'lr_validation_curve.png'\n",
    "\n",
    "FILE_FIG_DT = PATH_FIG + 'dt_validation_curve.png'\n",
    "\n",
    "FILE_REGISTERED_MODEL = 'modelo_kobe'\n",
    "\n",
    "\n",
    "nexamples = 5\n",
    "\n",
    "model_version = -1 # recuperar a ultima versao\n",
    "\n",
    "\n",
    "with mlflow.start_run(experiment_id = experiment_id, \n",
    "                      run_name = 'Treinamento'):\n",
    "\n",
    "    experiment = pc.setup(\n",
    "        data = x_train,\n",
    "        target = COL_TARGET,\n",
    "        test_data = x_test,\n",
    "        normalize=True,\n",
    "        log_experiment=False,\n",
    "    )\n",
    "    \n",
    "    list_models = experiment.compare_models(\n",
    "        include = ['lr', 'dt'], \n",
    "        n_select = 2, \n",
    "        sort='f1',\n",
    "    )\n",
    "\n",
    "    list_models\n",
    "        \n",
    "    \n",
    "    ## ARVORE DE DECISÃO (DT - DECISION TREE)\n",
    "    model_0 = list_models[0]\n",
    "\n",
    "    yhat_test = experiment.predict_model(model_0, \n",
    "                                         raw_score = True)\n",
    "\n",
    "    plot_parameter_validation_curve(\n",
    "        x_train[COL_FEATURES], # .drop(COL_TARGET, axis=1), \n",
    "        y_train, \n",
    "        'max_depth', \n",
    "        {'max_depth': [x for x in range(2,9)]}, \n",
    "        model_0, \n",
    "        'Árvore Decisão', \n",
    "        'f1', \n",
    "        logx = False,\n",
    "    )\n",
    "    \n",
    "    try:\n",
    "        os.remove(FILE_FIG_DT)\n",
    "    except OSError:\n",
    "        pass\n",
    "\n",
    "    plt.savefig(FILE_FIG_DT, format=\"png\")\n",
    "\n",
    "    plot_parameter_validation_curve_close()\n",
    "\n",
    "    mlflow.log_artifact(FILE_FIG_DT)\n",
    "    \n",
    "    mlflow.log_metrics({\n",
    "        'dt_log_loss': log_loss(\n",
    "            yhat_test[COL_TARGET],\n",
    "            yhat_test.prediction_label,\n",
    "        ),\n",
    "        'dt_f1': f1_score(\n",
    "            yhat_test[COL_TARGET],\n",
    "            yhat_test.prediction_label),\n",
    "    })\n",
    "\n",
    "\n",
    "    # confusion matrix\n",
    "    plot_model(model_0, plot = 'confusion_matrix')\n",
    "\n",
    "    # curva ROC\n",
    "    plot_model(model_0, plot = 'auc')\n",
    "\n",
    "    # medindo o modelo\n",
    "    evaluate_model(model_0)\n",
    "\n",
    "\n",
    "    ## REGRESSÃO LOGISTICA (LG - LOGISTIC REGRESSION)\n",
    "    model_1 = list_models[1]\n",
    "\n",
    "    yhat_test = experiment.predict_model(model_1, \n",
    "                                         raw_score = True)\n",
    "\n",
    "    plot_parameter_validation_curve(\n",
    "        x_train[COL_FEATURES], # .drop(COL_TARGET, axis=1),\n",
    "        y_train,\n",
    "        'C',\n",
    "        {'C': [0.001, 0.01, 0.1, 1, 10]},\n",
    "        model_1,\n",
    "        'Regressão Logística',\n",
    "        'f1',\n",
    "        logx = True,\n",
    "    )\n",
    "    \n",
    "    try:\n",
    "        os.remove(FILE_FIG_LR)\n",
    "    except OSError:\n",
    "        pass\n",
    "\n",
    "    plt.savefig(FILE_FIG_LR, format=\"png\")\n",
    "\n",
    "    plot_parameter_validation_curve_close()\n",
    "    \n",
    "    mlflow.log_artifact(FILE_FIG_LR)\n",
    "\n",
    "    mlflow.log_metrics({\n",
    "        'lr_log_loss': log_loss(\n",
    "            yhat_test[COL_TARGET],\n",
    "            yhat_test.prediction_label,\n",
    "        ),\n",
    "        'lf_f1': f1_score(\n",
    "            yhat_test[COL_TARGET],\n",
    "            yhat_test.prediction_label),\n",
    "    })\n",
    "\n",
    "   \n",
    "    # confusion matrix\n",
    "    plot_model(model_1, plot = 'confusion_matrix')\n",
    "\n",
    "    # curva ROC\n",
    "    plot_model(model_1, plot = 'auc')\n",
    "\n",
    "    # medindo o modelo\n",
    "    evaluate_model(model_1)\n",
    "\n",
    "\n",
    "\n",
    "    # curva ROC sobreposta\n",
    "    yhat_test = experiment.predict_model(model_0, raw_score = True)\n",
    "    fpr, tpr, thr = roc_curve(yhat_test[COL_TARGET], yhat_test.prediction_score_1)\n",
    "    plt.plot(fpr, tpr, label = 'DT')\n",
    "\n",
    "    yhat_test = experiment.predict_model(model_1, raw_score = True)\n",
    "    fpr, tpr, thr = roc_curve(yhat_test[COL_TARGET], yhat_test.prediction_score_1)\n",
    "    plt.plot(fpr, tpr, label = 'RL')\n",
    "\n",
    "    plt.xlabel('False Positive Rate')\n",
    "    plt.ylabel('True Positive Rate')\n",
    "\n",
    "    plt.legend()\n",
    "    plt.title('ROC curve')\n",
    "\n",
    "    plt.show()\n",
    "\n",
    "\n",
    "    ## FINALIZACAO MELHOR MODELO\n",
    "    tune_model = experiment.tune_model(\n",
    "        model_0,\n",
    "        optimize = 'f1',\n",
    "        search_library = 'scikit-learn',\n",
    "        search_algorithm = 'random',\n",
    "        n_iter = 4,\n",
    "    )\n",
    "\n",
    "    yhat_test = experiment.predict_model(tune_model, \n",
    "                                         raw_score=True)\n",
    "\n",
    "\n",
    "    yhat_test.to_parquet(FILE_PROCESSED_PREDICTION_TEST)\n",
    "    \n",
    "    mlflow.log_artifact(FILE_PROCESSED_PREDICTION_TEST)\n",
    "\n",
    "\n",
    "    mlflow.log_metrics({\n",
    "        'final_log_loss': log_loss(\n",
    "            yhat_test[COL_TARGET],\n",
    "            yhat_test.prediction_label,\n",
    "        ),\n",
    "        'final_f1': f1_score(\n",
    "            yhat_test[COL_TARGET],\n",
    "            yhat_test.prediction_label),\n",
    "    })\n",
    "    \n",
    "    final_model = experiment.finalize_model(tune_model)\n",
    "\n",
    "\n",
    "    ## EXPORTACAO PARA LOG E REGISTRO DO MODELO\n",
    "    experiment.save_model(final_model, f'{FILE_REGISTERED_MODEL}') \n",
    "    \n",
    "    # Carrega novamente o pipeline + bestmodel\n",
    "    model_pipe = experiment.load_model(f'{FILE_REGISTERED_MODEL}')\n",
    "    \n",
    "    # Assinatura do Modelo Inferida pelo MLFlow\n",
    "    model_features = list(x_train.drop(COL_TARGET, axis=1).columns)\n",
    "\n",
    "    inf_signature = infer_signature(\n",
    "        x_train[COL_FEATURES], \n",
    "        model_pipe.predict_proba(x_train[COL_FEATURES]) # .drop(COL_TARGET, axis=1))\n",
    "    )\n",
    "    \n",
    "    # Exemplo de entrada para o MLmodel\n",
    "    input_example = {x: x_train[x].values[:nexamples] for x in COL_FEATURES}\n",
    "    \n",
    "    # Log do pipeline de modelagem do sklearn e registrar como uma nova versao\n",
    "    mlflow.sklearn.log_model(\n",
    "        sk_model = model_pipe,\n",
    "        artifact_path = \"sklearn-model\",\n",
    "        registered_model_name = FILE_REGISTERED_MODEL,\n",
    "        signature = inf_signature,\n",
    "        input_example = input_example,\n",
    "        pyfunc_predict_fn = 'predict_proba',\n",
    "    )\n",
    "    \n",
    "    # Criacao do cliente do servico MLFlow e atualizacao versao modelo\n",
    "    client = MlflowClient()\n",
    "\n",
    "    if model_version == -1:\n",
    "        model_version = client.get_latest_versions(FILE_REGISTERED_MODEL)[-1].version\n",
    "\n",
    "    # Registrar o modelo como staging\n",
    "    client.set_registered_model_alias(\n",
    "        name    = FILE_REGISTERED_MODEL, \n",
    "        alias   = \"staging\", \n",
    "        version = model_version\n",
    "    )\n"
   ]
  },
  {
   "cell_type": "markdown",
   "id": "1cf0bc9c",
   "metadata": {},
   "source": [
    "### Aplicação"
   ]
  },
  {
   "cell_type": "code",
   "execution_count": 36,
   "id": "ee993a91",
   "metadata": {},
   "outputs": [
    {
     "name": "stdout",
     "output_type": "stream",
     "text": [
      "<class 'pandas.core.frame.DataFrame'>\n",
      "Int64Index: 5412 entries, 10 to 30695\n",
      "Data columns (total 6 columns):\n",
      " #   Column             Non-Null Count  Dtype  \n",
      "---  ------             --------------  -----  \n",
      " 0   lat                5412 non-null   float64\n",
      " 1   lon                5412 non-null   float64\n",
      " 2   minutes_remaining  5412 non-null   int64  \n",
      " 3   period             5412 non-null   int64  \n",
      " 4   playoffs           5412 non-null   int64  \n",
      " 5   shot_distance      5412 non-null   int64  \n",
      "dtypes: float64(2), int64(4)\n",
      "memory usage: 296.0 KB\n"
     ]
    }
   ],
   "source": [
    "data_prod[COL_FEATURES].info()"
   ]
  },
  {
   "cell_type": "code",
   "execution_count": 33,
   "id": "2d8053c0-84ab-4a5d-b148-8f2d1f50093e",
   "metadata": {},
   "outputs": [
    {
     "name": "stdout",
     "output_type": "stream",
     "text": [
      "<class 'pandas.core.frame.DataFrame'>\n",
      "Int64Index: 6426 entries, 10 to 30695\n",
      "Data columns (total 7 columns):\n",
      " #   Column             Non-Null Count  Dtype  \n",
      "---  ------             --------------  -----  \n",
      " 0   lat                6426 non-null   float64\n",
      " 1   lon                6426 non-null   float64\n",
      " 2   minutes_remaining  6426 non-null   int64  \n",
      " 3   period             6426 non-null   int64  \n",
      " 4   playoffs           6426 non-null   int64  \n",
      " 5   shot_distance      6426 non-null   int64  \n",
      " 6   shot_made_flag     5412 non-null   float64\n",
      "dtypes: float64(3), int64(4)\n",
      "memory usage: 401.6 KB\n"
     ]
    },
    {
     "data": {
      "text/html": [],
      "text/plain": [
       "<IPython.core.display.HTML object>"
      ]
     },
     "metadata": {},
     "output_type": "display_data"
    },
    {
     "data": {
      "image/png": "[encoded data removed]",
      "text/plain": [
       "<Figure size 800x550 with 1 Axes>"
      ]
     },
     "metadata": {},
     "output_type": "display_data"
    },
    {
     "data": {
      "text/html": [],
      "text/plain": [
       "<IPython.core.display.HTML object>"
      ]
     },
     "metadata": {},
     "output_type": "display_data"
    },
    {
     "data": {
      "image/png": "[encoded data removed]",
      "text/plain": [
       "<Figure size 800x550 with 1 Axes>"
      ]
     },
     "metadata": {},
     "output_type": "display_data"
    },
    {
     "data": {
      "application/vnd.jupyter.widget-view+json": {
       "model_id": "1838b4744a434b488bf3514782993d6c",
       "version_major": 2,
       "version_minor": 0
      },
      "text/plain": [
       "interactive(children=(ToggleButtons(description='Plot Type:', icons=('',), options=(('Pipeline Plot', 'pipelin…"
      ]
     },
     "metadata": {},
     "output_type": "display_data"
    },
    {
     "ename": "ValueError",
     "evalue": "Classification metrics can't handle a mix of binary and continuous targets",
     "output_type": "error",
     "traceback": [
      "\u001b[1;31m---------------------------------------------------------------------------\u001b[0m",
      "\u001b[1;31mValueError\u001b[0m                                Traceback (most recent call last)",
      "Cell \u001b[1;32mIn[33], line 53\u001b[0m\n\u001b[0;32m     45\u001b[0m mlflow\u001b[38;5;241m.\u001b[39mlog_artifact(FILE_PROCESSED_PREDICTION_PROD)\n\u001b[0;32m     47\u001b[0m \u001b[38;5;66;03m# Y não está gerando a probabilidade\u001b[39;00m\n\u001b[0;32m     48\u001b[0m mlflow\u001b[38;5;241m.\u001b[39mlog_metrics({\n\u001b[0;32m     49\u001b[0m     \u001b[38;5;124m'\u001b[39m\u001b[38;5;124mlog_loss\u001b[39m\u001b[38;5;124m'\u001b[39m: log_loss(\n\u001b[0;32m     50\u001b[0m         data_prod[COL_TARGET],\n\u001b[0;32m     51\u001b[0m         data_prod\u001b[38;5;241m.\u001b[39mpredict_score,\n\u001b[0;32m     52\u001b[0m     ),\n\u001b[1;32m---> 53\u001b[0m     \u001b[38;5;124m'\u001b[39m\u001b[38;5;124mf1\u001b[39m\u001b[38;5;124m'\u001b[39m: \u001b[43mf1_score\u001b[49m\u001b[43m(\u001b[49m\n\u001b[0;32m     54\u001b[0m \u001b[43m        \u001b[49m\u001b[43mdata_prod\u001b[49m\u001b[43m[\u001b[49m\u001b[43mCOL_TARGET\u001b[49m\u001b[43m]\u001b[49m\u001b[43m,\u001b[49m\n\u001b[0;32m     55\u001b[0m \u001b[43m        \u001b[49m\u001b[43mdata_prod\u001b[49m\u001b[38;5;241;43m.\u001b[39;49m\u001b[43mpredict_score\u001b[49m\u001b[43m)\u001b[49m,\n\u001b[0;32m     56\u001b[0m })\n",
      "File \u001b[1;32mc:\\Users\\bomyo\\Anaconda3\\envs\\engml\\lib\\site-packages\\sklearn\\metrics\\_classification.py:1146\u001b[0m, in \u001b[0;36mf1_score\u001b[1;34m(y_true, y_pred, labels, pos_label, average, sample_weight, zero_division)\u001b[0m\n\u001b[0;32m   1011\u001b[0m \u001b[38;5;28;01mdef\u001b[39;00m \u001b[38;5;21mf1_score\u001b[39m(\n\u001b[0;32m   1012\u001b[0m     y_true,\n\u001b[0;32m   1013\u001b[0m     y_pred,\n\u001b[1;32m   (...)\u001b[0m\n\u001b[0;32m   1019\u001b[0m     zero_division\u001b[38;5;241m=\u001b[39m\u001b[38;5;124m\"\u001b[39m\u001b[38;5;124mwarn\u001b[39m\u001b[38;5;124m\"\u001b[39m,\n\u001b[0;32m   1020\u001b[0m ):\n\u001b[0;32m   1021\u001b[0m \u001b[38;5;250m    \u001b[39m\u001b[38;5;124;03m\"\"\"Compute the F1 score, also known as balanced F-score or F-measure.\u001b[39;00m\n\u001b[0;32m   1022\u001b[0m \n\u001b[0;32m   1023\u001b[0m \u001b[38;5;124;03m    The F1 score can be interpreted as a harmonic mean of the precision and\u001b[39;00m\n\u001b[1;32m   (...)\u001b[0m\n\u001b[0;32m   1144\u001b[0m \u001b[38;5;124;03m    array([0.66666667, 1.        , 0.66666667])\u001b[39;00m\n\u001b[0;32m   1145\u001b[0m \u001b[38;5;124;03m    \"\"\"\u001b[39;00m\n\u001b[1;32m-> 1146\u001b[0m     \u001b[38;5;28;01mreturn\u001b[39;00m \u001b[43mfbeta_score\u001b[49m\u001b[43m(\u001b[49m\n\u001b[0;32m   1147\u001b[0m \u001b[43m        \u001b[49m\u001b[43my_true\u001b[49m\u001b[43m,\u001b[49m\n\u001b[0;32m   1148\u001b[0m \u001b[43m        \u001b[49m\u001b[43my_pred\u001b[49m\u001b[43m,\u001b[49m\n\u001b[0;32m   1149\u001b[0m \u001b[43m        \u001b[49m\u001b[43mbeta\u001b[49m\u001b[38;5;241;43m=\u001b[39;49m\u001b[38;5;241;43m1\u001b[39;49m\u001b[43m,\u001b[49m\n\u001b[0;32m   1150\u001b[0m \u001b[43m        \u001b[49m\u001b[43mlabels\u001b[49m\u001b[38;5;241;43m=\u001b[39;49m\u001b[43mlabels\u001b[49m\u001b[43m,\u001b[49m\n\u001b[0;32m   1151\u001b[0m \u001b[43m        \u001b[49m\u001b[43mpos_label\u001b[49m\u001b[38;5;241;43m=\u001b[39;49m\u001b[43mpos_label\u001b[49m\u001b[43m,\u001b[49m\n\u001b[0;32m   1152\u001b[0m \u001b[43m        \u001b[49m\u001b[43maverage\u001b[49m\u001b[38;5;241;43m=\u001b[39;49m\u001b[43maverage\u001b[49m\u001b[43m,\u001b[49m\n\u001b[0;32m   1153\u001b[0m \u001b[43m        \u001b[49m\u001b[43msample_weight\u001b[49m\u001b[38;5;241;43m=\u001b[39;49m\u001b[43msample_weight\u001b[49m\u001b[43m,\u001b[49m\n\u001b[0;32m   1154\u001b[0m \u001b[43m        \u001b[49m\u001b[43mzero_division\u001b[49m\u001b[38;5;241;43m=\u001b[39;49m\u001b[43mzero_division\u001b[49m\u001b[43m,\u001b[49m\n\u001b[0;32m   1155\u001b[0m \u001b[43m    \u001b[49m\u001b[43m)\u001b[49m\n",
      "File \u001b[1;32mc:\\Users\\bomyo\\Anaconda3\\envs\\engml\\lib\\site-packages\\sklearn\\metrics\\_classification.py:1287\u001b[0m, in \u001b[0;36mfbeta_score\u001b[1;34m(y_true, y_pred, beta, labels, pos_label, average, sample_weight, zero_division)\u001b[0m\n\u001b[0;32m   1158\u001b[0m \u001b[38;5;28;01mdef\u001b[39;00m \u001b[38;5;21mfbeta_score\u001b[39m(\n\u001b[0;32m   1159\u001b[0m     y_true,\n\u001b[0;32m   1160\u001b[0m     y_pred,\n\u001b[1;32m   (...)\u001b[0m\n\u001b[0;32m   1167\u001b[0m     zero_division\u001b[38;5;241m=\u001b[39m\u001b[38;5;124m\"\u001b[39m\u001b[38;5;124mwarn\u001b[39m\u001b[38;5;124m\"\u001b[39m,\n\u001b[0;32m   1168\u001b[0m ):\n\u001b[0;32m   1169\u001b[0m \u001b[38;5;250m    \u001b[39m\u001b[38;5;124;03m\"\"\"Compute the F-beta score.\u001b[39;00m\n\u001b[0;32m   1170\u001b[0m \n\u001b[0;32m   1171\u001b[0m \u001b[38;5;124;03m    The F-beta score is the weighted harmonic mean of precision and recall,\u001b[39;00m\n\u001b[1;32m   (...)\u001b[0m\n\u001b[0;32m   1284\u001b[0m \u001b[38;5;124;03m    array([0.71..., 0.        , 0.        ])\u001b[39;00m\n\u001b[0;32m   1285\u001b[0m \u001b[38;5;124;03m    \"\"\"\u001b[39;00m\n\u001b[1;32m-> 1287\u001b[0m     _, _, f, _ \u001b[38;5;241m=\u001b[39m \u001b[43mprecision_recall_fscore_support\u001b[49m\u001b[43m(\u001b[49m\n\u001b[0;32m   1288\u001b[0m \u001b[43m        \u001b[49m\u001b[43my_true\u001b[49m\u001b[43m,\u001b[49m\n\u001b[0;32m   1289\u001b[0m \u001b[43m        \u001b[49m\u001b[43my_pred\u001b[49m\u001b[43m,\u001b[49m\n\u001b[0;32m   1290\u001b[0m \u001b[43m        \u001b[49m\u001b[43mbeta\u001b[49m\u001b[38;5;241;43m=\u001b[39;49m\u001b[43mbeta\u001b[49m\u001b[43m,\u001b[49m\n\u001b[0;32m   1291\u001b[0m \u001b[43m        \u001b[49m\u001b[43mlabels\u001b[49m\u001b[38;5;241;43m=\u001b[39;49m\u001b[43mlabels\u001b[49m\u001b[43m,\u001b[49m\n\u001b[0;32m   1292\u001b[0m \u001b[43m        \u001b[49m\u001b[43mpos_label\u001b[49m\u001b[38;5;241;43m=\u001b[39;49m\u001b[43mpos_label\u001b[49m\u001b[43m,\u001b[49m\n\u001b[0;32m   1293\u001b[0m \u001b[43m        \u001b[49m\u001b[43maverage\u001b[49m\u001b[38;5;241;43m=\u001b[39;49m\u001b[43maverage\u001b[49m\u001b[43m,\u001b[49m\n\u001b[0;32m   1294\u001b[0m \u001b[43m        \u001b[49m\u001b[43mwarn_for\u001b[49m\u001b[38;5;241;43m=\u001b[39;49m\u001b[43m(\u001b[49m\u001b[38;5;124;43m\"\u001b[39;49m\u001b[38;5;124;43mf-score\u001b[39;49m\u001b[38;5;124;43m\"\u001b[39;49m\u001b[43m,\u001b[49m\u001b[43m)\u001b[49m\u001b[43m,\u001b[49m\n\u001b[0;32m   1295\u001b[0m \u001b[43m        \u001b[49m\u001b[43msample_weight\u001b[49m\u001b[38;5;241;43m=\u001b[39;49m\u001b[43msample_weight\u001b[49m\u001b[43m,\u001b[49m\n\u001b[0;32m   1296\u001b[0m \u001b[43m        \u001b[49m\u001b[43mzero_division\u001b[49m\u001b[38;5;241;43m=\u001b[39;49m\u001b[43mzero_division\u001b[49m\u001b[43m,\u001b[49m\n\u001b[0;32m   1297\u001b[0m \u001b[43m    \u001b[49m\u001b[43m)\u001b[49m\n\u001b[0;32m   1298\u001b[0m     \u001b[38;5;28;01mreturn\u001b[39;00m f\n",
      "File \u001b[1;32mc:\\Users\\bomyo\\Anaconda3\\envs\\engml\\lib\\site-packages\\sklearn\\metrics\\_classification.py:1573\u001b[0m, in \u001b[0;36mprecision_recall_fscore_support\u001b[1;34m(y_true, y_pred, beta, labels, pos_label, average, warn_for, sample_weight, zero_division)\u001b[0m\n\u001b[0;32m   1571\u001b[0m \u001b[38;5;28;01mif\u001b[39;00m beta \u001b[38;5;241m<\u001b[39m \u001b[38;5;241m0\u001b[39m:\n\u001b[0;32m   1572\u001b[0m     \u001b[38;5;28;01mraise\u001b[39;00m \u001b[38;5;167;01mValueError\u001b[39;00m(\u001b[38;5;124m\"\u001b[39m\u001b[38;5;124mbeta should be >=0 in the F-beta score\u001b[39m\u001b[38;5;124m\"\u001b[39m)\n\u001b[1;32m-> 1573\u001b[0m labels \u001b[38;5;241m=\u001b[39m \u001b[43m_check_set_wise_labels\u001b[49m\u001b[43m(\u001b[49m\u001b[43my_true\u001b[49m\u001b[43m,\u001b[49m\u001b[43m \u001b[49m\u001b[43my_pred\u001b[49m\u001b[43m,\u001b[49m\u001b[43m \u001b[49m\u001b[43maverage\u001b[49m\u001b[43m,\u001b[49m\u001b[43m \u001b[49m\u001b[43mlabels\u001b[49m\u001b[43m,\u001b[49m\u001b[43m \u001b[49m\u001b[43mpos_label\u001b[49m\u001b[43m)\u001b[49m\n\u001b[0;32m   1575\u001b[0m \u001b[38;5;66;03m# Calculate tp_sum, pred_sum, true_sum ###\u001b[39;00m\n\u001b[0;32m   1576\u001b[0m samplewise \u001b[38;5;241m=\u001b[39m average \u001b[38;5;241m==\u001b[39m \u001b[38;5;124m\"\u001b[39m\u001b[38;5;124msamples\u001b[39m\u001b[38;5;124m\"\u001b[39m\n",
      "File \u001b[1;32mc:\\Users\\bomyo\\Anaconda3\\envs\\engml\\lib\\site-packages\\sklearn\\metrics\\_classification.py:1374\u001b[0m, in \u001b[0;36m_check_set_wise_labels\u001b[1;34m(y_true, y_pred, average, labels, pos_label)\u001b[0m\n\u001b[0;32m   1371\u001b[0m \u001b[38;5;28;01mif\u001b[39;00m average \u001b[38;5;129;01mnot\u001b[39;00m \u001b[38;5;129;01min\u001b[39;00m average_options \u001b[38;5;129;01mand\u001b[39;00m average \u001b[38;5;241m!=\u001b[39m \u001b[38;5;124m\"\u001b[39m\u001b[38;5;124mbinary\u001b[39m\u001b[38;5;124m\"\u001b[39m:\n\u001b[0;32m   1372\u001b[0m     \u001b[38;5;28;01mraise\u001b[39;00m \u001b[38;5;167;01mValueError\u001b[39;00m(\u001b[38;5;124m\"\u001b[39m\u001b[38;5;124maverage has to be one of \u001b[39m\u001b[38;5;124m\"\u001b[39m \u001b[38;5;241m+\u001b[39m \u001b[38;5;28mstr\u001b[39m(average_options))\n\u001b[1;32m-> 1374\u001b[0m y_type, y_true, y_pred \u001b[38;5;241m=\u001b[39m \u001b[43m_check_targets\u001b[49m\u001b[43m(\u001b[49m\u001b[43my_true\u001b[49m\u001b[43m,\u001b[49m\u001b[43m \u001b[49m\u001b[43my_pred\u001b[49m\u001b[43m)\u001b[49m\n\u001b[0;32m   1375\u001b[0m \u001b[38;5;66;03m# Convert to Python primitive type to avoid NumPy type / Python str\u001b[39;00m\n\u001b[0;32m   1376\u001b[0m \u001b[38;5;66;03m# comparison. See https://github.com/numpy/numpy/issues/6784\u001b[39;00m\n\u001b[0;32m   1377\u001b[0m present_labels \u001b[38;5;241m=\u001b[39m unique_labels(y_true, y_pred)\u001b[38;5;241m.\u001b[39mtolist()\n",
      "File \u001b[1;32mc:\\Users\\bomyo\\Anaconda3\\envs\\engml\\lib\\site-packages\\sklearn\\metrics\\_classification.py:95\u001b[0m, in \u001b[0;36m_check_targets\u001b[1;34m(y_true, y_pred)\u001b[0m\n\u001b[0;32m     92\u001b[0m     y_type \u001b[38;5;241m=\u001b[39m {\u001b[38;5;124m\"\u001b[39m\u001b[38;5;124mmulticlass\u001b[39m\u001b[38;5;124m\"\u001b[39m}\n\u001b[0;32m     94\u001b[0m \u001b[38;5;28;01mif\u001b[39;00m \u001b[38;5;28mlen\u001b[39m(y_type) \u001b[38;5;241m>\u001b[39m \u001b[38;5;241m1\u001b[39m:\n\u001b[1;32m---> 95\u001b[0m     \u001b[38;5;28;01mraise\u001b[39;00m \u001b[38;5;167;01mValueError\u001b[39;00m(\n\u001b[0;32m     96\u001b[0m         \u001b[38;5;124m\"\u001b[39m\u001b[38;5;124mClassification metrics can\u001b[39m\u001b[38;5;124m'\u001b[39m\u001b[38;5;124mt handle a mix of \u001b[39m\u001b[38;5;132;01m{0}\u001b[39;00m\u001b[38;5;124m and \u001b[39m\u001b[38;5;132;01m{1}\u001b[39;00m\u001b[38;5;124m targets\u001b[39m\u001b[38;5;124m\"\u001b[39m\u001b[38;5;241m.\u001b[39mformat(\n\u001b[0;32m     97\u001b[0m             type_true, type_pred\n\u001b[0;32m     98\u001b[0m         )\n\u001b[0;32m     99\u001b[0m     )\n\u001b[0;32m    101\u001b[0m \u001b[38;5;66;03m# We can't have more than one value on y_type => The set is no more needed\u001b[39;00m\n\u001b[0;32m    102\u001b[0m y_type \u001b[38;5;241m=\u001b[39m y_type\u001b[38;5;241m.\u001b[39mpop()\n",
      "\u001b[1;31mValueError\u001b[0m: Classification metrics can't handle a mix of binary and continuous targets"
     ]
    }
   ],
   "source": [
    "# definicao de nomes dos arquivos\n",
    "FILE_RAW_PROD = PATH_DATA_RAW + 'dataset_kobe_prod.parquet'\n",
    "\n",
    "FILE_PROCESSED_PREDICTION_PROD = PATH_DATA_PROCESSED + 'prediction_prod.parquet'\n",
    "\n",
    "\n",
    "with mlflow.start_run(experiment_id=experiment_id, run_name = 'PipelineAplicacao'):\n",
    "\n",
    "    model_uri = f\"models:/{FILE_REGISTERED_MODEL}@staging\"\n",
    "    \n",
    "    loaded_model = mlflow.sklearn.load_model(model_uri)\n",
    "    \n",
    "    data_prod_orig = pd.read_parquet(FILE_RAW_PROD)\n",
    "        \n",
    "    data_prod = data_prod_orig[data_cols]\n",
    "                    \n",
    "\n",
    "    # analise exploratoria de dados antes de tratamento                \n",
    "    data_prod.info()\n",
    "\n",
    "\n",
    "    # dropna \n",
    "    data_prod.dropna(axis=0, inplace=True)\n",
    "\n",
    "\n",
    "    Y = loaded_model.predict_proba(data_prod[COL_FEATURES])[:,1]\n",
    "    \n",
    "\n",
    "    data_prod['predict_score'] = Y\n",
    "\n",
    "    # confusion matrix\n",
    "    plot_model(loaded_model, plot = 'confusion_matrix')\n",
    "\n",
    "    # curva ROC\n",
    "    plot_model(loaded_model, plot = 'auc')\n",
    "\n",
    "\n",
    "    # medindo o modelo\n",
    "    evaluate_model(loaded_model)\n",
    "\n",
    "\n",
    "    # # salvar o dataset\n",
    "    data_prod.to_parquet(FILE_PROCESSED_PREDICTION_PROD)\n",
    "    \n",
    "    mlflow.log_artifact(FILE_PROCESSED_PREDICTION_PROD)\n",
    "    \n",
    "    # Y não está gerando a probabilidade\n",
    "    mlflow.log_metrics({\n",
    "        'log_loss': log_loss(\n",
    "            data_prod[COL_TARGET],\n",
    "            data_prod.predict_score,\n",
    "        ),\n",
    "        'f1': f1_score(\n",
    "            data_prod[COL_TARGET],\n",
    "            data_prod.predict_score),\n",
    "    })\n"
   ]
  },
  {
   "cell_type": "code",
   "execution_count": 31,
   "id": "4aa4c8f6",
   "metadata": {},
   "outputs": [
    {
     "name": "stdout",
     "output_type": "stream",
     "text": [
      "<class 'pandas.core.frame.DataFrame'>\n",
      "RangeIndex: 5412 entries, 0 to 5411\n",
      "Data columns (total 2 columns):\n",
      " #   Column  Non-Null Count  Dtype  \n",
      "---  ------  --------------  -----  \n",
      " 0   0       5412 non-null   float64\n",
      " 1   1       5412 non-null   float64\n",
      "dtypes: float64(2)\n",
      "memory usage: 84.7 KB\n"
     ]
    }
   ],
   "source": [
    "pd.DataFrame(Y).info()"
   ]
  },
  {
   "cell_type": "code",
   "execution_count": null,
   "id": "fcb12674",
   "metadata": {},
   "outputs": [],
   "source": [
    "mlflow.end_run()  "
   ]
  }
 ],
 "metadata": {
  "kernelspec": {
   "display_name": "Python 3 (ipykernel)",
   "language": "python",
   "name": "python3"
  },
  "language_info": {
   "codemirror_mode": {
    "name": "ipython",
    "version": 3
   },
   "file_extension": ".py",
   "mimetype": "text/x-python",
   "name": "python",
   "nbconvert_exporter": "python",
   "pygments_lexer": "ipython3",
   "version": "3.9.19"
  },
  "widgets": {
   "application/vnd.jupyter.widget-state+json": {
    "state": {
     "00cac424803742bb851c4ae8a683ca36": {
      "model_module": "@jupyter-widgets/base",
      "model_module_version": "2.0.0",
      "model_name": "LayoutModel",
      "state": {}
     },
     "00e8a3e8e10749b79feb33e631caeb42": {
      "model_module": "@jupyter-widgets/controls",
      "model_module_version": "2.0.0",
      "model_name": "HTMLModel",
      "state": {
       "layout": "IPY_MODEL_8243fb823cd148c3bc093e643669c615",
       "style": "IPY_MODEL_1ce79953dce54afb8ea73653c55e4c64",
       "value": "Processing: 100%"
      }
     },
     "00f40d22775e41c893f80b545a7572d4": {
      "model_module": "@jupyter-widgets/controls",
      "model_module_version": "2.0.0",
      "model_name": "HTMLStyleModel",
      "state": {
       "description_width": "",
       "font_size": null,
       "text_color": null
      }
     },
     "010f9f535a274f97b5dd2700e067a625": {
      "model_module": "@jupyter-widgets/controls",
      "model_module_version": "2.0.0",
      "model_name": "ProgressStyleModel",
      "state": {
       "description_width": ""
      }
     },
     "027f17a2ee9a485e90683c519aff8f91": {
      "model_module": "@jupyter-widgets/base",
      "model_module_version": "2.0.0",
      "model_name": "LayoutModel",
      "state": {
       "visibility": "hidden"
      }
     },
     "02acd015c5d44edb8600742dfbdc46dc": {
      "model_module": "@jupyter-widgets/controls",
      "model_module_version": "2.0.0",
      "model_name": "HTMLStyleModel",
      "state": {
       "description_width": "",
       "font_size": null,
       "text_color": null
      }
     },
     "03b842ebb1894ca0bfba84042f26c703": {
      "model_module": "@jupyter-widgets/controls",
      "model_module_version": "2.0.0",
      "model_name": "ProgressStyleModel",
      "state": {
       "description_width": ""
      }
     },
     "0435ed9586944a36aec223c824e4f0b6": {
      "model_module": "@jupyter-widgets/base",
      "model_module_version": "2.0.0",
      "model_name": "LayoutModel",
      "state": {
       "visibility": "hidden"
      }
     },
     "0445810309a748fe9e30c11bc85a0573": {
      "model_module": "@jupyter-widgets/controls",
      "model_module_version": "2.0.0",
      "model_name": "HTMLStyleModel",
      "state": {
       "description_width": "",
       "font_size": null,
       "text_color": null
      }
     },
     "04b9aa3d57fc4b348891383be00dea5e": {
      "model_module": "@jupyter-widgets/base",
      "model_module_version": "2.0.0",
      "model_name": "LayoutModel",
      "state": {
       "visibility": "hidden"
      }
     },
     "04c190bc45b145b4a7d29f434d12160d": {
      "model_module": "@jupyter-widgets/controls",
      "model_module_version": "2.0.0",
      "model_name": "HTMLStyleModel",
      "state": {
       "description_width": "",
       "font_size": null,
       "text_color": null
      }
     },
     "052193d48da844fb9aad6400ccf49716": {
      "model_module": "@jupyter-widgets/controls",
      "model_module_version": "2.0.0",
      "model_name": "HTMLModel",
      "state": {
       "layout": "IPY_MODEL_fea1f5b5e61a47c3a5bf16fe6988c283",
       "style": "IPY_MODEL_360bc8fff2ad4ede8370491be301a855",
       "value": " 14/14 [00:03&lt;00:00,  3.17it/s]"
      }
     },
     "067994d160924792977078b0a72fb91a": {
      "model_module": "@jupyter-widgets/base",
      "model_module_version": "2.0.0",
      "model_name": "LayoutModel",
      "state": {}
     },
     "06ee4edb9e1a49e186d1beefdb3ee57e": {
      "model_module": "@jupyter-widgets/controls",
      "model_module_version": "2.0.0",
      "model_name": "HTMLModel",
      "state": {
       "layout": "IPY_MODEL_674d0d9788a64d1190286099b31a8ebe",
       "style": "IPY_MODEL_c6fb1841b1544197a19851480cca015f",
       "value": " 14/14 [00:03&lt;00:00,  2.73it/s]"
      }
     },
     "07098315be764dd283d07e3488030c4c": {
      "model_module": "@jupyter-widgets/base",
      "model_module_version": "2.0.0",
      "model_name": "LayoutModel",
      "state": {}
     },
     "0797b8a31a2440f181bddac948a7b559": {
      "model_module": "@jupyter-widgets/base",
      "model_module_version": "2.0.0",
      "model_name": "LayoutModel",
      "state": {}
     },
     "07a0fa0d845b40c8a2b42d6c87e423f5": {
      "model_module": "@jupyter-widgets/controls",
      "model_module_version": "2.0.0",
      "model_name": "FloatProgressModel",
      "state": {
       "layout": "IPY_MODEL_e57005af17584fe0b646012994b400fc",
       "max": 14,
       "style": "IPY_MODEL_528c1ff958b24ffca1db619fa38cc310",
       "value": 14
      }
     },
     "07ae7908542446bbace0986995719b1d": {
      "model_module": "@jupyter-widgets/controls",
      "model_module_version": "2.0.0",
      "model_name": "HTMLModel",
      "state": {
       "layout": "IPY_MODEL_8910725db05a458f94eaa0a9380cf25c",
       "style": "IPY_MODEL_fecfe64b50a44aa7bb4a8c7ad310cdb7",
       "value": " 14/14 [00:03&lt;00:00,  2.64it/s]"
      }
     },
     "08b9873f190047ed8b96827218a601d6": {
      "model_module": "@jupyter-widgets/controls",
      "model_module_version": "2.0.0",
      "model_name": "HTMLModel",
      "state": {
       "layout": "IPY_MODEL_0797b8a31a2440f181bddac948a7b559",
       "style": "IPY_MODEL_c7239bef241f4fd9911738b080f094fe",
       "value": " 14/14 [00:03&lt;00:00,  3.36it/s]"
      }
     },
     "09ab3e6c929d46caad2a16e97fa1023f": {
      "model_module": "@jupyter-widgets/base",
      "model_module_version": "2.0.0",
      "model_name": "LayoutModel",
      "state": {}
     },
     "0b982de9f5664c55a7d545625004f247": {
      "model_module": "@jupyter-widgets/controls",
      "model_module_version": "2.0.0",
      "model_name": "HTMLModel",
      "state": {
       "layout": "IPY_MODEL_7a29bdfb44ed4632a8b96c47f5bf37e2",
       "style": "IPY_MODEL_76a62f392f734c54be3f02099ce10113",
       "value": " 6/7 [00:07&lt;00:01,  1.08s/it]"
      }
     },
     "0d1d17e6a7954951a1b540e117efc340": {
      "model_module": "@jupyter-widgets/controls",
      "model_module_version": "2.0.0",
      "model_name": "HTMLModel",
      "state": {
       "layout": "IPY_MODEL_b077fb9514dc4ed0a088c137ee07c09e",
       "style": "IPY_MODEL_5964d1eff53b4b5bbf3763885f9b8c8d",
       "value": " 14/14 [00:13&lt;00:00,  1.32it/s]"
      }
     },
     "0d2346ec523c43c3a1ca67601a61d4e4": {
      "model_module": "@jupyter-widgets/controls",
      "model_module_version": "2.0.0",
      "model_name": "FloatProgressModel",
      "state": {
       "layout": "IPY_MODEL_2b8f15089573416c91478d1ea4362f71",
       "max": 7,
       "style": "IPY_MODEL_c3322f9e9c6c454693275b36785f4fa8",
       "value": 7
      }
     },
     "0d31925fad3b4fce97717ef79894c7a3": {
      "model_module": "@jupyter-widgets/controls",
      "model_module_version": "2.0.0",
      "model_name": "ProgressStyleModel",
      "state": {
       "description_width": ""
      }
     },
     "0dc89e06f38949e3aaba5253ca5e3099": {
      "model_module": "@jupyter-widgets/controls",
      "model_module_version": "2.0.0",
      "model_name": "HTMLModel",
      "state": {
       "layout": "IPY_MODEL_93c7fcf125d04495aa87f1f81b3db4c0",
       "style": "IPY_MODEL_04c190bc45b145b4a7d29f434d12160d",
       "value": " 6/7 [00:01&lt;00:00,  5.21it/s]"
      }
     },
     "0e3221d930f043ffa60af47c835a635d": {
      "model_module": "@jupyter-widgets/base",
      "model_module_version": "2.0.0",
      "model_name": "LayoutModel",
      "state": {}
     },
     "0eca758f6d0d46d4b864fc7883f3e7ca": {
      "model_module": "@jupyter-widgets/controls",
      "model_module_version": "2.0.0",
      "model_name": "HTMLStyleModel",
      "state": {
       "description_width": "",
       "font_size": null,
       "text_color": null
      }
     },
     "0f333e89f56948538a116b7f1acf7405": {
      "model_module": "@jupyter-widgets/base",
      "model_module_version": "2.0.0",
      "model_name": "LayoutModel",
      "state": {}
     },
     "0f347a86b7de4913a1309adabb1e662c": {
      "model_module": "@jupyter-widgets/controls",
      "model_module_version": "2.0.0",
      "model_name": "HTMLModel",
      "state": {
       "layout": "IPY_MODEL_e52b4502d5a749a7bd11c67bd45642fb",
       "style": "IPY_MODEL_0eca758f6d0d46d4b864fc7883f3e7ca",
       "value": " 14/14 [00:13&lt;00:00,  1.17it/s]"
      }
     },
     "0f6aa20a51e1480296c005d3f9840f36": {
      "model_module": "@jupyter-widgets/base",
      "model_module_version": "2.0.0",
      "model_name": "LayoutModel",
      "state": {}
     },
     "0f8ebb5d8c284641b0d54c5e9512c506": {
      "model_module": "@jupyter-widgets/controls",
      "model_module_version": "2.0.0",
      "model_name": "HTMLModel",
      "state": {
       "layout": "IPY_MODEL_d13804b64c8643318151184a36a304a9",
       "style": "IPY_MODEL_0445810309a748fe9e30c11bc85a0573",
       "value": " 14/14 [00:03&lt;00:00,  3.00it/s]"
      }
     },
     "0fed9c2b6032493a936ab01ebe50fe5b": {
      "model_module": "@jupyter-widgets/controls",
      "model_module_version": "2.0.0",
      "model_name": "HTMLModel",
      "state": {
       "layout": "IPY_MODEL_6cd300fc51164c71abb56e971ad5e102",
       "style": "IPY_MODEL_8be8ae87d532429888eff2d2dbab7fa2",
       "value": " 14/14 [00:03&lt;00:00,  3.03it/s]"
      }
     },
     "102197b3a5af4f59ab7cdfaafda0b113": {
      "model_module": "@jupyter-widgets/base",
      "model_module_version": "2.0.0",
      "model_name": "LayoutModel",
      "state": {}
     },
     "104655528beb43b1856f501808e1ef1b": {
      "model_module": "@jupyter-widgets/controls",
      "model_module_version": "2.0.0",
      "model_name": "ProgressStyleModel",
      "state": {
       "description_width": ""
      }
     },
     "1121702fce934e1aa91b48037ac2c98e": {
      "model_module": "@jupyter-widgets/base",
      "model_module_version": "2.0.0",
      "model_name": "LayoutModel",
      "state": {}
     },
     "114e8f8e2c4b4eeead913fa70696ff0d": {
      "model_module": "@jupyter-widgets/controls",
      "model_module_version": "2.0.0",
      "model_name": "HTMLModel",
      "state": {
       "layout": "IPY_MODEL_dac04be675874a889c9e613aec2411f1",
       "style": "IPY_MODEL_f863943f897044c78b5a77bd6e3c8d5d",
       "value": " 14/14 [00:03&lt;00:00,  2.91it/s]"
      }
     },
     "11ca76399a0c4baab7a04d587114bde8": {
      "model_module": "@jupyter-widgets/controls",
      "model_module_version": "2.0.0",
      "model_name": "FloatProgressModel",
      "state": {
       "layout": "IPY_MODEL_9d60def2907842cd86cfb2ff9d805d03",
       "max": 14,
       "style": "IPY_MODEL_2f70cf09a7fd4669acb6c4c03c9d6add",
       "value": 14
      }
     },
     "12c62f7fbffd469382271cdce07eea95": {
      "model_module": "@jupyter-widgets/base",
      "model_module_version": "2.0.0",
      "model_name": "LayoutModel",
      "state": {}
     },
     "12c8be30908d45c4be4b4f0a426643ee": {
      "model_module": "@jupyter-widgets/controls",
      "model_module_version": "2.0.0",
      "model_name": "HTMLStyleModel",
      "state": {
       "description_width": "",
       "font_size": null,
       "text_color": null
      }
     },
     "132cb1c49f8a4016aa7958e561e06294": {
      "model_module": "@jupyter-widgets/base",
      "model_module_version": "2.0.0",
      "model_name": "LayoutModel",
      "state": {}
     },
     "1418016f1471451ebeb5752f2d774301": {
      "model_module": "@jupyter-widgets/controls",
      "model_module_version": "2.0.0",
      "model_name": "HTMLStyleModel",
      "state": {
       "description_width": "",
       "font_size": null,
       "text_color": null
      }
     },
     "14573b6b76ce43f3bba3b438b06d3d33": {
      "model_module": "@jupyter-widgets/controls",
      "model_module_version": "2.0.0",
      "model_name": "HTMLStyleModel",
      "state": {
       "description_width": "",
       "font_size": null,
       "text_color": null
      }
     },
     "148211cb5f46432e91bc363484359fda": {
      "model_module": "@jupyter-widgets/controls",
      "model_module_version": "2.0.0",
      "model_name": "HTMLStyleModel",
      "state": {
       "description_width": "",
       "font_size": null,
       "text_color": null
      }
     },
     "155f80729e554c7b9258755e1ce6cc24": {
      "model_module": "@jupyter-widgets/controls",
      "model_module_version": "2.0.0",
      "model_name": "FloatProgressModel",
      "state": {
       "layout": "IPY_MODEL_a5e983e0ce0441609022d731abf32183",
       "max": 7,
       "style": "IPY_MODEL_f0a9f34992504cdfaa482f79f6d5d6c6",
       "value": 7
      }
     },
     "162da23d42104d08a337b88de8dd0f08": {
      "model_module": "@jupyter-widgets/base",
      "model_module_version": "2.0.0",
      "model_name": "LayoutModel",
      "state": {}
     },
     "165b9b2dbdf642e985334eca9c9b4395": {
      "model_module": "@jupyter-widgets/controls",
      "model_module_version": "2.0.0",
      "model_name": "HTMLModel",
      "state": {
       "layout": "IPY_MODEL_da115e886e304b2e909be3a2e5756bb1",
       "style": "IPY_MODEL_3f1941814c5f460d8398b00d293c73df",
       "value": "Processing: 100%"
      }
     },
     "167d4d0ff46b42f2a49e04d19b231a08": {
      "model_module": "@jupyter-widgets/controls",
      "model_module_version": "2.0.0",
      "model_name": "HTMLModel",
      "state": {
       "layout": "IPY_MODEL_162da23d42104d08a337b88de8dd0f08",
       "style": "IPY_MODEL_8aab96419b5a40d2bd088766ec122ed2",
       "value": "Processing: 100%"
      }
     },
     "1763e75dace549f6a3670f36dac58f95": {
      "model_module": "@jupyter-widgets/controls",
      "model_module_version": "2.0.0",
      "model_name": "FloatProgressModel",
      "state": {
       "layout": "IPY_MODEL_38de742c23a44e77996b1d93e136bcde",
       "max": 14,
       "style": "IPY_MODEL_f27381dcb3cb40db89e196bc0eba70bf",
       "value": 14
      }
     },
     "177f88db4de74085b905e76a598c7664": {
      "model_module": "@jupyter-widgets/base",
      "model_module_version": "2.0.0",
      "model_name": "LayoutModel",
      "state": {}
     },
     "17b3dfa3d31344a98c829945763d7c4a": {
      "model_module": "@jupyter-widgets/controls",
      "model_module_version": "2.0.0",
      "model_name": "FloatProgressModel",
      "state": {
       "layout": "IPY_MODEL_85e274baed8f43c9ae52e42b2e9bbd29",
       "max": 14,
       "style": "IPY_MODEL_58a48a4e181343bbabc2bf5209cf0cbf",
       "value": 14
      }
     },
     "18e7e0b20a794d0688f53f758a628253": {
      "model_module": "@jupyter-widgets/controls",
      "model_module_version": "2.0.0",
      "model_name": "HTMLModel",
      "state": {
       "layout": "IPY_MODEL_067994d160924792977078b0a72fb91a",
       "style": "IPY_MODEL_93c6ecdd8b3e40f5acc8eac0323adae8",
       "value": "Processing: 100%"
      }
     },
     "198ed6ad6bd44ba89621a88ec9c3b1ca": {
      "model_module": "@jupyter-widgets/base",
      "model_module_version": "2.0.0",
      "model_name": "LayoutModel",
      "state": {}
     },
     "1accf3d7b8ef4acb9e1f1dc4dc4899ad": {
      "model_module": "@jupyter-widgets/controls",
      "model_module_version": "2.0.0",
      "model_name": "HTMLStyleModel",
      "state": {
       "description_width": "",
       "font_size": null,
       "text_color": null
      }
     },
     "1b48f65db25b4dc99a4d2e18d4274266": {
      "model_module": "@jupyter-widgets/controls",
      "model_module_version": "2.0.0",
      "model_name": "FloatProgressModel",
      "state": {
       "layout": "IPY_MODEL_91df41ef25aa4688afc91620a0de10cb",
       "max": 14,
       "style": "IPY_MODEL_375fde663d16482bbd9be9a3db765ddf",
       "value": 14
      }
     },
     "1ce79953dce54afb8ea73653c55e4c64": {
      "model_module": "@jupyter-widgets/controls",
      "model_module_version": "2.0.0",
      "model_name": "HTMLStyleModel",
      "state": {
       "description_width": "",
       "font_size": null,
       "text_color": null
      }
     },
     "1d470001b57b425998742a9c9ccfe03c": {
      "model_module": "@jupyter-widgets/controls",
      "model_module_version": "2.0.0",
      "model_name": "ProgressStyleModel",
      "state": {
       "description_width": ""
      }
     },
     "1d6ee2ed9a9a4a17bd45c18a8970cfd9": {
      "model_module": "@jupyter-widgets/controls",
      "model_module_version": "2.0.0",
      "model_name": "HTMLModel",
      "state": {
       "layout": "IPY_MODEL_6ed7ce0a42624954bdb601cdcfc450a2",
       "style": "IPY_MODEL_a892191a839048b0a065d96edc3ae0cc",
       "value": "Processing:  86%"
      }
     },
     "1eca1eef20524a11afda5b0bf2295807": {
      "model_module": "@jupyter-widgets/base",
      "model_module_version": "2.0.0",
      "model_name": "LayoutModel",
      "state": {
       "visibility": "hidden"
      }
     },
     "1ee0c8a93ec44bdab861a763937a8ba3": {
      "model_module": "@jupyter-widgets/base",
      "model_module_version": "2.0.0",
      "model_name": "LayoutModel",
      "state": {}
     },
     "1f2cc7dc4d5b4fb1ae7af77ba425afdd": {
      "model_module": "@jupyter-widgets/controls",
      "model_module_version": "2.0.0",
      "model_name": "HTMLStyleModel",
      "state": {
       "description_width": "",
       "font_size": null,
       "text_color": null
      }
     },
     "1f8348590ed140d091ba45a6ec16b7a0": {
      "model_module": "@jupyter-widgets/controls",
      "model_module_version": "2.0.0",
      "model_name": "FloatProgressModel",
      "state": {
       "layout": "IPY_MODEL_431844d136c04bd8a38374c548766203",
       "max": 14,
       "style": "IPY_MODEL_1d470001b57b425998742a9c9ccfe03c",
       "value": 14
      }
     },
     "1f8b34be08834ddc982eab1bdec3562c": {
      "model_module": "@jupyter-widgets/controls",
      "model_module_version": "2.0.0",
      "model_name": "HTMLStyleModel",
      "state": {
       "description_width": "",
       "font_size": null,
       "text_color": null
      }
     },
     "2127a0b0d2b74ea38149167e50ee64d8": {
      "model_module": "@jupyter-widgets/base",
      "model_module_version": "2.0.0",
      "model_name": "LayoutModel",
      "state": {}
     },
     "213900c0d7b54f4cbe37975e4051bc99": {
      "model_module": "@jupyter-widgets/controls",
      "model_module_version": "2.0.0",
      "model_name": "HTMLModel",
      "state": {
       "layout": "IPY_MODEL_895f87e0548a4c59bb9232ce15d10745",
       "style": "IPY_MODEL_00f40d22775e41c893f80b545a7572d4",
       "value": "Processing:  86%"
      }
     },
     "2207ae5d008a4cdebb6558038699a9b4": {
      "model_module": "@jupyter-widgets/base",
      "model_module_version": "2.0.0",
      "model_name": "LayoutModel",
      "state": {
       "visibility": "hidden"
      }
     },
     "22ab2b6100d8427aa1c07f384d660008": {
      "model_module": "@jupyter-widgets/controls",
      "model_module_version": "2.0.0",
      "model_name": "HTMLStyleModel",
      "state": {
       "description_width": "",
       "font_size": null,
       "text_color": null
      }
     },
     "230240062e00466aaea163e7efed6574": {
      "model_module": "@jupyter-widgets/base",
      "model_module_version": "2.0.0",
      "model_name": "LayoutModel",
      "state": {}
     },
     "245fcbb4e4454464a1296fcc86a47f9d": {
      "model_module": "@jupyter-widgets/controls",
      "model_module_version": "2.0.0",
      "model_name": "HTMLModel",
      "state": {
       "layout": "IPY_MODEL_198ed6ad6bd44ba89621a88ec9c3b1ca",
       "style": "IPY_MODEL_69fc61e95c8041a88e689c8bd08b8b3c",
       "value": "Processing:  86%"
      }
     },
     "26ba8effe16448709c97c9d1b95c7c41": {
      "model_module": "@jupyter-widgets/controls",
      "model_module_version": "2.0.0",
      "model_name": "HTMLStyleModel",
      "state": {
       "description_width": "",
       "font_size": null,
       "text_color": null
      }
     },
     "274a9e356a894a7c826c7d4f51e1f23a": {
      "model_module": "@jupyter-widgets/base",
      "model_module_version": "2.0.0",
      "model_name": "LayoutModel",
      "state": {}
     },
     "275b4a84640448299775f7dfae0389f3": {
      "model_module": "@jupyter-widgets/controls",
      "model_module_version": "2.0.0",
      "model_name": "FloatProgressModel",
      "state": {
       "layout": "IPY_MODEL_00cac424803742bb851c4ae8a683ca36",
       "max": 14,
       "style": "IPY_MODEL_7d3988a6aba14160b3a24633dd76f94b",
       "value": 14
      }
     },
     "27648d1a26af4348bb4a6f927e8187f8": {
      "model_module": "@jupyter-widgets/base",
      "model_module_version": "2.0.0",
      "model_name": "LayoutModel",
      "state": {}
     },
     "2796176e9854443bb0c34867d14905d2": {
      "model_module": "@jupyter-widgets/controls",
      "model_module_version": "2.0.0",
      "model_name": "ProgressStyleModel",
      "state": {
       "description_width": ""
      }
     },
     "27c5b7680b9b44829137691160a10204": {
      "model_module": "@jupyter-widgets/controls",
      "model_module_version": "2.0.0",
      "model_name": "HTMLModel",
      "state": {
       "layout": "IPY_MODEL_75ebd8d1c698428c94432eefd34cb47d",
       "style": "IPY_MODEL_22ab2b6100d8427aa1c07f384d660008",
       "value": "Processing: 100%"
      }
     },
     "2831f97120d74f1e82d358b9ba9bb927": {
      "model_module": "@jupyter-widgets/controls",
      "model_module_version": "2.0.0",
      "model_name": "HTMLStyleModel",
      "state": {
       "description_width": "",
       "font_size": null,
       "text_color": null
      }
     },
     "287f6e11ab3945f6bd2d85f61eb1259b": {
      "model_module": "@jupyter-widgets/controls",
      "model_module_version": "2.0.0",
      "model_name": "HTMLModel",
      "state": {
       "layout": "IPY_MODEL_aa7940e53d484f72af781bd44ce9874b",
       "style": "IPY_MODEL_2bb0ade8a2e64057958ad635617aecfc",
       "value": "Processing: 100%"
      }
     },
     "2896fed94a2d4f76916bbd22b8d8ec64": {
      "model_module": "@jupyter-widgets/controls",
      "model_module_version": "2.0.0",
      "model_name": "FloatProgressModel",
      "state": {
       "layout": "IPY_MODEL_ba56a6fb28e543f2847c94f3332c18ff",
       "max": 14,
       "style": "IPY_MODEL_b7d141d353ae432cbc6d507b4cc761fc",
       "value": 14
      }
     },
     "28cceea36a3f4d9a81d7839957b9259a": {
      "model_module": "@jupyter-widgets/base",
      "model_module_version": "2.0.0",
      "model_name": "LayoutModel",
      "state": {}
     },
     "28fc3c8ffdea4685804be68618a8b726": {
      "model_module": "@jupyter-widgets/controls",
      "model_module_version": "2.0.0",
      "model_name": "HTMLStyleModel",
      "state": {
       "description_width": "",
       "font_size": null,
       "text_color": null
      }
     },
     "29515a4d258246fba206515c56d8b932": {
      "model_module": "@jupyter-widgets/controls",
      "model_module_version": "2.0.0",
      "model_name": "HTMLModel",
      "state": {
       "layout": "IPY_MODEL_2d68b8cf13bd467ea39600eb767dab6c",
       "style": "IPY_MODEL_770a9e3ee29a4dcc8cbe9d4eadf4a672",
       "value": "Processing: 100%"
      }
     },
     "29c73e14f7864b5891f8a50bc4c7eb8c": {
      "model_module": "@jupyter-widgets/controls",
      "model_module_version": "2.0.0",
      "model_name": "HTMLModel",
      "state": {
       "layout": "IPY_MODEL_12c62f7fbffd469382271cdce07eea95",
       "style": "IPY_MODEL_b0ab3fe12a0140d8a67cbbcdd63f5dff",
       "value": " 6/7 [00:01&lt;00:00,  5.03it/s]"
      }
     },
     "2b6244aed5074406948918e7f2b91240": {
      "model_module": "@jupyter-widgets/controls",
      "model_module_version": "2.0.0",
      "model_name": "FloatProgressModel",
      "state": {
       "layout": "IPY_MODEL_5e5f5f4d1673432b94c1aaf29f2f9d5b",
       "max": 14,
       "style": "IPY_MODEL_3c70775edb664a4b83418567794fe350",
       "value": 14
      }
     },
     "2b8f15089573416c91478d1ea4362f71": {
      "model_module": "@jupyter-widgets/base",
      "model_module_version": "2.0.0",
      "model_name": "LayoutModel",
      "state": {}
     },
     "2bb0ade8a2e64057958ad635617aecfc": {
      "model_module": "@jupyter-widgets/controls",
      "model_module_version": "2.0.0",
      "model_name": "HTMLStyleModel",
      "state": {
       "description_width": "",
       "font_size": null,
       "text_color": null
      }
     },
     "2c04365c9e854cef85ddd49d806b7111": {
      "model_module": "@jupyter-widgets/base",
      "model_module_version": "2.0.0",
      "model_name": "LayoutModel",
      "state": {}
     },
     "2c40fb5bb9164980b49e4355f7bfc5a5": {
      "model_module": "@jupyter-widgets/base",
      "model_module_version": "2.0.0",
      "model_name": "LayoutModel",
      "state": {}
     },
     "2c974ac0057749359b8895737340d46f": {
      "model_module": "@jupyter-widgets/controls",
      "model_module_version": "2.0.0",
      "model_name": "ProgressStyleModel",
      "state": {
       "description_width": ""
      }
     },
     "2d68b8cf13bd467ea39600eb767dab6c": {
      "model_module": "@jupyter-widgets/base",
      "model_module_version": "2.0.0",
      "model_name": "LayoutModel",
      "state": {}
     },
     "2f10791f62ce452fbaf1e06d6c1da429": {
      "model_module": "@jupyter-widgets/base",
      "model_module_version": "2.0.0",
      "model_name": "LayoutModel",
      "state": {}
     },
     "2f30e5dc6dea4a5e84bb2881afe19ff9": {
      "model_module": "@jupyter-widgets/controls",
      "model_module_version": "2.0.0",
      "model_name": "ProgressStyleModel",
      "state": {
       "description_width": ""
      }
     },
     "2f70cf09a7fd4669acb6c4c03c9d6add": {
      "model_module": "@jupyter-widgets/controls",
      "model_module_version": "2.0.0",
      "model_name": "ProgressStyleModel",
      "state": {
       "description_width": ""
      }
     },
     "316728c57b664dca8875170996d14cf0": {
      "model_module": "@jupyter-widgets/controls",
      "model_module_version": "2.0.0",
      "model_name": "HTMLStyleModel",
      "state": {
       "description_width": "",
       "font_size": null,
       "text_color": null
      }
     },
     "3186a61bd7794abb96c3aab68a5ee8d5": {
      "model_module": "@jupyter-widgets/controls",
      "model_module_version": "2.0.0",
      "model_name": "HTMLStyleModel",
      "state": {
       "description_width": "",
       "font_size": null,
       "text_color": null
      }
     },
     "31e85d6243f74fa39c802e5390fd8480": {
      "model_module": "@jupyter-widgets/controls",
      "model_module_version": "2.0.0",
      "model_name": "FloatProgressModel",
      "state": {
       "layout": "IPY_MODEL_712b7145ba99426b8484f564ba880aed",
       "max": 7,
       "style": "IPY_MODEL_a92c67eef3b74d36a0b95106fe866c40",
       "value": 7
      }
     },
     "328f784bae1c4bf090173d3b200dd7b4": {
      "model_module": "@jupyter-widgets/controls",
      "model_module_version": "2.0.0",
      "model_name": "HTMLModel",
      "state": {
       "layout": "IPY_MODEL_cc194caf6e6944e6b9501b68f200e6d8",
       "style": "IPY_MODEL_3fe1a5ac8f66493faec1fb61e1dda3fa",
       "value": "Processing:  86%"
      }
     },
     "33078ada7f68433d9ceee25927bfa6f3": {
      "model_module": "@jupyter-widgets/base",
      "model_module_version": "2.0.0",
      "model_name": "LayoutModel",
      "state": {}
     },
     "344d4dd7658d4f12bd1d8180793a5131": {
      "model_module": "@jupyter-widgets/controls",
      "model_module_version": "2.0.0",
      "model_name": "HTMLStyleModel",
      "state": {
       "description_width": "",
       "font_size": null,
       "text_color": null
      }
     },
     "349bd2b93dae41c79bc520038c492afa": {
      "model_module": "@jupyter-widgets/controls",
      "model_module_version": "2.0.0",
      "model_name": "HTMLModel",
      "state": {
       "layout": "IPY_MODEL_7b51a9a2256b4c74a31a848ce049c217",
       "style": "IPY_MODEL_878706ae2a82418f9a53cf06605fb9f4",
       "value": "Processing: 100%"
      }
     },
     "34c92e3137904d5abbb1edaa33dc323d": {
      "model_module": "@jupyter-widgets/controls",
      "model_module_version": "2.0.0",
      "model_name": "HTMLStyleModel",
      "state": {
       "description_width": "",
       "font_size": null,
       "text_color": null
      }
     },
     "35edcc16103246448e8cccbb42765ac7": {
      "model_module": "@jupyter-widgets/controls",
      "model_module_version": "2.0.0",
      "model_name": "HTMLModel",
      "state": {
       "layout": "IPY_MODEL_fa49bdbc30924cfba0559db82d9e4d00",
       "style": "IPY_MODEL_a72bf0bc6f044a20aa16fea944dba36b",
       "value": " 14/14 [00:04&lt;00:00,  2.46it/s]"
      }
     },
     "35f5b02db3f84b30be8ac15a973009a6": {
      "model_module": "@jupyter-widgets/controls",
      "model_module_version": "2.0.0",
      "model_name": "HTMLModel",
      "state": {
       "layout": "IPY_MODEL_4877ece3419a4f0ab687e5a5f1b6f61b",
       "style": "IPY_MODEL_28fc3c8ffdea4685804be68618a8b726",
       "value": "Processing: 100%"
      }
     },
     "360bc8fff2ad4ede8370491be301a855": {
      "model_module": "@jupyter-widgets/controls",
      "model_module_version": "2.0.0",
      "model_name": "HTMLStyleModel",
      "state": {
       "description_width": "",
       "font_size": null,
       "text_color": null
      }
     },
     "36367a760266483db0fe1024e77d8a06": {
      "model_module": "@jupyter-widgets/base",
      "model_module_version": "2.0.0",
      "model_name": "LayoutModel",
      "state": {
       "visibility": "hidden"
      }
     },
     "36e44e73b73b47b6bc48b700559bf850": {
      "model_module": "@jupyter-widgets/controls",
      "model_module_version": "2.0.0",
      "model_name": "HTMLModel",
      "state": {
       "layout": "IPY_MODEL_c1d67a871e2a42658af9b960238f0fb6",
       "style": "IPY_MODEL_7d95e4e8eb904645a67444c0fd2ade24",
       "value": "Processing: 100%"
      }
     },
     "375fde663d16482bbd9be9a3db765ddf": {
      "model_module": "@jupyter-widgets/controls",
      "model_module_version": "2.0.0",
      "model_name": "ProgressStyleModel",
      "state": {
       "description_width": ""
      }
     },
     "3762b2ef80ce4d849a502584d1818e02": {
      "model_module": "@jupyter-widgets/base",
      "model_module_version": "2.0.0",
      "model_name": "LayoutModel",
      "state": {}
     },
     "37ac907528ad43ea987406dbbc1010a2": {
      "model_module": "@jupyter-widgets/controls",
      "model_module_version": "2.0.0",
      "model_name": "HTMLStyleModel",
      "state": {
       "description_width": "",
       "font_size": null,
       "text_color": null
      }
     },
     "3842a3a1203c49ed8de59028588c5881": {
      "model_module": "@jupyter-widgets/controls",
      "model_module_version": "2.0.0",
      "model_name": "HTMLStyleModel",
      "state": {
       "description_width": "",
       "font_size": null,
       "text_color": null
      }
     },
     "38c1fbb3bf8047419cfe230e07c1a513": {
      "model_module": "@jupyter-widgets/controls",
      "model_module_version": "2.0.0",
      "model_name": "ProgressStyleModel",
      "state": {
       "description_width": ""
      }
     },
     "38de742c23a44e77996b1d93e136bcde": {
      "model_module": "@jupyter-widgets/base",
      "model_module_version": "2.0.0",
      "model_name": "LayoutModel",
      "state": {}
     },
     "3918c213c55d490392aa941bcefd70da": {
      "model_module": "@jupyter-widgets/base",
      "model_module_version": "2.0.0",
      "model_name": "LayoutModel",
      "state": {}
     },
     "393c32770c464b95a6add469a9d736ce": {
      "model_module": "@jupyter-widgets/controls",
      "model_module_version": "2.0.0",
      "model_name": "ProgressStyleModel",
      "state": {
       "description_width": ""
      }
     },
     "39414102148c4973b4d5cd438af4c5b7": {
      "model_module": "@jupyter-widgets/controls",
      "model_module_version": "2.0.0",
      "model_name": "HTMLModel",
      "state": {
       "layout": "IPY_MODEL_6399143e622140efa7d5dd3e528d25c1",
       "style": "IPY_MODEL_3842a3a1203c49ed8de59028588c5881",
       "value": " 14/14 [00:13&lt;00:00,  1.33it/s]"
      }
     },
     "39c38300c91c41899bb485d7d3f617fa": {
      "model_module": "@jupyter-widgets/controls",
      "model_module_version": "2.0.0",
      "model_name": "HTMLModel",
      "state": {
       "layout": "IPY_MODEL_ab1d6d2844d343c59285918eb501de6d",
       "style": "IPY_MODEL_72213bba83734d26b0e0dfbcd6821856",
       "value": "Processing: 100%"
      }
     },
     "39fe60bb3a3942088c9dee123beba2c4": {
      "model_module": "@jupyter-widgets/controls",
      "model_module_version": "2.0.0",
      "model_name": "HTMLModel",
      "state": {
       "layout": "IPY_MODEL_7d328aa97fa941f4b4aec03c5ebf6d8c",
       "style": "IPY_MODEL_409b2895ab7141ef88b51cdda7c218d3",
       "value": " 14/14 [00:13&lt;00:00,  1.28it/s]"
      }
     },
     "3a9a5afff0bf4bf987d32291654cc430": {
      "model_module": "@jupyter-widgets/controls",
      "model_module_version": "2.0.0",
      "model_name": "HTMLModel",
      "state": {
       "layout": "IPY_MODEL_5e0ad2a611834866bd98d0458ea9b959",
       "style": "IPY_MODEL_4a4403220b5047d5a2dbbcb6a89a905f",
       "value": " 6/7 [00:01&lt;00:00,  4.38it/s]"
      }
     },
     "3bf83f10161b444f955fe5b44a6125aa": {
      "model_module": "@jupyter-widgets/base",
      "model_module_version": "2.0.0",
      "model_name": "LayoutModel",
      "state": {}
     },
     "3c0d2754b75d4d82bfeca66ddb53bdc9": {
      "model_module": "@jupyter-widgets/base",
      "model_module_version": "2.0.0",
      "model_name": "LayoutModel",
      "state": {
       "visibility": "hidden"
      }
     },
     "3c6a4c3db2a243fd9ec09721def3d19e": {
      "model_module": "@jupyter-widgets/controls",
      "model_module_version": "2.0.0",
      "model_name": "HTMLStyleModel",
      "state": {
       "description_width": "",
       "font_size": null,
       "text_color": null
      }
     },
     "3c70775edb664a4b83418567794fe350": {
      "model_module": "@jupyter-widgets/controls",
      "model_module_version": "2.0.0",
      "model_name": "ProgressStyleModel",
      "state": {
       "description_width": ""
      }
     },
     "3cc5d1594a3a49ebb04b90a0789687fd": {
      "model_module": "@jupyter-widgets/base",
      "model_module_version": "2.0.0",
      "model_name": "LayoutModel",
      "state": {}
     },
     "3d0367d944a246ba985e73941144fec0": {
      "model_module": "@jupyter-widgets/controls",
      "model_module_version": "2.0.0",
      "model_name": "HTMLModel",
      "state": {
       "layout": "IPY_MODEL_c6e8509e2f414573adee6378e6f00ccb",
       "style": "IPY_MODEL_8ab40b9aa9fc4f108a213ffcbbd82b69",
       "value": " 6/7 [00:01&lt;00:00,  4.50it/s]"
      }
     },
     "3ee3811ae31641a4b26165984eb36052": {
      "model_module": "@jupyter-widgets/base",
      "model_module_version": "2.0.0",
      "model_name": "LayoutModel",
      "state": {}
     },
     "3f0d67cca3084be3b3a2c2744776c3c4": {
      "model_module": "@jupyter-widgets/controls",
      "model_module_version": "2.0.0",
      "model_name": "HTMLModel",
      "state": {
       "layout": "IPY_MODEL_98dca2fbb00c478ea9e8d2ef158e507e",
       "style": "IPY_MODEL_727039d2f46148ea9e1f095f612d9401",
       "value": "Processing: 100%"
      }
     },
     "3f1941814c5f460d8398b00d293c73df": {
      "model_module": "@jupyter-widgets/controls",
      "model_module_version": "2.0.0",
      "model_name": "HTMLStyleModel",
      "state": {
       "description_width": "",
       "font_size": null,
       "text_color": null
      }
     },
     "3fe1a5ac8f66493faec1fb61e1dda3fa": {
      "model_module": "@jupyter-widgets/controls",
      "model_module_version": "2.0.0",
      "model_name": "HTMLStyleModel",
      "state": {
       "description_width": "",
       "font_size": null,
       "text_color": null
      }
     },
     "4000a5b1f0ba4d8db0d0aeb94acde9e0": {
      "model_module": "@jupyter-widgets/controls",
      "model_module_version": "2.0.0",
      "model_name": "ProgressStyleModel",
      "state": {
       "description_width": ""
      }
     },
     "406a16ee149048c5b5c54aadad091a24": {
      "model_module": "@jupyter-widgets/controls",
      "model_module_version": "2.0.0",
      "model_name": "HTMLModel",
      "state": {
       "layout": "IPY_MODEL_a17fa8671bee4fca83cf0b397e689a91",
       "style": "IPY_MODEL_7d09a425ce084737aecff1f553e07eb5",
       "value": " 6/7 [00:01&lt;00:00,  4.33it/s]"
      }
     },
     "409b2895ab7141ef88b51cdda7c218d3": {
      "model_module": "@jupyter-widgets/controls",
      "model_module_version": "2.0.0",
      "model_name": "HTMLStyleModel",
      "state": {
       "description_width": "",
       "font_size": null,
       "text_color": null
      }
     },
     "42e3695576374ebba261c9a49a8d9ec7": {
      "model_module": "@jupyter-widgets/controls",
      "model_module_version": "2.0.0",
      "model_name": "HTMLStyleModel",
      "state": {
       "description_width": "",
       "font_size": null,
       "text_color": null
      }
     },
     "431844d136c04bd8a38374c548766203": {
      "model_module": "@jupyter-widgets/base",
      "model_module_version": "2.0.0",
      "model_name": "LayoutModel",
      "state": {}
     },
     "43ca5deeb98a43228901d9bd02f7e9d3": {
      "model_module": "@jupyter-widgets/base",
      "model_module_version": "2.0.0",
      "model_name": "LayoutModel",
      "state": {}
     },
     "4432a761c7044b099cfdd314f115de95": {
      "model_module": "@jupyter-widgets/controls",
      "model_module_version": "2.0.0",
      "model_name": "HTMLModel",
      "state": {
       "layout": "IPY_MODEL_782a11dbe711400fb43e3b65be7de8ff",
       "style": "IPY_MODEL_1f2cc7dc4d5b4fb1ae7af77ba425afdd",
       "value": " 14/14 [00:03&lt;00:00,  2.96it/s]"
      }
     },
     "449144f624f246c5a044c4f7dc27a359": {
      "model_module": "@jupyter-widgets/base",
      "model_module_version": "2.0.0",
      "model_name": "LayoutModel",
      "state": {
       "visibility": "hidden"
      }
     },
     "44b79b6f983e458cab683ff1cd4f5146": {
      "model_module": "@jupyter-widgets/base",
      "model_module_version": "2.0.0",
      "model_name": "LayoutModel",
      "state": {}
     },
     "46e38c16accc456dad4928b976bce104": {
      "model_module": "@jupyter-widgets/controls",
      "model_module_version": "2.0.0",
      "model_name": "HTMLModel",
      "state": {
       "layout": "IPY_MODEL_9e460bcc838f47cb9712372906859d15",
       "style": "IPY_MODEL_42e3695576374ebba261c9a49a8d9ec7",
       "value": " 14/14 [00:03&lt;00:00,  2.69it/s]"
      }
     },
     "47359abab508427b99e33ca828645dd8": {
      "model_module": "@jupyter-widgets/controls",
      "model_module_version": "2.0.0",
      "model_name": "FloatProgressModel",
      "state": {
       "layout": "IPY_MODEL_0e3221d930f043ffa60af47c835a635d",
       "max": 14,
       "style": "IPY_MODEL_104655528beb43b1856f501808e1ef1b",
       "value": 14
      }
     },
     "473cc609bd8f4caa81db1192bc8424d7": {
      "model_module": "@jupyter-widgets/controls",
      "model_module_version": "2.0.0",
      "model_name": "HTMLModel",
      "state": {
       "layout": "IPY_MODEL_6b6404ff1166438b933382e0876bc7b8",
       "style": "IPY_MODEL_877bd6b615d04f66ad0dadeabf81ddfd",
       "value": " 14/14 [00:11&lt;00:00,  1.57it/s]"
      }
     },
     "4877ece3419a4f0ab687e5a5f1b6f61b": {
      "model_module": "@jupyter-widgets/base",
      "model_module_version": "2.0.0",
      "model_name": "LayoutModel",
      "state": {}
     },
     "4a054332314e412f849cec5df44d7065": {
      "model_module": "@jupyter-widgets/base",
      "model_module_version": "2.0.0",
      "model_name": "LayoutModel",
      "state": {}
     },
     "4a4403220b5047d5a2dbbcb6a89a905f": {
      "model_module": "@jupyter-widgets/controls",
      "model_module_version": "2.0.0",
      "model_name": "HTMLStyleModel",
      "state": {
       "description_width": "",
       "font_size": null,
       "text_color": null
      }
     },
     "4ad00b4bcef34dc4a3e2bec695d96f0d": {
      "model_module": "@jupyter-widgets/controls",
      "model_module_version": "2.0.0",
      "model_name": "HTMLModel",
      "state": {
       "layout": "IPY_MODEL_4da0bc0d0c9640f1b55aa337a6a1980b",
       "style": "IPY_MODEL_efbe2f19b43745cf8419e1a19532faf9",
       "value": "Processing: 100%"
      }
     },
     "4b72b5fcdde54b3590b2e35eb7fd1589": {
      "model_module": "@jupyter-widgets/base",
      "model_module_version": "2.0.0",
      "model_name": "LayoutModel",
      "state": {}
     },
     "4c17785766e348c38aabe35597d22976": {
      "model_module": "@jupyter-widgets/base",
      "model_module_version": "2.0.0",
      "model_name": "LayoutModel",
      "state": {}
     },
     "4cc04de01f34450680cbe3a7190cce28": {
      "model_module": "@jupyter-widgets/controls",
      "model_module_version": "2.0.0",
      "model_name": "FloatProgressModel",
      "state": {
       "layout": "IPY_MODEL_e4a9c95c5ec4441bb23fdca2afe0b387",
       "max": 14,
       "style": "IPY_MODEL_f13cfcf5ff504e9fbf71a6d474ff9054",
       "value": 14
      }
     },
     "4da0bc0d0c9640f1b55aa337a6a1980b": {
      "model_module": "@jupyter-widgets/base",
      "model_module_version": "2.0.0",
      "model_name": "LayoutModel",
      "state": {}
     },
     "4dbbabed6ac343179875dbd5c1cf41e9": {
      "model_module": "@jupyter-widgets/controls",
      "model_module_version": "2.0.0",
      "model_name": "ProgressStyleModel",
      "state": {
       "description_width": ""
      }
     },
     "4df1942f241d41aca2eff82460afa80c": {
      "model_module": "@jupyter-widgets/controls",
      "model_module_version": "2.0.0",
      "model_name": "FloatProgressModel",
      "state": {
       "layout": "IPY_MODEL_73a04f956f30423b868907c563795c9f",
       "max": 14,
       "style": "IPY_MODEL_6d3bb24c48c5410c912ffcf8467facd5",
       "value": 14
      }
     },
     "4e9a315caefa4ac09c12c6c59330a431": {
      "model_module": "@jupyter-widgets/controls",
      "model_module_version": "2.0.0",
      "model_name": "HTMLStyleModel",
      "state": {
       "description_width": "",
       "font_size": null,
       "text_color": null
      }
     },
     "4fe56b73755a4b83b7c7e2e4ed15aff3": {
      "model_module": "@jupyter-widgets/controls",
      "model_module_version": "2.0.0",
      "model_name": "FloatProgressModel",
      "state": {
       "layout": "IPY_MODEL_f3e38395d8334fec883bc88a5ee80842",
       "max": 14,
       "style": "IPY_MODEL_ca8e1c4504d54eee911dbd22e980781c",
       "value": 14
      }
     },
     "519697afb3334719a763ec4e37fa44bc": {
      "model_module": "@jupyter-widgets/base",
      "model_module_version": "2.0.0",
      "model_name": "LayoutModel",
      "state": {
       "visibility": "hidden"
      }
     },
     "5210cde671c94399b797ea84c0d789d2": {
      "model_module": "@jupyter-widgets/base",
      "model_module_version": "2.0.0",
      "model_name": "LayoutModel",
      "state": {
       "visibility": "hidden"
      }
     },
     "52250b65620e45c3a75d6023d7a65b81": {
      "model_module": "@jupyter-widgets/base",
      "model_module_version": "2.0.0",
      "model_name": "LayoutModel",
      "state": {
       "visibility": "hidden"
      }
     },
     "528c1ff958b24ffca1db619fa38cc310": {
      "model_module": "@jupyter-widgets/controls",
      "model_module_version": "2.0.0",
      "model_name": "ProgressStyleModel",
      "state": {
       "description_width": ""
      }
     },
     "52b3eb3555384760b374583d454aa09f": {
      "model_module": "@jupyter-widgets/controls",
      "model_module_version": "2.0.0",
      "model_name": "HTMLModel",
      "state": {
       "layout": "IPY_MODEL_daccd773c5d240198dfe10bc805a2329",
       "style": "IPY_MODEL_34c92e3137904d5abbb1edaa33dc323d",
       "value": " 7/7 [00:01&lt;00:00,  4.60it/s]"
      }
     },
     "5330ecf487de4161bdd3464253a2b665": {
      "model_module": "@jupyter-widgets/controls",
      "model_module_version": "2.0.0",
      "model_name": "HTMLStyleModel",
      "state": {
       "description_width": "",
       "font_size": null,
       "text_color": null
      }
     },
     "53a8ab726dc8445fa60b76e2809a8225": {
      "model_module": "@jupyter-widgets/base",
      "model_module_version": "2.0.0",
      "model_name": "LayoutModel",
      "state": {
       "visibility": "hidden"
      }
     },
     "53ea3836d3ea4fb89029e772e9278716": {
      "model_module": "@jupyter-widgets/base",
      "model_module_version": "2.0.0",
      "model_name": "LayoutModel",
      "state": {
       "visibility": "hidden"
      }
     },
     "5574b1f3bf1e4966993d451cf194f5ce": {
      "model_module": "@jupyter-widgets/controls",
      "model_module_version": "2.0.0",
      "model_name": "HTMLModel",
      "state": {
       "layout": "IPY_MODEL_b7c99201ea624e78ae121c269c14be45",
       "style": "IPY_MODEL_8db5d771f8f44b53ab2cba745d44aae8",
       "value": "Processing:  86%"
      }
     },
     "55a03c05d42e4201b420a4ac59cd708a": {
      "model_module": "@jupyter-widgets/controls",
      "model_module_version": "2.0.0",
      "model_name": "ProgressStyleModel",
      "state": {
       "description_width": ""
      }
     },
     "5630c72e8c57436bb1f95fe0c1c99a97": {
      "model_module": "@jupyter-widgets/controls",
      "model_module_version": "2.0.0",
      "model_name": "FloatProgressModel",
      "state": {
       "layout": "IPY_MODEL_3762b2ef80ce4d849a502584d1818e02",
       "max": 14,
       "style": "IPY_MODEL_c715487b3db54ab7afa1a7c88b01153a",
       "value": 14
      }
     },
     "5637f52a5d69460cbf046cbc5b234122": {
      "model_module": "@jupyter-widgets/base",
      "model_module_version": "2.0.0",
      "model_name": "LayoutModel",
      "state": {}
     },
     "564ff70bc74a4fabae91afdb74c492b3": {
      "model_module": "@jupyter-widgets/controls",
      "model_module_version": "2.0.0",
      "model_name": "HTMLModel",
      "state": {
       "layout": "IPY_MODEL_1121702fce934e1aa91b48037ac2c98e",
       "style": "IPY_MODEL_8ff1d32bbdfa41c58daab12038116de1",
       "value": " 14/14 [00:13&lt;00:00,  1.27it/s]"
      }
     },
     "56f2267f532d4c718f341c8f1eada4be": {
      "model_module": "@jupyter-widgets/controls",
      "model_module_version": "2.0.0",
      "model_name": "HTMLModel",
      "state": {
       "layout": "IPY_MODEL_7b8a426188904a7fa616f436a5de6d2c",
       "style": "IPY_MODEL_ab55413c1734487c997ebb7e5143f342",
       "value": "Processing: 100%"
      }
     },
     "583c1da642c443988bbdbc591a6196fe": {
      "model_module": "@jupyter-widgets/controls",
      "model_module_version": "2.0.0",
      "model_name": "FloatProgressModel",
      "state": {
       "layout": "IPY_MODEL_230240062e00466aaea163e7efed6574",
       "max": 14,
       "style": "IPY_MODEL_b711b7da1d4843f4bf8d4f24124d6589",
       "value": 14
      }
     },
     "5855f78a183145e88de2509e1f8764a0": {
      "model_module": "@jupyter-widgets/base",
      "model_module_version": "2.0.0",
      "model_name": "LayoutModel",
      "state": {}
     },
     "58a48a4e181343bbabc2bf5209cf0cbf": {
      "model_module": "@jupyter-widgets/controls",
      "model_module_version": "2.0.0",
      "model_name": "ProgressStyleModel",
      "state": {
       "description_width": ""
      }
     },
     "5964d1eff53b4b5bbf3763885f9b8c8d": {
      "model_module": "@jupyter-widgets/controls",
      "model_module_version": "2.0.0",
      "model_name": "HTMLStyleModel",
      "state": {
       "description_width": "",
       "font_size": null,
       "text_color": null
      }
     },
     "5bbb6304ee8e419bb18e81dec022d626": {
      "model_module": "@jupyter-widgets/controls",
      "model_module_version": "2.0.0",
      "model_name": "FloatProgressModel",
      "state": {
       "layout": "IPY_MODEL_4b72b5fcdde54b3590b2e35eb7fd1589",
       "max": 14,
       "style": "IPY_MODEL_6e52d2b24d7d4b74846a98df2b72647c",
       "value": 14
      }
     },
     "5bc1956e99d74456bce786f0b1b1351e": {
      "model_module": "@jupyter-widgets/controls",
      "model_module_version": "2.0.0",
      "model_name": "HTMLModel",
      "state": {
       "layout": "IPY_MODEL_6506e9149bc9487480e2210f6c5afcf3",
       "style": "IPY_MODEL_c61b439b49ad4e14a6151e0a04e29006",
       "value": "Processing:  86%"
      }
     },
     "5d0a482351334511a4744ecb0e08cab7": {
      "model_module": "@jupyter-widgets/controls",
      "model_module_version": "2.0.0",
      "model_name": "FloatProgressModel",
      "state": {
       "layout": "IPY_MODEL_3918c213c55d490392aa941bcefd70da",
       "max": 14,
       "style": "IPY_MODEL_ff3cd211a1854ddcba02aca42c495b32",
       "value": 14
      }
     },
     "5d8b5b56554849b0adaed03ce3979f2e": {
      "model_module": "@jupyter-widgets/controls",
      "model_module_version": "2.0.0",
      "model_name": "HTMLStyleModel",
      "state": {
       "description_width": "",
       "font_size": null,
       "text_color": null
      }
     },
     "5e0ad2a611834866bd98d0458ea9b959": {
      "model_module": "@jupyter-widgets/base",
      "model_module_version": "2.0.0",
      "model_name": "LayoutModel",
      "state": {}
     },
     "5e495bf98599459ea43ac8f1d779c576": {
      "model_module": "@jupyter-widgets/controls",
      "model_module_version": "2.0.0",
      "model_name": "FloatProgressModel",
      "state": {
       "bar_style": "danger",
       "layout": "IPY_MODEL_fd39c396ccb342cb8cd9abc3b5b04738",
       "max": 7,
       "style": "IPY_MODEL_2f30e5dc6dea4a5e84bb2881afe19ff9",
       "value": 2
      }
     },
     "5e5f5f4d1673432b94c1aaf29f2f9d5b": {
      "model_module": "@jupyter-widgets/base",
      "model_module_version": "2.0.0",
      "model_name": "LayoutModel",
      "state": {}
     },
     "5ef12e83c25641f3b7320f4d7d453ba2": {
      "model_module": "@jupyter-widgets/base",
      "model_module_version": "2.0.0",
      "model_name": "LayoutModel",
      "state": {}
     },
     "5ef70cdd56f84420b05714d97b05e5ac": {
      "model_module": "@jupyter-widgets/controls",
      "model_module_version": "2.0.0",
      "model_name": "FloatProgressModel",
      "state": {
       "layout": "IPY_MODEL_966f36b251e3472da05c1245eb8f8d9f",
       "max": 14,
       "style": "IPY_MODEL_4dbbabed6ac343179875dbd5c1cf41e9",
       "value": 14
      }
     },
     "5fa316284d8b45a1b29818be15369757": {
      "model_module": "@jupyter-widgets/controls",
      "model_module_version": "2.0.0",
      "model_name": "ProgressStyleModel",
      "state": {
       "description_width": ""
      }
     },
     "5fc03a7e1c88434faea16beaef23e913": {
      "model_module": "@jupyter-widgets/base",
      "model_module_version": "2.0.0",
      "model_name": "LayoutModel",
      "state": {}
     },
     "60ce6c64633c4407b8932a923a0f525f": {
      "model_module": "@jupyter-widgets/controls",
      "model_module_version": "2.0.0",
      "model_name": "HTMLStyleModel",
      "state": {
       "description_width": "",
       "font_size": null,
       "text_color": null
      }
     },
     "6119236c7ba84918a51fd5e5934b76a1": {
      "model_module": "@jupyter-widgets/base",
      "model_module_version": "2.0.0",
      "model_name": "LayoutModel",
      "state": {}
     },
     "6127eeadfb62442d8c59297f6f86b869": {
      "model_module": "@jupyter-widgets/controls",
      "model_module_version": "2.0.0",
      "model_name": "HTMLModel",
      "state": {
       "layout": "IPY_MODEL_c1efff24206b443fa63ecac27bd621e0",
       "style": "IPY_MODEL_aae1f95292b54c05b257e96ad48a0899",
       "value": "Processing:  86%"
      }
     },
     "61d03692fa444c2ea399a50523d8e00d": {
      "model_module": "@jupyter-widgets/controls",
      "model_module_version": "2.0.0",
      "model_name": "HTMLStyleModel",
      "state": {
       "description_width": "",
       "font_size": null,
       "text_color": null
      }
     },
     "6399143e622140efa7d5dd3e528d25c1": {
      "model_module": "@jupyter-widgets/base",
      "model_module_version": "2.0.0",
      "model_name": "LayoutModel",
      "state": {}
     },
     "6506e9149bc9487480e2210f6c5afcf3": {
      "model_module": "@jupyter-widgets/base",
      "model_module_version": "2.0.0",
      "model_name": "LayoutModel",
      "state": {}
     },
     "65ef8ed01eec4a4e8f00e0d7516d64fe": {
      "model_module": "@jupyter-widgets/controls",
      "model_module_version": "2.0.0",
      "model_name": "HTMLStyleModel",
      "state": {
       "description_width": "",
       "font_size": null,
       "text_color": null
      }
     },
     "664ed41d38054d0599d02f50ca5cae83": {
      "model_module": "@jupyter-widgets/base",
      "model_module_version": "2.0.0",
      "model_name": "LayoutModel",
      "state": {}
     },
     "66be20ff93f74d149227009eb45d5f89": {
      "model_module": "@jupyter-widgets/controls",
      "model_module_version": "2.0.0",
      "model_name": "HTMLModel",
      "state": {
       "layout": "IPY_MODEL_664ed41d38054d0599d02f50ca5cae83",
       "style": "IPY_MODEL_efcf03e3cae041ceaa1425212b475090",
       "value": " 14/14 [00:03&lt;00:00,  2.84it/s]"
      }
     },
     "671d72b1cc8b4bddb37d9361398e2aea": {
      "model_module": "@jupyter-widgets/base",
      "model_module_version": "2.0.0",
      "model_name": "LayoutModel",
      "state": {}
     },
     "674d0d9788a64d1190286099b31a8ebe": {
      "model_module": "@jupyter-widgets/base",
      "model_module_version": "2.0.0",
      "model_name": "LayoutModel",
      "state": {}
     },
     "67d83c27414a4b18a3b18c65e9e9975e": {
      "model_module": "@jupyter-widgets/controls",
      "model_module_version": "2.0.0",
      "model_name": "HTMLStyleModel",
      "state": {
       "description_width": "",
       "font_size": null,
       "text_color": null
      }
     },
     "6899ba6edbb34444b2b8df33b81cdec5": {
      "model_module": "@jupyter-widgets/base",
      "model_module_version": "2.0.0",
      "model_name": "LayoutModel",
      "state": {
       "visibility": "hidden"
      }
     },
     "69fc61e95c8041a88e689c8bd08b8b3c": {
      "model_module": "@jupyter-widgets/controls",
      "model_module_version": "2.0.0",
      "model_name": "HTMLStyleModel",
      "state": {
       "description_width": "",
       "font_size": null,
       "text_color": null
      }
     },
     "6a81637d64454a8486617444ad08685f": {
      "model_module": "@jupyter-widgets/base",
      "model_module_version": "2.0.0",
      "model_name": "LayoutModel",
      "state": {
       "visibility": "hidden"
      }
     },
     "6b0392064cef442c87f2fddc3f0c15ca": {
      "model_module": "@jupyter-widgets/base",
      "model_module_version": "2.0.0",
      "model_name": "LayoutModel",
      "state": {}
     },
     "6b18ec299e1940f5a80b8566da2d83c0": {
      "model_module": "@jupyter-widgets/base",
      "model_module_version": "2.0.0",
      "model_name": "LayoutModel",
      "state": {
       "visibility": "hidden"
      }
     },
     "6b2aac181a4347229f3fd43143227861": {
      "model_module": "@jupyter-widgets/controls",
      "model_module_version": "2.0.0",
      "model_name": "HTMLModel",
      "state": {
       "layout": "IPY_MODEL_671d72b1cc8b4bddb37d9361398e2aea",
       "style": "IPY_MODEL_9d605c05e39f4b5e88838eaa40254e4f",
       "value": " 14/14 [00:13&lt;00:00,  1.14it/s]"
      }
     },
     "6b6404ff1166438b933382e0876bc7b8": {
      "model_module": "@jupyter-widgets/base",
      "model_module_version": "2.0.0",
      "model_name": "LayoutModel",
      "state": {}
     },
     "6b6c6fa62095413d8b1dd67443831555": {
      "model_module": "@jupyter-widgets/base",
      "model_module_version": "2.0.0",
      "model_name": "LayoutModel",
      "state": {}
     },
     "6c8fdb6158f74a42bb4dc18835b9c568": {
      "model_module": "@jupyter-widgets/base",
      "model_module_version": "2.0.0",
      "model_name": "LayoutModel",
      "state": {}
     },
     "6cd300fc51164c71abb56e971ad5e102": {
      "model_module": "@jupyter-widgets/base",
      "model_module_version": "2.0.0",
      "model_name": "LayoutModel",
      "state": {}
     },
     "6d3bb24c48c5410c912ffcf8467facd5": {
      "model_module": "@jupyter-widgets/controls",
      "model_module_version": "2.0.0",
      "model_name": "ProgressStyleModel",
      "state": {
       "description_width": ""
      }
     },
     "6e52d2b24d7d4b74846a98df2b72647c": {
      "model_module": "@jupyter-widgets/controls",
      "model_module_version": "2.0.0",
      "model_name": "ProgressStyleModel",
      "state": {
       "description_width": ""
      }
     },
     "6ed7ce0a42624954bdb601cdcfc450a2": {
      "model_module": "@jupyter-widgets/base",
      "model_module_version": "2.0.0",
      "model_name": "LayoutModel",
      "state": {}
     },
     "7005164846974bb1852ef7bb6a24977b": {
      "model_module": "@jupyter-widgets/base",
      "model_module_version": "2.0.0",
      "model_name": "LayoutModel",
      "state": {}
     },
     "71008331f4bb4cd0b1b4de63ccb63a5c": {
      "model_module": "@jupyter-widgets/base",
      "model_module_version": "2.0.0",
      "model_name": "LayoutModel",
      "state": {}
     },
     "712b7145ba99426b8484f564ba880aed": {
      "model_module": "@jupyter-widgets/base",
      "model_module_version": "2.0.0",
      "model_name": "LayoutModel",
      "state": {}
     },
     "714b3ea68a3b4b1c90062abf607095de": {
      "model_module": "@jupyter-widgets/controls",
      "model_module_version": "2.0.0",
      "model_name": "HTMLModel",
      "state": {
       "layout": "IPY_MODEL_daa1142ed8494d0788dd6f8582478a01",
       "style": "IPY_MODEL_26ba8effe16448709c97c9d1b95c7c41",
       "value": "Processing: 100%"
      }
     },
     "72213bba83734d26b0e0dfbcd6821856": {
      "model_module": "@jupyter-widgets/controls",
      "model_module_version": "2.0.0",
      "model_name": "HTMLStyleModel",
      "state": {
       "description_width": "",
       "font_size": null,
       "text_color": null
      }
     },
     "72448e7533944b5ab8e673373568d289": {
      "model_module": "@jupyter-widgets/base",
      "model_module_version": "2.0.0",
      "model_name": "LayoutModel",
      "state": {}
     },
     "727039d2f46148ea9e1f095f612d9401": {
      "model_module": "@jupyter-widgets/controls",
      "model_module_version": "2.0.0",
      "model_name": "HTMLStyleModel",
      "state": {
       "description_width": "",
       "font_size": null,
       "text_color": null
      }
     },
     "72dece581d8d4063be7d90b4dd301769": {
      "model_module": "@jupyter-widgets/base",
      "model_module_version": "2.0.0",
      "model_name": "LayoutModel",
      "state": {}
     },
     "73a04f956f30423b868907c563795c9f": {
      "model_module": "@jupyter-widgets/base",
      "model_module_version": "2.0.0",
      "model_name": "LayoutModel",
      "state": {}
     },
     "7403b179d941492a8f29f6c896905d60": {
      "model_module": "@jupyter-widgets/base",
      "model_module_version": "2.0.0",
      "model_name": "LayoutModel",
      "state": {}
     },
     "74768e2d1af8430abd0132cf6aebdc6b": {
      "model_module": "@jupyter-widgets/controls",
      "model_module_version": "2.0.0",
      "model_name": "FloatProgressModel",
      "state": {
       "layout": "IPY_MODEL_de0456067b9b4cc99644220f2ad0c992",
       "max": 7,
       "style": "IPY_MODEL_7a68d52bd82e4eefab79dcbe89d7de2f",
       "value": 7
      }
     },
     "753fa9298ef74db881712185edbb4c7f": {
      "model_module": "@jupyter-widgets/base",
      "model_module_version": "2.0.0",
      "model_name": "LayoutModel",
      "state": {
       "visibility": "hidden"
      }
     },
     "758d4a43113a46be8708bf7893dcc254": {
      "model_module": "@jupyter-widgets/controls",
      "model_module_version": "2.0.0",
      "model_name": "HTMLModel",
      "state": {
       "layout": "IPY_MODEL_b9547eb9c9f747f29feb98c5f291fde1",
       "style": "IPY_MODEL_8e02316914074b6d857c2a44fd5b11d2",
       "value": " 6/7 [00:01&lt;00:00,  4.28it/s]"
      }
     },
     "75ebd8d1c698428c94432eefd34cb47d": {
      "model_module": "@jupyter-widgets/base",
      "model_module_version": "2.0.0",
      "model_name": "LayoutModel",
      "state": {}
     },
     "766024cf3857482cb7f8f78f0a27eb6b": {
      "model_module": "@jupyter-widgets/controls",
      "model_module_version": "2.0.0",
      "model_name": "FloatProgressModel",
      "state": {
       "layout": "IPY_MODEL_43ca5deeb98a43228901d9bd02f7e9d3",
       "max": 14,
       "style": "IPY_MODEL_393c32770c464b95a6add469a9d736ce",
       "value": 14
      }
     },
     "76a62f392f734c54be3f02099ce10113": {
      "model_module": "@jupyter-widgets/controls",
      "model_module_version": "2.0.0",
      "model_name": "HTMLStyleModel",
      "state": {
       "description_width": "",
       "font_size": null,
       "text_color": null
      }
     },
     "77039d294431476e8ab685cff883340e": {
      "model_module": "@jupyter-widgets/controls",
      "model_module_version": "2.0.0",
      "model_name": "HTMLModel",
      "state": {
       "layout": "IPY_MODEL_44b79b6f983e458cab683ff1cd4f5146",
       "style": "IPY_MODEL_b4995c01ca494793b8f8c01be66303fb",
       "value": " 6/7 [00:01&lt;00:00,  5.15it/s]"
      }
     },
     "770a9e3ee29a4dcc8cbe9d4eadf4a672": {
      "model_module": "@jupyter-widgets/controls",
      "model_module_version": "2.0.0",
      "model_name": "HTMLStyleModel",
      "state": {
       "description_width": "",
       "font_size": null,
       "text_color": null
      }
     },
     "771e31e8956f45fea308e8c36a8e626d": {
      "model_module": "@jupyter-widgets/controls",
      "model_module_version": "2.0.0",
      "model_name": "ProgressStyleModel",
      "state": {
       "description_width": ""
      }
     },
     "7802128ace1c4c80b2f6ca8889c784e1": {
      "model_module": "@jupyter-widgets/controls",
      "model_module_version": "2.0.0",
      "model_name": "FloatProgressModel",
      "state": {
       "layout": "IPY_MODEL_84cacd1a7e5d45b78ad4b4f890c4f1dd",
       "max": 7,
       "style": "IPY_MODEL_e8b728ed86fc4adcb1dfc03610ae98ad",
       "value": 7
      }
     },
     "782a11dbe711400fb43e3b65be7de8ff": {
      "model_module": "@jupyter-widgets/base",
      "model_module_version": "2.0.0",
      "model_name": "LayoutModel",
      "state": {}
     },
     "786a054fecd24207b3bb58149ce0a0a2": {
      "model_module": "@jupyter-widgets/base",
      "model_module_version": "2.0.0",
      "model_name": "LayoutModel",
      "state": {}
     },
     "792d5492547a4fa0a9a26759604b8f5c": {
      "model_module": "@jupyter-widgets/controls",
      "model_module_version": "2.0.0",
      "model_name": "ProgressStyleModel",
      "state": {
       "description_width": ""
      }
     },
     "79dfead7fd03431c9f64486ce54d181d": {
      "model_module": "@jupyter-widgets/controls",
      "model_module_version": "2.0.0",
      "model_name": "FloatProgressModel",
      "state": {
       "layout": "IPY_MODEL_0f6aa20a51e1480296c005d3f9840f36",
       "max": 7,
       "style": "IPY_MODEL_0d31925fad3b4fce97717ef79894c7a3",
       "value": 7
      }
     },
     "7a29bdfb44ed4632a8b96c47f5bf37e2": {
      "model_module": "@jupyter-widgets/base",
      "model_module_version": "2.0.0",
      "model_name": "LayoutModel",
      "state": {}
     },
     "7a68d52bd82e4eefab79dcbe89d7de2f": {
      "model_module": "@jupyter-widgets/controls",
      "model_module_version": "2.0.0",
      "model_name": "ProgressStyleModel",
      "state": {
       "description_width": ""
      }
     },
     "7af94e8d416e4605b4f9b54ed9fe9e44": {
      "model_module": "@jupyter-widgets/controls",
      "model_module_version": "2.0.0",
      "model_name": "HTMLStyleModel",
      "state": {
       "description_width": "",
       "font_size": null,
       "text_color": null
      }
     },
     "7b0b5ad0bd0844d18f6a639ccd8f344d": {
      "model_module": "@jupyter-widgets/base",
      "model_module_version": "2.0.0",
      "model_name": "LayoutModel",
      "state": {
       "visibility": "hidden"
      }
     },
     "7b51a9a2256b4c74a31a848ce049c217": {
      "model_module": "@jupyter-widgets/base",
      "model_module_version": "2.0.0",
      "model_name": "LayoutModel",
      "state": {}
     },
     "7b8a426188904a7fa616f436a5de6d2c": {
      "model_module": "@jupyter-widgets/base",
      "model_module_version": "2.0.0",
      "model_name": "LayoutModel",
      "state": {}
     },
     "7bda561c06a64a53a786ab679c924329": {
      "model_module": "@jupyter-widgets/base",
      "model_module_version": "2.0.0",
      "model_name": "LayoutModel",
      "state": {
       "visibility": "hidden"
      }
     },
     "7d09a425ce084737aecff1f553e07eb5": {
      "model_module": "@jupyter-widgets/controls",
      "model_module_version": "2.0.0",
      "model_name": "HTMLStyleModel",
      "state": {
       "description_width": "",
       "font_size": null,
       "text_color": null
      }
     },
     "7d328aa97fa941f4b4aec03c5ebf6d8c": {
      "model_module": "@jupyter-widgets/base",
      "model_module_version": "2.0.0",
      "model_name": "LayoutModel",
      "state": {}
     },
     "7d3988a6aba14160b3a24633dd76f94b": {
      "model_module": "@jupyter-widgets/controls",
      "model_module_version": "2.0.0",
      "model_name": "ProgressStyleModel",
      "state": {
       "description_width": ""
      }
     },
     "7d8ac84eef0a4a6cb601424f77d6e874": {
      "model_module": "@jupyter-widgets/controls",
      "model_module_version": "2.0.0",
      "model_name": "ProgressStyleModel",
      "state": {
       "description_width": ""
      }
     },
     "7d95e4e8eb904645a67444c0fd2ade24": {
      "model_module": "@jupyter-widgets/controls",
      "model_module_version": "2.0.0",
      "model_name": "HTMLStyleModel",
      "state": {
       "description_width": "",
       "font_size": null,
       "text_color": null
      }
     },
     "7f7de70421594c06ba98a49ab32ccb3d": {
      "model_module": "@jupyter-widgets/base",
      "model_module_version": "2.0.0",
      "model_name": "LayoutModel",
      "state": {
       "visibility": "hidden"
      }
     },
     "7fc08fdae66b456a8298faba9a2c968b": {
      "model_module": "@jupyter-widgets/base",
      "model_module_version": "2.0.0",
      "model_name": "LayoutModel",
      "state": {
       "visibility": "hidden"
      }
     },
     "8078dc19c6ee4160b2a72e51ecacb5d1": {
      "model_module": "@jupyter-widgets/base",
      "model_module_version": "2.0.0",
      "model_name": "LayoutModel",
      "state": {
       "visibility": "hidden"
      }
     },
     "818c99168b11471caf5f486fdb731c27": {
      "model_module": "@jupyter-widgets/controls",
      "model_module_version": "2.0.0",
      "model_name": "HTMLStyleModel",
      "state": {
       "description_width": "",
       "font_size": null,
       "text_color": null
      }
     },
     "82218eaee3c34e9b8f092d82d8cf573c": {
      "model_module": "@jupyter-widgets/base",
      "model_module_version": "2.0.0",
      "model_name": "LayoutModel",
      "state": {
       "visibility": "hidden"
      }
     },
     "8236fafda7f64edca6515d114ffb7b62": {
      "model_module": "@jupyter-widgets/base",
      "model_module_version": "2.0.0",
      "model_name": "LayoutModel",
      "state": {
       "visibility": "hidden"
      }
     },
     "8243fb823cd148c3bc093e643669c615": {
      "model_module": "@jupyter-widgets/base",
      "model_module_version": "2.0.0",
      "model_name": "LayoutModel",
      "state": {}
     },
     "82ae2fb675d04167a6aaf2992d91fb15": {
      "model_module": "@jupyter-widgets/controls",
      "model_module_version": "2.0.0",
      "model_name": "HTMLModel",
      "state": {
       "layout": "IPY_MODEL_27648d1a26af4348bb4a6f927e8187f8",
       "style": "IPY_MODEL_d975f760b7694d189ab5b92fd5643bf2",
       "value": "Processing: 100%"
      }
     },
     "847b4b9701b64108977fe183fe569759": {
      "model_module": "@jupyter-widgets/base",
      "model_module_version": "2.0.0",
      "model_name": "LayoutModel",
      "state": {}
     },
     "84966c06d1b9461eb5e607d4fb678204": {
      "model_module": "@jupyter-widgets/controls",
      "model_module_version": "2.0.0",
      "model_name": "ProgressStyleModel",
      "state": {
       "description_width": ""
      }
     },
     "84cacd1a7e5d45b78ad4b4f890c4f1dd": {
      "model_module": "@jupyter-widgets/base",
      "model_module_version": "2.0.0",
      "model_name": "LayoutModel",
      "state": {}
     },
     "8522d48e158b4144af6e4b1cdaaf6805": {
      "model_module": "@jupyter-widgets/controls",
      "model_module_version": "2.0.0",
      "model_name": "HTMLModel",
      "state": {
       "layout": "IPY_MODEL_e5fe7fdcaa0241b9a0e8229a5475f08f",
       "style": "IPY_MODEL_65ef8ed01eec4a4e8f00e0d7516d64fe",
       "value": "Processing:  86%"
      }
     },
     "855b1ae99e9d4d65a443996f0d71710f": {
      "model_module": "@jupyter-widgets/controls",
      "model_module_version": "2.0.0",
      "model_name": "HTMLModel",
      "state": {
       "layout": "IPY_MODEL_28cceea36a3f4d9a81d7839957b9259a",
       "style": "IPY_MODEL_c40e2d74af1940c5bb78c3b252d848d0",
       "value": "Processing:  86%"
      }
     },
     "85e274baed8f43c9ae52e42b2e9bbd29": {
      "model_module": "@jupyter-widgets/base",
      "model_module_version": "2.0.0",
      "model_name": "LayoutModel",
      "state": {}
     },
     "870ef034ea18432f865c70749de063a1": {
      "model_module": "@jupyter-widgets/controls",
      "model_module_version": "2.0.0",
      "model_name": "FloatProgressModel",
      "state": {
       "layout": "IPY_MODEL_c75f54ac268a468d84a0a483ed14d16b",
       "max": 7,
       "style": "IPY_MODEL_9d2d453c644642bd8675ce9f20cf501a",
       "value": 7
      }
     },
     "877bd6b615d04f66ad0dadeabf81ddfd": {
      "model_module": "@jupyter-widgets/controls",
      "model_module_version": "2.0.0",
      "model_name": "HTMLStyleModel",
      "state": {
       "description_width": "",
       "font_size": null,
       "text_color": null
      }
     },
     "878706ae2a82418f9a53cf06605fb9f4": {
      "model_module": "@jupyter-widgets/controls",
      "model_module_version": "2.0.0",
      "model_name": "HTMLStyleModel",
      "state": {
       "description_width": "",
       "font_size": null,
       "text_color": null
      }
     },
     "88e2023630cb45f392de4014c7da6336": {
      "model_module": "@jupyter-widgets/controls",
      "model_module_version": "2.0.0",
      "model_name": "HTMLModel",
      "state": {
       "layout": "IPY_MODEL_9cd26956597246d09cb1246e00c68e0c",
       "style": "IPY_MODEL_ba6336e630204e7cb74d892da77ba53f",
       "value": "Processing:  86%"
      }
     },
     "8910725db05a458f94eaa0a9380cf25c": {
      "model_module": "@jupyter-widgets/base",
      "model_module_version": "2.0.0",
      "model_name": "LayoutModel",
      "state": {}
     },
     "895f87e0548a4c59bb9232ce15d10745": {
      "model_module": "@jupyter-widgets/base",
      "model_module_version": "2.0.0",
      "model_name": "LayoutModel",
      "state": {}
     },
     "89ab550f22164b2fb28d62d8557d8877": {
      "model_module": "@jupyter-widgets/base",
      "model_module_version": "2.0.0",
      "model_name": "LayoutModel",
      "state": {
       "visibility": "hidden"
      }
     },
     "8aab96419b5a40d2bd088766ec122ed2": {
      "model_module": "@jupyter-widgets/controls",
      "model_module_version": "2.0.0",
      "model_name": "HTMLStyleModel",
      "state": {
       "description_width": "",
       "font_size": null,
       "text_color": null
      }
     },
     "8ab40b9aa9fc4f108a213ffcbbd82b69": {
      "model_module": "@jupyter-widgets/controls",
      "model_module_version": "2.0.0",
      "model_name": "HTMLStyleModel",
      "state": {
       "description_width": "",
       "font_size": null,
       "text_color": null
      }
     },
     "8b89ef7d65d840d3983dce7a717e8efa": {
      "model_module": "@jupyter-widgets/controls",
      "model_module_version": "2.0.0",
      "model_name": "HTMLModel",
      "state": {
       "layout": "IPY_MODEL_f2c3a2746ae24d97b361e558fe6f036d",
       "style": "IPY_MODEL_e2b8699caff3462fbcac42203ee23f77",
       "value": "Processing: 100%"
      }
     },
     "8bc5e774d7d040fb8dd645c5f3dcfd59": {
      "model_module": "@jupyter-widgets/controls",
      "model_module_version": "2.0.0",
      "model_name": "FloatProgressModel",
      "state": {
       "layout": "IPY_MODEL_d9a3a33ba91745a0b6c3624d183fe030",
       "max": 14,
       "style": "IPY_MODEL_55a03c05d42e4201b420a4ac59cd708a",
       "value": 14
      }
     },
     "8be8ae87d532429888eff2d2dbab7fa2": {
      "model_module": "@jupyter-widgets/controls",
      "model_module_version": "2.0.0",
      "model_name": "HTMLStyleModel",
      "state": {
       "description_width": "",
       "font_size": null,
       "text_color": null
      }
     },
     "8c489931d3af458fa47d5dad7a480c7b": {
      "model_module": "@jupyter-widgets/controls",
      "model_module_version": "2.0.0",
      "model_name": "HTMLStyleModel",
      "state": {
       "description_width": "",
       "font_size": null,
       "text_color": null
      }
     },
     "8d7260dc44374cfba87f4c5dc776b199": {
      "model_module": "@jupyter-widgets/base",
      "model_module_version": "2.0.0",
      "model_name": "LayoutModel",
      "state": {}
     },
     "8da101c9e144475596384438c757c5df": {
      "model_module": "@jupyter-widgets/base",
      "model_module_version": "2.0.0",
      "model_name": "LayoutModel",
      "state": {}
     },
     "8db5d771f8f44b53ab2cba745d44aae8": {
      "model_module": "@jupyter-widgets/controls",
      "model_module_version": "2.0.0",
      "model_name": "HTMLStyleModel",
      "state": {
       "description_width": "",
       "font_size": null,
       "text_color": null
      }
     },
     "8e02316914074b6d857c2a44fd5b11d2": {
      "model_module": "@jupyter-widgets/controls",
      "model_module_version": "2.0.0",
      "model_name": "HTMLStyleModel",
      "state": {
       "description_width": "",
       "font_size": null,
       "text_color": null
      }
     },
     "8ef194c15aa74ee0a7c3bbe886ec1b57": {
      "model_module": "@jupyter-widgets/controls",
      "model_module_version": "2.0.0",
      "model_name": "HTMLModel",
      "state": {
       "layout": "IPY_MODEL_132cb1c49f8a4016aa7958e561e06294",
       "style": "IPY_MODEL_5d8b5b56554849b0adaed03ce3979f2e",
       "value": "Processing:  86%"
      }
     },
     "8fa3bc1f682444718302f7412069a5a5": {
      "model_module": "@jupyter-widgets/base",
      "model_module_version": "2.0.0",
      "model_name": "LayoutModel",
      "state": {}
     },
     "8ff1d32bbdfa41c58daab12038116de1": {
      "model_module": "@jupyter-widgets/controls",
      "model_module_version": "2.0.0",
      "model_name": "HTMLStyleModel",
      "state": {
       "description_width": "",
       "font_size": null,
       "text_color": null
      }
     },
     "905eab2e72db4b7082c6cb9abf47ef37": {
      "model_module": "@jupyter-widgets/controls",
      "model_module_version": "2.0.0",
      "model_name": "HTMLModel",
      "state": {
       "layout": "IPY_MODEL_a63095c586d5466e95452714fed105bf",
       "style": "IPY_MODEL_970a09ab32f44671b5e1a4fe11070303",
       "value": "Processing:  29%"
      }
     },
     "90b7ac3648aa4b70974ace7dfffeb79f": {
      "model_module": "@jupyter-widgets/base",
      "model_module_version": "2.0.0",
      "model_name": "LayoutModel",
      "state": {}
     },
     "9151debe6f504462a9f8658f0684a5ac": {
      "model_module": "@jupyter-widgets/base",
      "model_module_version": "2.0.0",
      "model_name": "LayoutModel",
      "state": {
       "visibility": "hidden"
      }
     },
     "91df41ef25aa4688afc91620a0de10cb": {
      "model_module": "@jupyter-widgets/base",
      "model_module_version": "2.0.0",
      "model_name": "LayoutModel",
      "state": {}
     },
     "9221f60227a64cdf914a2188f2ba50ec": {
      "model_module": "@jupyter-widgets/base",
      "model_module_version": "2.0.0",
      "model_name": "LayoutModel",
      "state": {
       "visibility": "hidden"
      }
     },
     "9326facd29014ebab56430efd80684f6": {
      "model_module": "@jupyter-widgets/base",
      "model_module_version": "2.0.0",
      "model_name": "LayoutModel",
      "state": {}
     },
     "932c11c4f88b41f99bb2bc6ebd8a2b83": {
      "model_module": "@jupyter-widgets/base",
      "model_module_version": "2.0.0",
      "model_name": "LayoutModel",
      "state": {}
     },
     "9375fd0fd3c9453d922f1d8add7a7bd3": {
      "model_module": "@jupyter-widgets/controls",
      "model_module_version": "2.0.0",
      "model_name": "HTMLModel",
      "state": {
       "layout": "IPY_MODEL_a218bc83f9b548d88ec57a5901cf676c",
       "style": "IPY_MODEL_148211cb5f46432e91bc363484359fda",
       "value": "Processing: 100%"
      }
     },
     "93782af07af04261a71b62b318727c9a": {
      "model_module": "@jupyter-widgets/controls",
      "model_module_version": "2.0.0",
      "model_name": "FloatProgressModel",
      "state": {
       "layout": "IPY_MODEL_fe431cbfbc26411695a6422287362b29",
       "max": 7,
       "style": "IPY_MODEL_db4fdc8480d24a2b8dec35b331fd62a5",
       "value": 7
      }
     },
     "93c6ecdd8b3e40f5acc8eac0323adae8": {
      "model_module": "@jupyter-widgets/controls",
      "model_module_version": "2.0.0",
      "model_name": "HTMLStyleModel",
      "state": {
       "description_width": "",
       "font_size": null,
       "text_color": null
      }
     },
     "93c7fcf125d04495aa87f1f81b3db4c0": {
      "model_module": "@jupyter-widgets/base",
      "model_module_version": "2.0.0",
      "model_name": "LayoutModel",
      "state": {}
     },
     "93cc435895c34de29452dab396cf9eec": {
      "model_module": "@jupyter-widgets/base",
      "model_module_version": "2.0.0",
      "model_name": "LayoutModel",
      "state": {
       "visibility": "hidden"
      }
     },
     "966f36b251e3472da05c1245eb8f8d9f": {
      "model_module": "@jupyter-widgets/base",
      "model_module_version": "2.0.0",
      "model_name": "LayoutModel",
      "state": {}
     },
     "970a09ab32f44671b5e1a4fe11070303": {
      "model_module": "@jupyter-widgets/controls",
      "model_module_version": "2.0.0",
      "model_name": "HTMLStyleModel",
      "state": {
       "description_width": "",
       "font_size": null,
       "text_color": null
      }
     },
     "982d84ff06f2484a93f535884b10ce83": {
      "model_module": "@jupyter-widgets/controls",
      "model_module_version": "2.0.0",
      "model_name": "HTMLModel",
      "state": {
       "layout": "IPY_MODEL_b8b819ae46ad4d778c344004825ef741",
       "style": "IPY_MODEL_37ac907528ad43ea987406dbbc1010a2",
       "value": " 6/7 [00:01&lt;00:00,  4.19it/s]"
      }
     },
     "98dca2fbb00c478ea9e8d2ef158e507e": {
      "model_module": "@jupyter-widgets/base",
      "model_module_version": "2.0.0",
      "model_name": "LayoutModel",
      "state": {}
     },
     "9a626772e6f64cc4ae6b49be6ac44fe9": {
      "model_module": "@jupyter-widgets/controls",
      "model_module_version": "2.0.0",
      "model_name": "FloatProgressModel",
      "state": {
       "layout": "IPY_MODEL_274a9e356a894a7c826c7d4f51e1f23a",
       "max": 7,
       "style": "IPY_MODEL_ad6e0e7a0f2d4a62af585b63d15e3c9a",
       "value": 7
      }
     },
     "9affc1b6deef41cf88e3b8885873981b": {
      "model_module": "@jupyter-widgets/controls",
      "model_module_version": "2.0.0",
      "model_name": "ProgressStyleModel",
      "state": {
       "description_width": ""
      }
     },
     "9b89d17dad3a4b818766cc0cadc07d00": {
      "model_module": "@jupyter-widgets/base",
      "model_module_version": "2.0.0",
      "model_name": "LayoutModel",
      "state": {
       "visibility": "hidden"
      }
     },
     "9baccb1160714d34ae99a0c0835649b6": {
      "model_module": "@jupyter-widgets/controls",
      "model_module_version": "2.0.0",
      "model_name": "ProgressStyleModel",
      "state": {
       "description_width": ""
      }
     },
     "9cd26956597246d09cb1246e00c68e0c": {
      "model_module": "@jupyter-widgets/base",
      "model_module_version": "2.0.0",
      "model_name": "LayoutModel",
      "state": {}
     },
     "9d2d453c644642bd8675ce9f20cf501a": {
      "model_module": "@jupyter-widgets/controls",
      "model_module_version": "2.0.0",
      "model_name": "ProgressStyleModel",
      "state": {
       "description_width": ""
      }
     },
     "9d4293229d9a406d99adcb37bc53c7c1": {
      "model_module": "@jupyter-widgets/controls",
      "model_module_version": "2.0.0",
      "model_name": "FloatProgressModel",
      "state": {
       "layout": "IPY_MODEL_8d7260dc44374cfba87f4c5dc776b199",
       "max": 14,
       "style": "IPY_MODEL_84966c06d1b9461eb5e607d4fb678204",
       "value": 14
      }
     },
     "9d605c05e39f4b5e88838eaa40254e4f": {
      "model_module": "@jupyter-widgets/controls",
      "model_module_version": "2.0.0",
      "model_name": "HTMLStyleModel",
      "state": {
       "description_width": "",
       "font_size": null,
       "text_color": null
      }
     },
     "9d60def2907842cd86cfb2ff9d805d03": {
      "model_module": "@jupyter-widgets/base",
      "model_module_version": "2.0.0",
      "model_name": "LayoutModel",
      "state": {}
     },
     "9e0daac72408471c9add0017a5f84540": {
      "model_module": "@jupyter-widgets/controls",
      "model_module_version": "2.0.0",
      "model_name": "ProgressStyleModel",
      "state": {
       "description_width": ""
      }
     },
     "9e15f1a96c654d4f8d639f68ecc6f6bc": {
      "model_module": "@jupyter-widgets/base",
      "model_module_version": "2.0.0",
      "model_name": "LayoutModel",
      "state": {
       "visibility": "hidden"
      }
     },
     "9e460bcc838f47cb9712372906859d15": {
      "model_module": "@jupyter-widgets/base",
      "model_module_version": "2.0.0",
      "model_name": "LayoutModel",
      "state": {}
     },
     "9e979a1e993241e48de4f9363db29bd5": {
      "model_module": "@jupyter-widgets/controls",
      "model_module_version": "2.0.0",
      "model_name": "HTMLModel",
      "state": {
       "layout": "IPY_MODEL_2c40fb5bb9164980b49e4355f7bfc5a5",
       "style": "IPY_MODEL_c054f2b58c904a27b7bc028f66f483a0",
       "value": " 14/14 [00:19&lt;00:00,  1.23s/it]"
      }
     },
     "9e9dd794706b4b7db35f1c07c96071a8": {
      "model_module": "@jupyter-widgets/base",
      "model_module_version": "2.0.0",
      "model_name": "LayoutModel",
      "state": {}
     },
     "9ed41f30836a46b88a20fe045a7b1522": {
      "model_module": "@jupyter-widgets/controls",
      "model_module_version": "2.0.0",
      "model_name": "HTMLStyleModel",
      "state": {
       "description_width": "",
       "font_size": null,
       "text_color": null
      }
     },
     "9fcad18bc1904bc09f088c885c738179": {
      "model_module": "@jupyter-widgets/controls",
      "model_module_version": "2.0.0",
      "model_name": "HTMLModel",
      "state": {
       "layout": "IPY_MODEL_c771a2a0a6e14ae983e2e9c45bc47114",
       "style": "IPY_MODEL_3186a61bd7794abb96c3aab68a5ee8d5",
       "value": "Processing: 100%"
      }
     },
     "a01f1874b97b4e8ba301cf0372fa2869": {
      "model_module": "@jupyter-widgets/base",
      "model_module_version": "2.0.0",
      "model_name": "LayoutModel",
      "state": {
       "visibility": "hidden"
      }
     },
     "a08abffc9f2245089d6da9e57623e8bd": {
      "model_module": "@jupyter-widgets/base",
      "model_module_version": "2.0.0",
      "model_name": "LayoutModel",
      "state": {
       "visibility": "hidden"
      }
     },
     "a17fa8671bee4fca83cf0b397e689a91": {
      "model_module": "@jupyter-widgets/base",
      "model_module_version": "2.0.0",
      "model_name": "LayoutModel",
      "state": {}
     },
     "a218bc83f9b548d88ec57a5901cf676c": {
      "model_module": "@jupyter-widgets/base",
      "model_module_version": "2.0.0",
      "model_name": "LayoutModel",
      "state": {}
     },
     "a2f7fe39c41f456bac9ec8e6c7ed567b": {
      "model_module": "@jupyter-widgets/controls",
      "model_module_version": "2.0.0",
      "model_name": "HTMLModel",
      "state": {
       "layout": "IPY_MODEL_a717673c9cf3441697e10ff0d04c32d8",
       "style": "IPY_MODEL_02acd015c5d44edb8600742dfbdc46dc",
       "value": " 6/7 [00:01&lt;00:00,  4.89it/s]"
      }
     },
     "a44f80721d0848b3b19fc66ad5acc613": {
      "model_module": "@jupyter-widgets/base",
      "model_module_version": "2.0.0",
      "model_name": "LayoutModel",
      "state": {}
     },
     "a56d6e1e6e6c40c3a673619b3efb601d": {
      "model_module": "@jupyter-widgets/controls",
      "model_module_version": "2.0.0",
      "model_name": "HTMLModel",
      "state": {
       "layout": "IPY_MODEL_5ef12e83c25641f3b7320f4d7d453ba2",
       "style": "IPY_MODEL_12c8be30908d45c4be4b4f0a426643ee",
       "value": "Processing: 100%"
      }
     },
     "a5e612c8fff649f285cd63e918ff3267": {
      "model_module": "@jupyter-widgets/controls",
      "model_module_version": "2.0.0",
      "model_name": "FloatProgressModel",
      "state": {
       "layout": "IPY_MODEL_2c04365c9e854cef85ddd49d806b7111",
       "max": 14,
       "style": "IPY_MODEL_9affc1b6deef41cf88e3b8885873981b",
       "value": 14
      }
     },
     "a5e983e0ce0441609022d731abf32183": {
      "model_module": "@jupyter-widgets/base",
      "model_module_version": "2.0.0",
      "model_name": "LayoutModel",
      "state": {}
     },
     "a63095c586d5466e95452714fed105bf": {
      "model_module": "@jupyter-widgets/base",
      "model_module_version": "2.0.0",
      "model_name": "LayoutModel",
      "state": {}
     },
     "a64b751e634f40bfbf2def70967aa11a": {
      "model_module": "@jupyter-widgets/controls",
      "model_module_version": "2.0.0",
      "model_name": "HTMLModel",
      "state": {
       "layout": "IPY_MODEL_71008331f4bb4cd0b1b4de63ccb63a5c",
       "style": "IPY_MODEL_3c6a4c3db2a243fd9ec09721def3d19e",
       "value": " 14/14 [00:03&lt;00:00,  2.76it/s]"
      }
     },
     "a670086333a240c9816f8a1b3ed1e86e": {
      "model_module": "@jupyter-widgets/controls",
      "model_module_version": "2.0.0",
      "model_name": "HTMLModel",
      "state": {
       "layout": "IPY_MODEL_c3cf297ed4644c688c31dd49a902fd00",
       "style": "IPY_MODEL_14573b6b76ce43f3bba3b438b06d3d33",
       "value": " 14/14 [00:04&lt;00:00,  2.57it/s]"
      }
     },
     "a717673c9cf3441697e10ff0d04c32d8": {
      "model_module": "@jupyter-widgets/base",
      "model_module_version": "2.0.0",
      "model_name": "LayoutModel",
      "state": {}
     },
     "a72bbca46ff64857959a22a9a40fc484": {
      "model_module": "@jupyter-widgets/base",
      "model_module_version": "2.0.0",
      "model_name": "LayoutModel",
      "state": {
       "visibility": "hidden"
      }
     },
     "a72bf0bc6f044a20aa16fea944dba36b": {
      "model_module": "@jupyter-widgets/controls",
      "model_module_version": "2.0.0",
      "model_name": "HTMLStyleModel",
      "state": {
       "description_width": "",
       "font_size": null,
       "text_color": null
      }
     },
     "a892191a839048b0a065d96edc3ae0cc": {
      "model_module": "@jupyter-widgets/controls",
      "model_module_version": "2.0.0",
      "model_name": "HTMLStyleModel",
      "state": {
       "description_width": "",
       "font_size": null,
       "text_color": null
      }
     },
     "a92c67eef3b74d36a0b95106fe866c40": {
      "model_module": "@jupyter-widgets/controls",
      "model_module_version": "2.0.0",
      "model_name": "ProgressStyleModel",
      "state": {
       "description_width": ""
      }
     },
     "a93e72bba8c54cb698407c3a4e6e4bd5": {
      "model_module": "@jupyter-widgets/controls",
      "model_module_version": "2.0.0",
      "model_name": "HTMLModel",
      "state": {
       "layout": "IPY_MODEL_6b6c6fa62095413d8b1dd67443831555",
       "style": "IPY_MODEL_c07ecd6a05cc4fe0889dd8ac00cf7f46",
       "value": " 13/13 [00:11&lt;00:00,  1.36it/s]"
      }
     },
     "a9e10aa1234747beac584f46688b3e9f": {
      "model_module": "@jupyter-widgets/controls",
      "model_module_version": "2.0.0",
      "model_name": "HTMLModel",
      "state": {
       "layout": "IPY_MODEL_d9f3cc41a2774a7986b6b8ecb44f0a57",
       "style": "IPY_MODEL_f78dcdeec7534420b481a784315db2c4",
       "value": " 14/14 [00:11&lt;00:00,  1.43it/s]"
      }
     },
     "a9e1a486cc7e462d8bc78c7a9d11e80a": {
      "model_module": "@jupyter-widgets/controls",
      "model_module_version": "2.0.0",
      "model_name": "FloatProgressModel",
      "state": {
       "layout": "IPY_MODEL_ed366ae8c89e4040a407d8c64d4dfd07",
       "max": 14,
       "style": "IPY_MODEL_771e31e8956f45fea308e8c36a8e626d",
       "value": 14
      }
     },
     "aa6db67710dc4f23a5c9953e63948d4c": {
      "model_module": "@jupyter-widgets/controls",
      "model_module_version": "2.0.0",
      "model_name": "HTMLModel",
      "state": {
       "layout": "IPY_MODEL_a44f80721d0848b3b19fc66ad5acc613",
       "style": "IPY_MODEL_da6a4329c43e4de4a4fb92a22367057f",
       "value": "Processing:  86%"
      }
     },
     "aa7940e53d484f72af781bd44ce9874b": {
      "model_module": "@jupyter-widgets/base",
      "model_module_version": "2.0.0",
      "model_name": "LayoutModel",
      "state": {}
     },
     "aae1f95292b54c05b257e96ad48a0899": {
      "model_module": "@jupyter-widgets/controls",
      "model_module_version": "2.0.0",
      "model_name": "HTMLStyleModel",
      "state": {
       "description_width": "",
       "font_size": null,
       "text_color": null
      }
     },
     "ab1d6d2844d343c59285918eb501de6d": {
      "model_module": "@jupyter-widgets/base",
      "model_module_version": "2.0.0",
      "model_name": "LayoutModel",
      "state": {}
     },
     "ab55413c1734487c997ebb7e5143f342": {
      "model_module": "@jupyter-widgets/controls",
      "model_module_version": "2.0.0",
      "model_name": "HTMLStyleModel",
      "state": {
       "description_width": "",
       "font_size": null,
       "text_color": null
      }
     },
     "ac9b7daa139c45169130b23dd1c67bf4": {
      "model_module": "@jupyter-widgets/controls",
      "model_module_version": "2.0.0",
      "model_name": "HTMLStyleModel",
      "state": {
       "description_width": "",
       "font_size": null,
       "text_color": null
      }
     },
     "acfd5b3a402941f293dfcd95ebdddf50": {
      "model_module": "@jupyter-widgets/controls",
      "model_module_version": "2.0.0",
      "model_name": "HTMLModel",
      "state": {
       "layout": "IPY_MODEL_6119236c7ba84918a51fd5e5934b76a1",
       "style": "IPY_MODEL_1418016f1471451ebeb5752f2d774301",
       "value": " 14/14 [00:12&lt;00:00,  1.40it/s]"
      }
     },
     "ad297598b1544311bc7cf82ad0147067": {
      "model_module": "@jupyter-widgets/controls",
      "model_module_version": "2.0.0",
      "model_name": "HTMLModel",
      "state": {
       "layout": "IPY_MODEL_7403b179d941492a8f29f6c896905d60",
       "style": "IPY_MODEL_d3c1dca86f2349549eab736c1a4e5c95",
       "value": "Processing: 100%"
      }
     },
     "ad6e0e7a0f2d4a62af585b63d15e3c9a": {
      "model_module": "@jupyter-widgets/controls",
      "model_module_version": "2.0.0",
      "model_name": "ProgressStyleModel",
      "state": {
       "description_width": ""
      }
     },
     "ada73a69da184734bf2e4714faba84aa": {
      "model_module": "@jupyter-widgets/controls",
      "model_module_version": "2.0.0",
      "model_name": "HTMLModel",
      "state": {
       "layout": "IPY_MODEL_5637f52a5d69460cbf046cbc5b234122",
       "style": "IPY_MODEL_1f8b34be08834ddc982eab1bdec3562c",
       "value": "Processing:  86%"
      }
     },
     "ade8721f777d47d98a48cf766d25de3c": {
      "model_module": "@jupyter-widgets/base",
      "model_module_version": "2.0.0",
      "model_name": "LayoutModel",
      "state": {
       "visibility": "hidden"
      }
     },
     "ae1efcb7f02c4a848b16833ef30ba255": {
      "model_module": "@jupyter-widgets/controls",
      "model_module_version": "2.0.0",
      "model_name": "HTMLModel",
      "state": {
       "layout": "IPY_MODEL_847b4b9701b64108977fe183fe569759",
       "style": "IPY_MODEL_c36f08d28a0b4e63bd14d487d784fea2",
       "value": "Processing: 100%"
      }
     },
     "aece40622c714510b1095c10dd968dcc": {
      "model_module": "@jupyter-widgets/base",
      "model_module_version": "2.0.0",
      "model_name": "LayoutModel",
      "state": {
       "visibility": "hidden"
      }
     },
     "af136d6a1f9b43c3a897f652b35951d9": {
      "model_module": "@jupyter-widgets/controls",
      "model_module_version": "2.0.0",
      "model_name": "HTMLModel",
      "state": {
       "layout": "IPY_MODEL_f75163d973244ab7aacd020a64eb8b72",
       "style": "IPY_MODEL_7af94e8d416e4605b4f9b54ed9fe9e44",
       "value": "Processing: 100%"
      }
     },
     "af8aa9779bbb4d7bac1054e151345c02": {
      "model_module": "@jupyter-widgets/controls",
      "model_module_version": "2.0.0",
      "model_name": "HTMLStyleModel",
      "state": {
       "description_width": "",
       "font_size": null,
       "text_color": null
      }
     },
     "b077fb9514dc4ed0a088c137ee07c09e": {
      "model_module": "@jupyter-widgets/base",
      "model_module_version": "2.0.0",
      "model_name": "LayoutModel",
      "state": {}
     },
     "b0ab3fe12a0140d8a67cbbcdd63f5dff": {
      "model_module": "@jupyter-widgets/controls",
      "model_module_version": "2.0.0",
      "model_name": "HTMLStyleModel",
      "state": {
       "description_width": "",
       "font_size": null,
       "text_color": null
      }
     },
     "b0d05bfc09a847018d7e7f18cf2e4607": {
      "model_module": "@jupyter-widgets/controls",
      "model_module_version": "2.0.0",
      "model_name": "HTMLModel",
      "state": {
       "layout": "IPY_MODEL_1ee0c8a93ec44bdab861a763937a8ba3",
       "style": "IPY_MODEL_61d03692fa444c2ea399a50523d8e00d",
       "value": "Processing: 100%"
      }
     },
     "b14ef875cd844420a83f07f1973c2da4": {
      "model_module": "@jupyter-widgets/controls",
      "model_module_version": "2.0.0",
      "model_name": "HTMLModel",
      "state": {
       "layout": "IPY_MODEL_786a054fecd24207b3bb58149ce0a0a2",
       "style": "IPY_MODEL_ac9b7daa139c45169130b23dd1c67bf4",
       "value": " 14/14 [00:03&lt;00:00,  3.49it/s]"
      }
     },
     "b4995c01ca494793b8f8c01be66303fb": {
      "model_module": "@jupyter-widgets/controls",
      "model_module_version": "2.0.0",
      "model_name": "HTMLStyleModel",
      "state": {
       "description_width": "",
       "font_size": null,
       "text_color": null
      }
     },
     "b4f3fe38c258470697a147884baa4f70": {
      "model_module": "@jupyter-widgets/controls",
      "model_module_version": "2.0.0",
      "model_name": "HTMLModel",
      "state": {
       "layout": "IPY_MODEL_bf654c15b7bd47f0a7c43bf429ae3186",
       "style": "IPY_MODEL_67d83c27414a4b18a3b18c65e9e9975e",
       "value": "Processing: 100%"
      }
     },
     "b619156ad1774434a4e945c209f39b76": {
      "model_module": "@jupyter-widgets/base",
      "model_module_version": "2.0.0",
      "model_name": "LayoutModel",
      "state": {
       "visibility": "hidden"
      }
     },
     "b71014c63ac047a89856db0487abcc8c": {
      "model_module": "@jupyter-widgets/controls",
      "model_module_version": "2.0.0",
      "model_name": "HTMLModel",
      "state": {
       "layout": "IPY_MODEL_bb11681f9c894d81aafcf333ff415f0c",
       "style": "IPY_MODEL_b9eac0dda9b2472d928059a421a80855",
       "value": "Processing:  86%"
      }
     },
     "b711b7da1d4843f4bf8d4f24124d6589": {
      "model_module": "@jupyter-widgets/controls",
      "model_module_version": "2.0.0",
      "model_name": "ProgressStyleModel",
      "state": {
       "description_width": ""
      }
     },
     "b7c99201ea624e78ae121c269c14be45": {
      "model_module": "@jupyter-widgets/base",
      "model_module_version": "2.0.0",
      "model_name": "LayoutModel",
      "state": {}
     },
     "b7d141d353ae432cbc6d507b4cc761fc": {
      "model_module": "@jupyter-widgets/controls",
      "model_module_version": "2.0.0",
      "model_name": "ProgressStyleModel",
      "state": {
       "description_width": ""
      }
     },
     "b8114cdc0802417f825ebc53e20a9907": {
      "model_module": "@jupyter-widgets/base",
      "model_module_version": "2.0.0",
      "model_name": "LayoutModel",
      "state": {
       "visibility": "hidden"
      }
     },
     "b81d69335b0e411ebe685fed594d1ccb": {
      "model_module": "@jupyter-widgets/controls",
      "model_module_version": "2.0.0",
      "model_name": "HTMLStyleModel",
      "state": {
       "description_width": "",
       "font_size": null,
       "text_color": null
      }
     },
     "b88d93e2d6674035acf50d2645f38dbb": {
      "model_module": "@jupyter-widgets/base",
      "model_module_version": "2.0.0",
      "model_name": "LayoutModel",
      "state": {
       "visibility": "hidden"
      }
     },
     "b8b819ae46ad4d778c344004825ef741": {
      "model_module": "@jupyter-widgets/base",
      "model_module_version": "2.0.0",
      "model_name": "LayoutModel",
      "state": {}
     },
     "b9547eb9c9f747f29feb98c5f291fde1": {
      "model_module": "@jupyter-widgets/base",
      "model_module_version": "2.0.0",
      "model_name": "LayoutModel",
      "state": {}
     },
     "b9eac0dda9b2472d928059a421a80855": {
      "model_module": "@jupyter-widgets/controls",
      "model_module_version": "2.0.0",
      "model_name": "HTMLStyleModel",
      "state": {
       "description_width": "",
       "font_size": null,
       "text_color": null
      }
     },
     "b9f78a7ce5d84be8807f5a3002a10a2e": {
      "model_module": "@jupyter-widgets/controls",
      "model_module_version": "2.0.0",
      "model_name": "FloatProgressModel",
      "state": {
       "layout": "IPY_MODEL_0f333e89f56948538a116b7f1acf7405",
       "max": 7,
       "style": "IPY_MODEL_7d8ac84eef0a4a6cb601424f77d6e874",
       "value": 7
      }
     },
     "ba56a6fb28e543f2847c94f3332c18ff": {
      "model_module": "@jupyter-widgets/base",
      "model_module_version": "2.0.0",
      "model_name": "LayoutModel",
      "state": {}
     },
     "ba6336e630204e7cb74d892da77ba53f": {
      "model_module": "@jupyter-widgets/controls",
      "model_module_version": "2.0.0",
      "model_name": "HTMLStyleModel",
      "state": {
       "description_width": "",
       "font_size": null,
       "text_color": null
      }
     },
     "ba9492502c1a4a3eac243f1aca0d9662": {
      "model_module": "@jupyter-widgets/controls",
      "model_module_version": "2.0.0",
      "model_name": "FloatProgressModel",
      "state": {
       "layout": "IPY_MODEL_d3b18911fc514249bd3c8772b6fec0b7",
       "max": 14,
       "style": "IPY_MODEL_5fa316284d8b45a1b29818be15369757",
       "value": 14
      }
     },
     "bb11681f9c894d81aafcf333ff415f0c": {
      "model_module": "@jupyter-widgets/base",
      "model_module_version": "2.0.0",
      "model_name": "LayoutModel",
      "state": {}
     },
     "bc63aecdea044b7a9be4c18c849f42e0": {
      "model_module": "@jupyter-widgets/base",
      "model_module_version": "2.0.0",
      "model_name": "LayoutModel",
      "state": {}
     },
     "be0e4b0bfc7941eda0cc5e043b7f7bdf": {
      "model_module": "@jupyter-widgets/base",
      "model_module_version": "2.0.0",
      "model_name": "LayoutModel",
      "state": {
       "visibility": "hidden"
      }
     },
     "bf654c15b7bd47f0a7c43bf429ae3186": {
      "model_module": "@jupyter-widgets/base",
      "model_module_version": "2.0.0",
      "model_name": "LayoutModel",
      "state": {}
     },
     "bfbe1a7a0df543dfbebbe9a7012d12c8": {
      "model_module": "@jupyter-widgets/controls",
      "model_module_version": "2.0.0",
      "model_name": "FloatProgressModel",
      "state": {
       "layout": "IPY_MODEL_09ab3e6c929d46caad2a16e97fa1023f",
       "max": 7,
       "style": "IPY_MODEL_9baccb1160714d34ae99a0c0835649b6",
       "value": 7
      }
     },
     "c012263ec1cf4521b452da06353c7b15": {
      "model_module": "@jupyter-widgets/controls",
      "model_module_version": "2.0.0",
      "model_name": "FloatProgressModel",
      "state": {
       "layout": "IPY_MODEL_7005164846974bb1852ef7bb6a24977b",
       "max": 14,
       "style": "IPY_MODEL_df85560121c34e4d8904bd31bfbaf2bf",
       "value": 14
      }
     },
     "c054f2b58c904a27b7bc028f66f483a0": {
      "model_module": "@jupyter-widgets/controls",
      "model_module_version": "2.0.0",
      "model_name": "HTMLStyleModel",
      "state": {
       "description_width": "",
       "font_size": null,
       "text_color": null
      }
     },
     "c07ecd6a05cc4fe0889dd8ac00cf7f46": {
      "model_module": "@jupyter-widgets/controls",
      "model_module_version": "2.0.0",
      "model_name": "HTMLStyleModel",
      "state": {
       "description_width": "",
       "font_size": null,
       "text_color": null
      }
     },
     "c0814ccd6a504f25b9737f5a1192335a": {
      "model_module": "@jupyter-widgets/base",
      "model_module_version": "2.0.0",
      "model_name": "LayoutModel",
      "state": {
       "visibility": "hidden"
      }
     },
     "c1d67a871e2a42658af9b960238f0fb6": {
      "model_module": "@jupyter-widgets/base",
      "model_module_version": "2.0.0",
      "model_name": "LayoutModel",
      "state": {}
     },
     "c1efff24206b443fa63ecac27bd621e0": {
      "model_module": "@jupyter-widgets/base",
      "model_module_version": "2.0.0",
      "model_name": "LayoutModel",
      "state": {}
     },
     "c237b9f332294a238aa04453b18efc57": {
      "model_module": "@jupyter-widgets/controls",
      "model_module_version": "2.0.0",
      "model_name": "HTMLModel",
      "state": {
       "layout": "IPY_MODEL_33078ada7f68433d9ceee25927bfa6f3",
       "style": "IPY_MODEL_decc66d095614a0bbd6bb657dee18238",
       "value": " 7/7 [00:01&lt;00:00,  4.21it/s]"
      }
     },
     "c25bb076437d4d599e67f59f589d7e56": {
      "model_module": "@jupyter-widgets/controls",
      "model_module_version": "2.0.0",
      "model_name": "HTMLModel",
      "state": {
       "layout": "IPY_MODEL_f07095151d0e45118eaa50ac094ad40b",
       "style": "IPY_MODEL_f76a90276658402c931a0e603da8d36d",
       "value": " 6/7 [00:01&lt;00:00,  4.73it/s]"
      }
     },
     "c3322f9e9c6c454693275b36785f4fa8": {
      "model_module": "@jupyter-widgets/controls",
      "model_module_version": "2.0.0",
      "model_name": "ProgressStyleModel",
      "state": {
       "description_width": ""
      }
     },
     "c36f08d28a0b4e63bd14d487d784fea2": {
      "model_module": "@jupyter-widgets/controls",
      "model_module_version": "2.0.0",
      "model_name": "HTMLStyleModel",
      "state": {
       "description_width": "",
       "font_size": null,
       "text_color": null
      }
     },
     "c3cf297ed4644c688c31dd49a902fd00": {
      "model_module": "@jupyter-widgets/base",
      "model_module_version": "2.0.0",
      "model_name": "LayoutModel",
      "state": {}
     },
     "c40e2d74af1940c5bb78c3b252d848d0": {
      "model_module": "@jupyter-widgets/controls",
      "model_module_version": "2.0.0",
      "model_name": "HTMLStyleModel",
      "state": {
       "description_width": "",
       "font_size": null,
       "text_color": null
      }
     },
     "c4654fde416040ef94e9c106d92150b0": {
      "model_module": "@jupyter-widgets/base",
      "model_module_version": "2.0.0",
      "model_name": "LayoutModel",
      "state": {}
     },
     "c534132dfb974a7b8810e5f40b664d81": {
      "model_module": "@jupyter-widgets/controls",
      "model_module_version": "2.0.0",
      "model_name": "FloatProgressModel",
      "state": {
       "layout": "IPY_MODEL_72dece581d8d4063be7d90b4dd301769",
       "max": 7,
       "style": "IPY_MODEL_38c1fbb3bf8047419cfe230e07c1a513",
       "value": 7
      }
     },
     "c61b439b49ad4e14a6151e0a04e29006": {
      "model_module": "@jupyter-widgets/controls",
      "model_module_version": "2.0.0",
      "model_name": "HTMLStyleModel",
      "state": {
       "description_width": "",
       "font_size": null,
       "text_color": null
      }
     },
     "c6e8509e2f414573adee6378e6f00ccb": {
      "model_module": "@jupyter-widgets/base",
      "model_module_version": "2.0.0",
      "model_name": "LayoutModel",
      "state": {}
     },
     "c6fb1841b1544197a19851480cca015f": {
      "model_module": "@jupyter-widgets/controls",
      "model_module_version": "2.0.0",
      "model_name": "HTMLStyleModel",
      "state": {
       "description_width": "",
       "font_size": null,
       "text_color": null
      }
     },
     "c715487b3db54ab7afa1a7c88b01153a": {
      "model_module": "@jupyter-widgets/controls",
      "model_module_version": "2.0.0",
      "model_name": "ProgressStyleModel",
      "state": {
       "description_width": ""
      }
     },
     "c7155c746d5144ad8cc95820e7cb44d2": {
      "model_module": "@jupyter-widgets/controls",
      "model_module_version": "2.0.0",
      "model_name": "HTMLModel",
      "state": {
       "layout": "IPY_MODEL_c4654fde416040ef94e9c106d92150b0",
       "style": "IPY_MODEL_af8aa9779bbb4d7bac1054e151345c02",
       "value": " 2/7 [20:09&lt;50:24, 604.83s/it]"
      }
     },
     "c7239bef241f4fd9911738b080f094fe": {
      "model_module": "@jupyter-widgets/controls",
      "model_module_version": "2.0.0",
      "model_name": "HTMLStyleModel",
      "state": {
       "description_width": "",
       "font_size": null,
       "text_color": null
      }
     },
     "c75f54ac268a468d84a0a483ed14d16b": {
      "model_module": "@jupyter-widgets/base",
      "model_module_version": "2.0.0",
      "model_name": "LayoutModel",
      "state": {}
     },
     "c771a2a0a6e14ae983e2e9c45bc47114": {
      "model_module": "@jupyter-widgets/base",
      "model_module_version": "2.0.0",
      "model_name": "LayoutModel",
      "state": {}
     },
     "c89fd802d3e34393ae4652304e432b4f": {
      "model_module": "@jupyter-widgets/base",
      "model_module_version": "2.0.0",
      "model_name": "LayoutModel",
      "state": {}
     },
     "ca8e1c4504d54eee911dbd22e980781c": {
      "model_module": "@jupyter-widgets/controls",
      "model_module_version": "2.0.0",
      "model_name": "ProgressStyleModel",
      "state": {
       "description_width": ""
      }
     },
     "ca9f1548eb17477c8e87c0451b8153b8": {
      "model_module": "@jupyter-widgets/base",
      "model_module_version": "2.0.0",
      "model_name": "LayoutModel",
      "state": {}
     },
     "cb2ab03c02c2484d8ac996f1e19c5ffc": {
      "model_module": "@jupyter-widgets/controls",
      "model_module_version": "2.0.0",
      "model_name": "HTMLModel",
      "state": {
       "layout": "IPY_MODEL_ea58016e7d7d459d95316709c42dae76",
       "style": "IPY_MODEL_60ce6c64633c4407b8932a923a0f525f",
       "value": " 6/7 [00:01&lt;00:00,  4.25it/s]"
      }
     },
     "cb4c443307af461eb5f3df869124c903": {
      "model_module": "@jupyter-widgets/controls",
      "model_module_version": "2.0.0",
      "model_name": "FloatProgressModel",
      "state": {
       "layout": "IPY_MODEL_3ee3811ae31641a4b26165984eb36052",
       "max": 7,
       "style": "IPY_MODEL_2796176e9854443bb0c34867d14905d2",
       "value": 7
      }
     },
     "cb6747717f1c4a928cba25abf1e59599": {
      "model_module": "@jupyter-widgets/controls",
      "model_module_version": "2.0.0",
      "model_name": "HTMLModel",
      "state": {
       "layout": "IPY_MODEL_5fc03a7e1c88434faea16beaef23e913",
       "style": "IPY_MODEL_dc24e4e54f3d4c6fb4adc3a8fee446e5",
       "value": "Processing: 100%"
      }
     },
     "cc194caf6e6944e6b9501b68f200e6d8": {
      "model_module": "@jupyter-widgets/base",
      "model_module_version": "2.0.0",
      "model_name": "LayoutModel",
      "state": {}
     },
     "ce0809d040e8435f9e7436a4b70d905b": {
      "model_module": "@jupyter-widgets/controls",
      "model_module_version": "2.0.0",
      "model_name": "FloatProgressModel",
      "state": {
       "layout": "IPY_MODEL_9326facd29014ebab56430efd80684f6",
       "max": 7,
       "style": "IPY_MODEL_03b842ebb1894ca0bfba84042f26c703",
       "value": 7
      }
     },
     "d0e68834330046938f6b2371de73de76": {
      "model_module": "@jupyter-widgets/controls",
      "model_module_version": "2.0.0",
      "model_name": "FloatProgressModel",
      "state": {
       "layout": "IPY_MODEL_ca9f1548eb17477c8e87c0451b8153b8",
       "max": 14,
       "style": "IPY_MODEL_010f9f535a274f97b5dd2700e067a625",
       "value": 14
      }
     },
     "d0f0fd4d1dc346fe8bd6fb5829345a7e": {
      "model_module": "@jupyter-widgets/controls",
      "model_module_version": "2.0.0",
      "model_name": "ProgressStyleModel",
      "state": {
       "description_width": ""
      }
     },
     "d13804b64c8643318151184a36a304a9": {
      "model_module": "@jupyter-widgets/base",
      "model_module_version": "2.0.0",
      "model_name": "LayoutModel",
      "state": {}
     },
     "d1c4f477b032474a92cd4fe764265167": {
      "model_module": "@jupyter-widgets/controls",
      "model_module_version": "2.0.0",
      "model_name": "FloatProgressModel",
      "state": {
       "layout": "IPY_MODEL_177f88db4de74085b905e76a598c7664",
       "max": 14,
       "style": "IPY_MODEL_4000a5b1f0ba4d8db0d0aeb94acde9e0",
       "value": 14
      }
     },
     "d20cafa7d4ed46c09e34ff166584af37": {
      "model_module": "@jupyter-widgets/controls",
      "model_module_version": "2.0.0",
      "model_name": "HTMLModel",
      "state": {
       "layout": "IPY_MODEL_9e9dd794706b4b7db35f1c07c96071a8",
       "style": "IPY_MODEL_f2a0ce5af1c04d8892aba28bfbec9a22",
       "value": " 6/7 [00:01&lt;00:00,  4.29it/s]"
      }
     },
     "d2d3b10372c84f69b57602fb6199577d": {
      "model_module": "@jupyter-widgets/controls",
      "model_module_version": "2.0.0",
      "model_name": "FloatProgressModel",
      "state": {
       "layout": "IPY_MODEL_2127a0b0d2b74ea38149167e50ee64d8",
       "max": 14,
       "style": "IPY_MODEL_792d5492547a4fa0a9a26759604b8f5c",
       "value": 14
      }
     },
     "d38f6ad381ee4321992916398a2fe0dd": {
      "model_module": "@jupyter-widgets/base",
      "model_module_version": "2.0.0",
      "model_name": "LayoutModel",
      "state": {}
     },
     "d3b18911fc514249bd3c8772b6fec0b7": {
      "model_module": "@jupyter-widgets/base",
      "model_module_version": "2.0.0",
      "model_name": "LayoutModel",
      "state": {}
     },
     "d3c1dca86f2349549eab736c1a4e5c95": {
      "model_module": "@jupyter-widgets/controls",
      "model_module_version": "2.0.0",
      "model_name": "HTMLStyleModel",
      "state": {
       "description_width": "",
       "font_size": null,
       "text_color": null
      }
     },
     "d4975544f7c844b2b08f0c1e50231883": {
      "model_module": "@jupyter-widgets/controls",
      "model_module_version": "2.0.0",
      "model_name": "HTMLModel",
      "state": {
       "layout": "IPY_MODEL_07098315be764dd283d07e3488030c4c",
       "style": "IPY_MODEL_e5c64a4fa6fd42f7b82a55751d801d5a",
       "value": " 14/14 [00:03&lt;00:00,  3.06it/s]"
      }
     },
     "d564112415834776a133daca198d9b56": {
      "model_module": "@jupyter-widgets/controls",
      "model_module_version": "2.0.0",
      "model_name": "HTMLStyleModel",
      "state": {
       "description_width": "",
       "font_size": null,
       "text_color": null
      }
     },
     "d5be4a6d560e4ff98ebed8affcb08775": {
      "model_module": "@jupyter-widgets/base",
      "model_module_version": "2.0.0",
      "model_name": "LayoutModel",
      "state": {
       "visibility": "hidden"
      }
     },
     "d7d66f1008d64b1495d7f8a768ecc41e": {
      "model_module": "@jupyter-widgets/base",
      "model_module_version": "2.0.0",
      "model_name": "LayoutModel",
      "state": {
       "visibility": "hidden"
      }
     },
     "d852ff4cceec4a488203fb939e386d02": {
      "model_module": "@jupyter-widgets/controls",
      "model_module_version": "2.0.0",
      "model_name": "FloatProgressModel",
      "state": {
       "layout": "IPY_MODEL_102197b3a5af4f59ab7cdfaafda0b113",
       "max": 14,
       "style": "IPY_MODEL_f903e810412f4d8dbb51302f36f86412",
       "value": 14
      }
     },
     "d975f760b7694d189ab5b92fd5643bf2": {
      "model_module": "@jupyter-widgets/controls",
      "model_module_version": "2.0.0",
      "model_name": "HTMLStyleModel",
      "state": {
       "description_width": "",
       "font_size": null,
       "text_color": null
      }
     },
     "d9a3a33ba91745a0b6c3624d183fe030": {
      "model_module": "@jupyter-widgets/base",
      "model_module_version": "2.0.0",
      "model_name": "LayoutModel",
      "state": {}
     },
     "d9db415163d6403481fb5ac6dc16c970": {
      "model_module": "@jupyter-widgets/base",
      "model_module_version": "2.0.0",
      "model_name": "LayoutModel",
      "state": {}
     },
     "d9f3cc41a2774a7986b6b8ecb44f0a57": {
      "model_module": "@jupyter-widgets/base",
      "model_module_version": "2.0.0",
      "model_name": "LayoutModel",
      "state": {}
     },
     "da115e886e304b2e909be3a2e5756bb1": {
      "model_module": "@jupyter-widgets/base",
      "model_module_version": "2.0.0",
      "model_name": "LayoutModel",
      "state": {}
     },
     "da6a4329c43e4de4a4fb92a22367057f": {
      "model_module": "@jupyter-widgets/controls",
      "model_module_version": "2.0.0",
      "model_name": "HTMLStyleModel",
      "state": {
       "description_width": "",
       "font_size": null,
       "text_color": null
      }
     },
     "daa1142ed8494d0788dd6f8582478a01": {
      "model_module": "@jupyter-widgets/base",
      "model_module_version": "2.0.0",
      "model_name": "LayoutModel",
      "state": {}
     },
     "dac04be675874a889c9e613aec2411f1": {
      "model_module": "@jupyter-widgets/base",
      "model_module_version": "2.0.0",
      "model_name": "LayoutModel",
      "state": {}
     },
     "daccd773c5d240198dfe10bc805a2329": {
      "model_module": "@jupyter-widgets/base",
      "model_module_version": "2.0.0",
      "model_name": "LayoutModel",
      "state": {}
     },
     "db4fdc8480d24a2b8dec35b331fd62a5": {
      "model_module": "@jupyter-widgets/controls",
      "model_module_version": "2.0.0",
      "model_name": "ProgressStyleModel",
      "state": {
       "description_width": ""
      }
     },
     "dc24e4e54f3d4c6fb4adc3a8fee446e5": {
      "model_module": "@jupyter-widgets/controls",
      "model_module_version": "2.0.0",
      "model_name": "HTMLStyleModel",
      "state": {
       "description_width": "",
       "font_size": null,
       "text_color": null
      }
     },
     "dd045871a381455d95354bb0a100761f": {
      "model_module": "@jupyter-widgets/controls",
      "model_module_version": "2.0.0",
      "model_name": "HTMLModel",
      "state": {
       "layout": "IPY_MODEL_d38f6ad381ee4321992916398a2fe0dd",
       "style": "IPY_MODEL_e57efa35d16a44318a6d199b419d761d",
       "value": " 14/14 [00:03&lt;00:00,  3.00it/s]"
      }
     },
     "de0456067b9b4cc99644220f2ad0c992": {
      "model_module": "@jupyter-widgets/base",
      "model_module_version": "2.0.0",
      "model_name": "LayoutModel",
      "state": {}
     },
     "de2b624446d645368b1ac2e60e0c3bf9": {
      "model_module": "@jupyter-widgets/controls",
      "model_module_version": "2.0.0",
      "model_name": "HTMLModel",
      "state": {
       "layout": "IPY_MODEL_72448e7533944b5ab8e673373568d289",
       "style": "IPY_MODEL_4e9a315caefa4ac09c12c6c59330a431",
       "value": "Processing: 100%"
      }
     },
     "de831a1d1d2049dbae2fbe157363eadb": {
      "model_module": "@jupyter-widgets/controls",
      "model_module_version": "2.0.0",
      "model_name": "HTMLModel",
      "state": {
       "layout": "IPY_MODEL_8fa3bc1f682444718302f7412069a5a5",
       "style": "IPY_MODEL_1accf3d7b8ef4acb9e1f1dc4dc4899ad",
       "value": "Processing: 100%"
      }
     },
     "decc66d095614a0bbd6bb657dee18238": {
      "model_module": "@jupyter-widgets/controls",
      "model_module_version": "2.0.0",
      "model_name": "HTMLStyleModel",
      "state": {
       "description_width": "",
       "font_size": null,
       "text_color": null
      }
     },
     "df85560121c34e4d8904bd31bfbaf2bf": {
      "model_module": "@jupyter-widgets/controls",
      "model_module_version": "2.0.0",
      "model_name": "ProgressStyleModel",
      "state": {
       "description_width": ""
      }
     },
     "e15792989d254f0e842de8f0048715d2": {
      "model_module": "@jupyter-widgets/controls",
      "model_module_version": "2.0.0",
      "model_name": "HTMLModel",
      "state": {
       "layout": "IPY_MODEL_8da101c9e144475596384438c757c5df",
       "style": "IPY_MODEL_818c99168b11471caf5f486fdb731c27",
       "value": " 14/14 [00:03&lt;00:00,  2.68it/s]"
      }
     },
     "e2b8699caff3462fbcac42203ee23f77": {
      "model_module": "@jupyter-widgets/controls",
      "model_module_version": "2.0.0",
      "model_name": "HTMLStyleModel",
      "state": {
       "description_width": "",
       "font_size": null,
       "text_color": null
      }
     },
     "e2ea910a72674d6499400d8c59ea3c54": {
      "model_module": "@jupyter-widgets/controls",
      "model_module_version": "2.0.0",
      "model_name": "HTMLModel",
      "state": {
       "layout": "IPY_MODEL_c89fd802d3e34393ae4652304e432b4f",
       "style": "IPY_MODEL_316728c57b664dca8875170996d14cf0",
       "value": " 6/7 [00:01&lt;00:00,  3.94it/s]"
      }
     },
     "e4a9c95c5ec4441bb23fdca2afe0b387": {
      "model_module": "@jupyter-widgets/base",
      "model_module_version": "2.0.0",
      "model_name": "LayoutModel",
      "state": {}
     },
     "e52b4502d5a749a7bd11c67bd45642fb": {
      "model_module": "@jupyter-widgets/base",
      "model_module_version": "2.0.0",
      "model_name": "LayoutModel",
      "state": {}
     },
     "e57005af17584fe0b646012994b400fc": {
      "model_module": "@jupyter-widgets/base",
      "model_module_version": "2.0.0",
      "model_name": "LayoutModel",
      "state": {}
     },
     "e57efa35d16a44318a6d199b419d761d": {
      "model_module": "@jupyter-widgets/controls",
      "model_module_version": "2.0.0",
      "model_name": "HTMLStyleModel",
      "state": {
       "description_width": "",
       "font_size": null,
       "text_color": null
      }
     },
     "e5c64a4fa6fd42f7b82a55751d801d5a": {
      "model_module": "@jupyter-widgets/controls",
      "model_module_version": "2.0.0",
      "model_name": "HTMLStyleModel",
      "state": {
       "description_width": "",
       "font_size": null,
       "text_color": null
      }
     },
     "e5fe7fdcaa0241b9a0e8229a5475f08f": {
      "model_module": "@jupyter-widgets/base",
      "model_module_version": "2.0.0",
      "model_name": "LayoutModel",
      "state": {}
     },
     "e67dfa79b5ed45b3a3bc6c197ab1c36a": {
      "model_module": "@jupyter-widgets/base",
      "model_module_version": "2.0.0",
      "model_name": "LayoutModel",
      "state": {}
     },
     "e8b60bb3ede5461985e54054d1d28302": {
      "model_module": "@jupyter-widgets/controls",
      "model_module_version": "2.0.0",
      "model_name": "FloatProgressModel",
      "state": {
       "layout": "IPY_MODEL_e67dfa79b5ed45b3a3bc6c197ab1c36a",
       "max": 13,
       "style": "IPY_MODEL_2c974ac0057749359b8895737340d46f",
       "value": 13
      }
     },
     "e8b728ed86fc4adcb1dfc03610ae98ad": {
      "model_module": "@jupyter-widgets/controls",
      "model_module_version": "2.0.0",
      "model_name": "ProgressStyleModel",
      "state": {
       "description_width": ""
      }
     },
     "ea58016e7d7d459d95316709c42dae76": {
      "model_module": "@jupyter-widgets/base",
      "model_module_version": "2.0.0",
      "model_name": "LayoutModel",
      "state": {}
     },
     "eaa259c1212e4eb9b9e7ff712adb5d03": {
      "model_module": "@jupyter-widgets/controls",
      "model_module_version": "2.0.0",
      "model_name": "HTMLModel",
      "state": {
       "layout": "IPY_MODEL_4c17785766e348c38aabe35597d22976",
       "style": "IPY_MODEL_2831f97120d74f1e82d358b9ba9bb927",
       "value": " 14/14 [00:03&lt;00:00,  2.64it/s]"
      }
     },
     "eb9529076fb744a4a699c9eeac10ce0b": {
      "model_module": "@jupyter-widgets/controls",
      "model_module_version": "2.0.0",
      "model_name": "HTMLModel",
      "state": {
       "layout": "IPY_MODEL_2f10791f62ce452fbaf1e06d6c1da429",
       "style": "IPY_MODEL_b81d69335b0e411ebe685fed594d1ccb",
       "value": "Processing: 100%"
      }
     },
     "ecd05e7d5e894f94aa587f8896e2fb1f": {
      "model_module": "@jupyter-widgets/controls",
      "model_module_version": "2.0.0",
      "model_name": "HTMLModel",
      "state": {
       "layout": "IPY_MODEL_5855f78a183145e88de2509e1f8764a0",
       "style": "IPY_MODEL_5330ecf487de4161bdd3464253a2b665",
       "value": "Processing: 100%"
      }
     },
     "ed366ae8c89e4040a407d8c64d4dfd07": {
      "model_module": "@jupyter-widgets/base",
      "model_module_version": "2.0.0",
      "model_name": "LayoutModel",
      "state": {}
     },
     "ed96bea381fc4c20983d9380c3bcde73": {
      "model_module": "@jupyter-widgets/controls",
      "model_module_version": "2.0.0",
      "model_name": "HTMLModel",
      "state": {
       "layout": "IPY_MODEL_3cc5d1594a3a49ebb04b90a0789687fd",
       "style": "IPY_MODEL_344d4dd7658d4f12bd1d8180793a5131",
       "value": "Processing: 100%"
      }
     },
     "ee0d2636ec9a4e01879e8433bd741a8d": {
      "model_module": "@jupyter-widgets/controls",
      "model_module_version": "2.0.0",
      "model_name": "HTMLModel",
      "state": {
       "layout": "IPY_MODEL_932c11c4f88b41f99bb2bc6ebd8a2b83",
       "style": "IPY_MODEL_9ed41f30836a46b88a20fe045a7b1522",
       "value": "Processing: 100%"
      }
     },
     "efbe2f19b43745cf8419e1a19532faf9": {
      "model_module": "@jupyter-widgets/controls",
      "model_module_version": "2.0.0",
      "model_name": "HTMLStyleModel",
      "state": {
       "description_width": "",
       "font_size": null,
       "text_color": null
      }
     },
     "efcf03e3cae041ceaa1425212b475090": {
      "model_module": "@jupyter-widgets/controls",
      "model_module_version": "2.0.0",
      "model_name": "HTMLStyleModel",
      "state": {
       "description_width": "",
       "font_size": null,
       "text_color": null
      }
     },
     "f04c8a77993e436ab46b97860f58c78b": {
      "model_module": "@jupyter-widgets/controls",
      "model_module_version": "2.0.0",
      "model_name": "HTMLStyleModel",
      "state": {
       "description_width": "",
       "font_size": null,
       "text_color": null
      }
     },
     "f07095151d0e45118eaa50ac094ad40b": {
      "model_module": "@jupyter-widgets/base",
      "model_module_version": "2.0.0",
      "model_name": "LayoutModel",
      "state": {}
     },
     "f0a9f34992504cdfaa482f79f6d5d6c6": {
      "model_module": "@jupyter-widgets/controls",
      "model_module_version": "2.0.0",
      "model_name": "ProgressStyleModel",
      "state": {
       "description_width": ""
      }
     },
     "f13cfcf5ff504e9fbf71a6d474ff9054": {
      "model_module": "@jupyter-widgets/controls",
      "model_module_version": "2.0.0",
      "model_name": "ProgressStyleModel",
      "state": {
       "description_width": ""
      }
     },
     "f1d5147994b3482db40e30d9b9761693": {
      "model_module": "@jupyter-widgets/controls",
      "model_module_version": "2.0.0",
      "model_name": "HTMLModel",
      "state": {
       "layout": "IPY_MODEL_4a054332314e412f849cec5df44d7065",
       "style": "IPY_MODEL_f04c8a77993e436ab46b97860f58c78b",
       "value": "Processing: 100%"
      }
     },
     "f27381dcb3cb40db89e196bc0eba70bf": {
      "model_module": "@jupyter-widgets/controls",
      "model_module_version": "2.0.0",
      "model_name": "ProgressStyleModel",
      "state": {
       "description_width": ""
      }
     },
     "f2a0ce5af1c04d8892aba28bfbec9a22": {
      "model_module": "@jupyter-widgets/controls",
      "model_module_version": "2.0.0",
      "model_name": "HTMLStyleModel",
      "state": {
       "description_width": "",
       "font_size": null,
       "text_color": null
      }
     },
     "f2c3a2746ae24d97b361e558fe6f036d": {
      "model_module": "@jupyter-widgets/base",
      "model_module_version": "2.0.0",
      "model_name": "LayoutModel",
      "state": {}
     },
     "f2d1ae8480454dd0a5ec23e5ac3b253c": {
      "model_module": "@jupyter-widgets/base",
      "model_module_version": "2.0.0",
      "model_name": "LayoutModel",
      "state": {
       "visibility": "hidden"
      }
     },
     "f3e38395d8334fec883bc88a5ee80842": {
      "model_module": "@jupyter-widgets/base",
      "model_module_version": "2.0.0",
      "model_name": "LayoutModel",
      "state": {}
     },
     "f47b76ce45b84d95bf4614e2f5bc7a91": {
      "model_module": "@jupyter-widgets/base",
      "model_module_version": "2.0.0",
      "model_name": "LayoutModel",
      "state": {
       "visibility": "hidden"
      }
     },
     "f5f39eeadd1f4c78b990459a35ad3e06": {
      "model_module": "@jupyter-widgets/base",
      "model_module_version": "2.0.0",
      "model_name": "LayoutModel",
      "state": {
       "visibility": "hidden"
      }
     },
     "f622e651978a41b9ae7661f7778c7fd0": {
      "model_module": "@jupyter-widgets/controls",
      "model_module_version": "2.0.0",
      "model_name": "HTMLModel",
      "state": {
       "layout": "IPY_MODEL_90b7ac3648aa4b70974ace7dfffeb79f",
       "style": "IPY_MODEL_d564112415834776a133daca198d9b56",
       "value": " 14/14 [00:03&lt;00:00,  2.99it/s]"
      }
     },
     "f667d8e999054c56ae59ffc89334a2b3": {
      "model_module": "@jupyter-widgets/controls",
      "model_module_version": "2.0.0",
      "model_name": "FloatProgressModel",
      "state": {
       "layout": "IPY_MODEL_bc63aecdea044b7a9be4c18c849f42e0",
       "max": 7,
       "style": "IPY_MODEL_9e0daac72408471c9add0017a5f84540",
       "value": 7
      }
     },
     "f75163d973244ab7aacd020a64eb8b72": {
      "model_module": "@jupyter-widgets/base",
      "model_module_version": "2.0.0",
      "model_name": "LayoutModel",
      "state": {}
     },
     "f76a90276658402c931a0e603da8d36d": {
      "model_module": "@jupyter-widgets/controls",
      "model_module_version": "2.0.0",
      "model_name": "HTMLStyleModel",
      "state": {
       "description_width": "",
       "font_size": null,
       "text_color": null
      }
     },
     "f78dcdeec7534420b481a784315db2c4": {
      "model_module": "@jupyter-widgets/controls",
      "model_module_version": "2.0.0",
      "model_name": "HTMLStyleModel",
      "state": {
       "description_width": "",
       "font_size": null,
       "text_color": null
      }
     },
     "f863943f897044c78b5a77bd6e3c8d5d": {
      "model_module": "@jupyter-widgets/controls",
      "model_module_version": "2.0.0",
      "model_name": "HTMLStyleModel",
      "state": {
       "description_width": "",
       "font_size": null,
       "text_color": null
      }
     },
     "f903e810412f4d8dbb51302f36f86412": {
      "model_module": "@jupyter-widgets/controls",
      "model_module_version": "2.0.0",
      "model_name": "ProgressStyleModel",
      "state": {
       "description_width": ""
      }
     },
     "f9682892e9e044589f379eb06a9dd016": {
      "model_module": "@jupyter-widgets/base",
      "model_module_version": "2.0.0",
      "model_name": "LayoutModel",
      "state": {
       "visibility": "hidden"
      }
     },
     "f9c4796cc98f47679ddf1d5866c73d04": {
      "model_module": "@jupyter-widgets/controls",
      "model_module_version": "2.0.0",
      "model_name": "FloatProgressModel",
      "state": {
       "layout": "IPY_MODEL_6c8fdb6158f74a42bb4dc18835b9c568",
       "max": 7,
       "style": "IPY_MODEL_d0f0fd4d1dc346fe8bd6fb5829345a7e",
       "value": 7
      }
     },
     "fa49bdbc30924cfba0559db82d9e4d00": {
      "model_module": "@jupyter-widgets/base",
      "model_module_version": "2.0.0",
      "model_name": "LayoutModel",
      "state": {}
     },
     "faed1bc83c81451db80487dfe7868a23": {
      "model_module": "@jupyter-widgets/controls",
      "model_module_version": "2.0.0",
      "model_name": "HTMLModel",
      "state": {
       "layout": "IPY_MODEL_6b0392064cef442c87f2fddc3f0c15ca",
       "style": "IPY_MODEL_8c489931d3af458fa47d5dad7a480c7b",
       "value": " 14/14 [00:03&lt;00:00,  2.62it/s]"
      }
     },
     "fd2b8d918c2b424f9a52b2cca70fa749": {
      "model_module": "@jupyter-widgets/controls",
      "model_module_version": "2.0.0",
      "model_name": "ProgressStyleModel",
      "state": {
       "description_width": ""
      }
     },
     "fd39c396ccb342cb8cd9abc3b5b04738": {
      "model_module": "@jupyter-widgets/base",
      "model_module_version": "2.0.0",
      "model_name": "LayoutModel",
      "state": {}
     },
     "fe431cbfbc26411695a6422287362b29": {
      "model_module": "@jupyter-widgets/base",
      "model_module_version": "2.0.0",
      "model_name": "LayoutModel",
      "state": {}
     },
     "fe445739897f4dd3a412952f2c1d04f7": {
      "model_module": "@jupyter-widgets/controls",
      "model_module_version": "2.0.0",
      "model_name": "FloatProgressModel",
      "state": {
       "layout": "IPY_MODEL_3bf83f10161b444f955fe5b44a6125aa",
       "max": 14,
       "style": "IPY_MODEL_fd2b8d918c2b424f9a52b2cca70fa749",
       "value": 14
      }
     },
     "fea1f5b5e61a47c3a5bf16fe6988c283": {
      "model_module": "@jupyter-widgets/base",
      "model_module_version": "2.0.0",
      "model_name": "LayoutModel",
      "state": {}
     },
     "fecfe64b50a44aa7bb4a8c7ad310cdb7": {
      "model_module": "@jupyter-widgets/controls",
      "model_module_version": "2.0.0",
      "model_name": "HTMLStyleModel",
      "state": {
       "description_width": "",
       "font_size": null,
       "text_color": null
      }
     },
     "ff3cd211a1854ddcba02aca42c495b32": {
      "model_module": "@jupyter-widgets/controls",
      "model_module_version": "2.0.0",
      "model_name": "ProgressStyleModel",
      "state": {
       "description_width": ""
      }
     },
     "ffc3a05d585743a3913f399977ca7fe4": {
      "model_module": "@jupyter-widgets/base",
      "model_module_version": "2.0.0",
      "model_name": "LayoutModel",
      "state": {
       "visibility": "hidden"
      }
     }
    },
    "version_major": 2,
    "version_minor": 0
   }
  }
 },
 "nbformat": 4,
 "nbformat_minor": 5
}
